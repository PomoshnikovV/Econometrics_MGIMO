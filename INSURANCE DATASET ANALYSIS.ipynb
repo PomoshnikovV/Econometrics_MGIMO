{
 "cells": [
  {
   "cell_type": "code",
   "execution_count": 1,
   "id": "9fc33f5a",
   "metadata": {},
   "outputs": [],
   "source": [
    "import scipy.stats as stats \n",
    "import statsmodels.stats.api as sms\n",
    "import numpy as np #linear algebra \n",
    "import pandas as pd #data processing, CSV file I/O (e.g. pd.read_csv) \n",
    "import matplotlib.pyplot as plt #интерактивная визуализация \n",
    "import statsmodels.api as sm # regression fitting via matrices of regression design \n",
    "import statsmodels.formula.api as smf # data visualization, regression fitting \n",
    "from statsmodels.iolib.summary2 import summary_params # вывод результатов тестирования \n",
    "from statsmodels.iolib.summary2 import summary_col # вывод результатов тестирования \n",
    "from statsmodels.stats.outliers_influence import variance_inflation_factor # VIF \n",
    "import io #преобразование строк в данные\n",
    "import seaborn as sns \n",
    "import re #библиотека для работы с регулярными выражениями\n",
    "import statsmodels.stats.diagnostic as dg"
   ]
  },
  {
   "cell_type": "markdown",
   "id": "5b2bff67",
   "metadata": {},
   "source": [
    "## Анализ датасета \"Insurance\"\n",
    "$age$ - возраст\n",
    "\\\n",
    "$sex$ - пол\n",
    "\\\n",
    "$bmi$ - индекс массы тела (величина, позволяющая оценить степень соответствия массы человека и его роста, идеальным считаются значения 18.5 - 24.9)\n",
    "\\\n",
    "$children$ - количество детей, охваченных медицинским страхованием\n",
    "\\\n",
    "$smoker$ - курящий/не курящий\n",
    "\\\n",
    "$region$ - регион проживания\n",
    "\\\n",
    "$charges$ - индивидуальные медицинские расходы, оплачиваемые медицинским страхованием"
   ]
  },
  {
   "cell_type": "code",
   "execution_count": 2,
   "id": "c73c4bf3",
   "metadata": {},
   "outputs": [],
   "source": [
    "df  =  pd.read_csv('https://raw.githubusercontent.com/PomoshnikovV/Econometrics_MGIMO/main/insurance.csv') "
   ]
  },
  {
   "cell_type": "code",
   "execution_count": 3,
   "id": "b7691b05",
   "metadata": {},
   "outputs": [
    {
     "data": {
      "text/html": [
       "<div>\n",
       "<style scoped>\n",
       "    .dataframe tbody tr th:only-of-type {\n",
       "        vertical-align: middle;\n",
       "    }\n",
       "\n",
       "    .dataframe tbody tr th {\n",
       "        vertical-align: top;\n",
       "    }\n",
       "\n",
       "    .dataframe thead th {\n",
       "        text-align: right;\n",
       "    }\n",
       "</style>\n",
       "<table border=\"1\" class=\"dataframe\">\n",
       "  <thead>\n",
       "    <tr style=\"text-align: right;\">\n",
       "      <th></th>\n",
       "      <th>age</th>\n",
       "      <th>sex</th>\n",
       "      <th>bmi</th>\n",
       "      <th>children</th>\n",
       "      <th>smoker</th>\n",
       "      <th>region</th>\n",
       "      <th>charges</th>\n",
       "    </tr>\n",
       "  </thead>\n",
       "  <tbody>\n",
       "    <tr>\n",
       "      <th>0</th>\n",
       "      <td>19</td>\n",
       "      <td>1</td>\n",
       "      <td>27.900</td>\n",
       "      <td>0</td>\n",
       "      <td>1</td>\n",
       "      <td>southwest</td>\n",
       "      <td>16884.92400</td>\n",
       "    </tr>\n",
       "    <tr>\n",
       "      <th>1</th>\n",
       "      <td>18</td>\n",
       "      <td>0</td>\n",
       "      <td>33.770</td>\n",
       "      <td>1</td>\n",
       "      <td>0</td>\n",
       "      <td>southeast</td>\n",
       "      <td>1725.55230</td>\n",
       "    </tr>\n",
       "    <tr>\n",
       "      <th>2</th>\n",
       "      <td>28</td>\n",
       "      <td>0</td>\n",
       "      <td>33.000</td>\n",
       "      <td>3</td>\n",
       "      <td>0</td>\n",
       "      <td>southeast</td>\n",
       "      <td>4449.46200</td>\n",
       "    </tr>\n",
       "    <tr>\n",
       "      <th>3</th>\n",
       "      <td>33</td>\n",
       "      <td>0</td>\n",
       "      <td>22.705</td>\n",
       "      <td>0</td>\n",
       "      <td>0</td>\n",
       "      <td>northwest</td>\n",
       "      <td>21984.47061</td>\n",
       "    </tr>\n",
       "    <tr>\n",
       "      <th>4</th>\n",
       "      <td>32</td>\n",
       "      <td>0</td>\n",
       "      <td>28.880</td>\n",
       "      <td>0</td>\n",
       "      <td>0</td>\n",
       "      <td>northwest</td>\n",
       "      <td>3866.85520</td>\n",
       "    </tr>\n",
       "    <tr>\n",
       "      <th>...</th>\n",
       "      <td>...</td>\n",
       "      <td>...</td>\n",
       "      <td>...</td>\n",
       "      <td>...</td>\n",
       "      <td>...</td>\n",
       "      <td>...</td>\n",
       "      <td>...</td>\n",
       "    </tr>\n",
       "    <tr>\n",
       "      <th>1333</th>\n",
       "      <td>50</td>\n",
       "      <td>0</td>\n",
       "      <td>30.970</td>\n",
       "      <td>3</td>\n",
       "      <td>0</td>\n",
       "      <td>northwest</td>\n",
       "      <td>10600.54830</td>\n",
       "    </tr>\n",
       "    <tr>\n",
       "      <th>1334</th>\n",
       "      <td>18</td>\n",
       "      <td>1</td>\n",
       "      <td>31.920</td>\n",
       "      <td>0</td>\n",
       "      <td>0</td>\n",
       "      <td>northeast</td>\n",
       "      <td>2205.98080</td>\n",
       "    </tr>\n",
       "    <tr>\n",
       "      <th>1335</th>\n",
       "      <td>18</td>\n",
       "      <td>1</td>\n",
       "      <td>36.850</td>\n",
       "      <td>0</td>\n",
       "      <td>0</td>\n",
       "      <td>southeast</td>\n",
       "      <td>1629.83350</td>\n",
       "    </tr>\n",
       "    <tr>\n",
       "      <th>1336</th>\n",
       "      <td>21</td>\n",
       "      <td>1</td>\n",
       "      <td>25.800</td>\n",
       "      <td>0</td>\n",
       "      <td>0</td>\n",
       "      <td>southwest</td>\n",
       "      <td>2007.94500</td>\n",
       "    </tr>\n",
       "    <tr>\n",
       "      <th>1337</th>\n",
       "      <td>61</td>\n",
       "      <td>1</td>\n",
       "      <td>29.070</td>\n",
       "      <td>0</td>\n",
       "      <td>1</td>\n",
       "      <td>northwest</td>\n",
       "      <td>29141.36030</td>\n",
       "    </tr>\n",
       "  </tbody>\n",
       "</table>\n",
       "<p>1338 rows × 7 columns</p>\n",
       "</div>"
      ],
      "text/plain": [
       "      age  sex     bmi  children  smoker     region      charges\n",
       "0      19    1  27.900         0       1  southwest  16884.92400\n",
       "1      18    0  33.770         1       0  southeast   1725.55230\n",
       "2      28    0  33.000         3       0  southeast   4449.46200\n",
       "3      33    0  22.705         0       0  northwest  21984.47061\n",
       "4      32    0  28.880         0       0  northwest   3866.85520\n",
       "...   ...  ...     ...       ...     ...        ...          ...\n",
       "1333   50    0  30.970         3       0  northwest  10600.54830\n",
       "1334   18    1  31.920         0       0  northeast   2205.98080\n",
       "1335   18    1  36.850         0       0  southeast   1629.83350\n",
       "1336   21    1  25.800         0       0  southwest   2007.94500\n",
       "1337   61    1  29.070         0       1  northwest  29141.36030\n",
       "\n",
       "[1338 rows x 7 columns]"
      ]
     },
     "execution_count": 3,
     "metadata": {},
     "output_type": "execute_result"
    }
   ],
   "source": [
    "df['smoker']=df.apply(lambda x: 1 if x['smoker'] == 'yes' else 0, axis=1)\n",
    "df['sex']=df.apply(lambda x: 1 if x['sex'] == 'female' else 0, axis=1)\n",
    "df['charges']=df['charges']\n",
    "df"
   ]
  },
  {
   "cell_type": "markdown",
   "id": "782b70a9",
   "metadata": {},
   "source": [
    "### Какие существуют типы медицинской страховки?\n",
    "HMO — health maintenance organizations. Стоимость медицинской страховки в США этого типа самая низкая. А все из-за очень ограниченного количества врачей и лечебных учреждений, которые вы можете посещать. Вы должны будете лечиться в заведениях одной сети, и у вас будет основной врач-терапевт, который будет выдавать направления к другим специалистам. Покрытие не включает услуги, оказываемые вне сети, кроме случаев оказания экстренной медицинской помощи. \n",
    "\n",
    "PPO — preferred provider organizations. Сеть учреждений все так же присутствует, однако она гораздо шире. Лечиться вы можете как в учреждениях сети, так и вне её (но в сети условия будут куда более выгодными). Также вам не нужно брать направление к специалистам, они примут вас по страховке и без него. Купить медицинскую страховку в США такого типа обойдется куда дороже, чем все остальные. \n",
    "\n",
    "Существуют также другие, менее популярные типы страховок. Point-of-service (POS) предполагает, что, используя услуги врачей и больниц из сети, вы будете платить меньше. Exclusive Provider Organization (EPO) — то же самое, что и HMO, только без основного врача и обязательных направлений к специалистам."
   ]
  },
  {
   "cell_type": "markdown",
   "id": "1373f6c5",
   "metadata": {},
   "source": [
    "### Из-за того, что страховки в США различаются по стоимости, на графике ниже можно заметить, что данные расположены как бы \"по уровням\". Большинство пользуется страховкой по самой низкой цене"
   ]
  },
  {
   "cell_type": "code",
   "execution_count": 4,
   "id": "275bc645",
   "metadata": {},
   "outputs": [
    {
     "name": "stdout",
     "output_type": "stream",
     "text": [
      "Подогнанная прямая\n"
     ]
    },
    {
     "data": {
      "image/png": "[encoded data removed]",
      "text/plain": [
       "<Figure size 432x288 with 1 Axes>"
      ]
     },
     "metadata": {
      "needs_background": "light"
     },
     "output_type": "display_data"
    }
   ],
   "source": [
    "sns.regplot(data = df ,  y = 'charges' ,  x = 'age' , order = 2, ci = None ,  line_kws = { \"color\":\"r\"}) \n",
    "print('Подогнанная прямая') "
   ]
  },
  {
   "cell_type": "markdown",
   "id": "05c084ea",
   "metadata": {},
   "source": [
    "### Наблюдается \"возрастающая отдача\" от возраста на траты на медицинскую страховку. Логично, чем старше становишься, тем у тебя больше изношены суставы, тем медленнее восстанавливается организм при травмах и, следовательно, больше трат приходится на медицинское страхование."
   ]
  },
  {
   "cell_type": "markdown",
   "id": "3811c5a9",
   "metadata": {},
   "source": [
    "## Курить невыгодно. Те, кто курят, платят за мед страховку намного больше (см. график ниже)"
   ]
  },
  {
   "cell_type": "code",
   "execution_count": 5,
   "id": "4d9d7aef",
   "metadata": {
    "scrolled": true
   },
   "outputs": [
    {
     "name": "stdout",
     "output_type": "stream",
     "text": [
      "Подогнанная прямая\n"
     ]
    },
    {
     "data": {
      "image/png": "[encoded data removed]",
      "text/plain": [
       "<Figure size 432x288 with 1 Axes>"
      ]
     },
     "metadata": {
      "needs_background": "light"
     },
     "output_type": "display_data"
    }
   ],
   "source": [
    "sns.regplot(data = df ,  y = 'charges' ,  x = 'smoker' , order = 1, ci = None ,  line_kws = { \"color\":\"r\"}) \n",
    "print('Подогнанная прямая') "
   ]
  },
  {
   "cell_type": "code",
   "execution_count": 6,
   "id": "8047b99f",
   "metadata": {},
   "outputs": [
    {
     "name": "stdout",
     "output_type": "stream",
     "text": [
      "Подогнанная прямая\n"
     ]
    },
    {
     "data": {
      "image/png": "[encoded data removed]",
      "text/plain": [
       "<Figure size 404.5x360 with 1 Axes>"
      ]
     },
     "metadata": {
      "needs_background": "light"
     },
     "output_type": "display_data"
    }
   ],
   "source": [
    "sns.lmplot(data = df ,  y = 'charges' ,  x = 'age' , order = 1, ci = None ,  hue='smoker') \n",
    "print('Подогнанная прямая') "
   ]
  },
  {
   "cell_type": "markdown",
   "id": "bfa3af95",
   "metadata": {},
   "source": [
    "## Пухлым тоже не особо выгодно быть (см. график ниже) - предварительный вывод, пока что непонятно, действительно ли есть зависимость между bmi и charges"
   ]
  },
  {
   "cell_type": "code",
   "execution_count": 7,
   "id": "03ec048e",
   "metadata": {},
   "outputs": [
    {
     "name": "stdout",
     "output_type": "stream",
     "text": [
      "Подогнанная прямая\n"
     ]
    },
    {
     "data": {
      "image/png": "[encoded data removed]",
      "text/plain": [
       "<Figure size 432x288 with 1 Axes>"
      ]
     },
     "metadata": {
      "needs_background": "light"
     },
     "output_type": "display_data"
    }
   ],
   "source": [
    "sns.regplot(data = df ,  y = 'charges' ,  x = 'bmi' , order = 2, ci = None ,  line_kws = { \"color\":\"r\"}) \n",
    "print('Подогнанная прямая')"
   ]
  },
  {
   "cell_type": "markdown",
   "id": "67f9e926",
   "metadata": {},
   "source": [
    "### Однако на данном графике наблюдается гетероскедастичность"
   ]
  },
  {
   "cell_type": "markdown",
   "id": "1b5c4649",
   "metadata": {},
   "source": [
    "## Важно отметить, что чем старше человек, тем больше в среднем детей он имеет (до определенного возраста), которые при этом вписаны в страховку. Однако наблюдается \"убывающая отдача\", т.к. чем старше мы становимся, тем меньше вероятность, что родится новый ребенок, а уже повзрослевшие дети достигают совершеннолетия и имеют уже собственную мед страховку. (вывод сделан без оценки t набл., дальше проверим, действительно ли данный тезис является верным)"
   ]
  },
  {
   "cell_type": "code",
   "execution_count": 8,
   "id": "f7aa4200",
   "metadata": {
    "scrolled": false
   },
   "outputs": [
    {
     "name": "stdout",
     "output_type": "stream",
     "text": [
      "Подогнанная прямая\n"
     ]
    },
    {
     "data": {
      "image/png": "[encoded data removed]",
      "text/plain": [
       "<Figure size 432x288 with 1 Axes>"
      ]
     },
     "metadata": {
      "needs_background": "light"
     },
     "output_type": "display_data"
    }
   ],
   "source": [
    "sns.regplot(data = df ,  y = 'children' ,  x = 'age' , order = 2, ci = None ,  line_kws = { \"color\":\"r\"}) \n",
    "print('Подогнанная прямая') "
   ]
  },
  {
   "cell_type": "code",
   "execution_count": 9,
   "id": "559239a1",
   "metadata": {},
   "outputs": [
    {
     "name": "stdout",
     "output_type": "stream",
     "text": [
      "Подогнанная прямая\n"
     ]
    },
    {
     "data": {
      "image/png": "[encoded data removed]",
      "text/plain": [
       "<Figure size 432x288 with 1 Axes>"
      ]
     },
     "metadata": {
      "needs_background": "light"
     },
     "output_type": "display_data"
    }
   ],
   "source": [
    "sns.regplot(data = df ,  y = 'charges' ,  x = 'children' , order = 1, ci = None ,  line_kws = { \"color\":\"r\"}) \n",
    "print('Подогнанная прямая') "
   ]
  },
  {
   "cell_type": "markdown",
   "id": "624220e1",
   "metadata": {},
   "source": [
    "## Надо будет проверить, действительно ли на юго-востоке зарабатывают больше"
   ]
  },
  {
   "cell_type": "code",
   "execution_count": 10,
   "id": "f668a462",
   "metadata": {
    "scrolled": false
   },
   "outputs": [
    {
     "data": {
      "text/plain": [
       "<seaborn.axisgrid.FacetGrid at 0x22e6c213310>"
      ]
     },
     "execution_count": 10,
     "metadata": {},
     "output_type": "execute_result"
    },
    {
     "data": {
      "image/png": "[encoded data removed]",
      "text/plain": [
       "<Figure size 447.25x360 with 1 Axes>"
      ]
     },
     "metadata": {
      "needs_background": "light"
     },
     "output_type": "display_data"
    }
   ],
   "source": [
    "sns.lmplot(data=df, y='charges',x='age', ci=None, hue='region')"
   ]
  },
  {
   "cell_type": "markdown",
   "id": "1064695a",
   "metadata": {},
   "source": [
    "## Зависимость трат на страховку в зависимости от пола пока что не очевидна (см. графики ниже)"
   ]
  },
  {
   "cell_type": "code",
   "execution_count": 11,
   "id": "bb6980f1",
   "metadata": {},
   "outputs": [
    {
     "name": "stdout",
     "output_type": "stream",
     "text": [
      "Подогнанная прямая\n"
     ]
    },
    {
     "data": {
      "image/png": "[encoded data removed]",
      "text/plain": [
       "<Figure size 432x288 with 1 Axes>"
      ]
     },
     "metadata": {
      "needs_background": "light"
     },
     "output_type": "display_data"
    }
   ],
   "source": [
    "sns.regplot(data = df ,  y = 'charges' ,  x = 'sex' , order = 1, ci = None ,  line_kws = { \"color\":\"r\"}) \n",
    "print('Подогнанная прямая')"
   ]
  },
  {
   "cell_type": "code",
   "execution_count": 12,
   "id": "e758740c",
   "metadata": {
    "scrolled": false
   },
   "outputs": [
    {
     "name": "stdout",
     "output_type": "stream",
     "text": [
      "Подогнанная прямая\n"
     ]
    },
    {
     "data": {
      "image/png": "[encoded data removed]",
      "text/plain": [
       "<Figure size 402.375x360 with 1 Axes>"
      ]
     },
     "metadata": {
      "needs_background": "light"
     },
     "output_type": "display_data"
    }
   ],
   "source": [
    "sns.lmplot(data = df ,  y = 'charges' ,  x = 'age' , order = 1, ci = None ,  hue='sex') \n",
    "print('Подогнанная прямая') "
   ]
  },
  {
   "cell_type": "markdown",
   "id": "3d487a88",
   "metadata": {},
   "source": [
    "## Спецификация модели:\n",
    "$$\n",
    "charges = \\beta_0 + \\beta_1*age +\\beta_2*age^2 +\\beta_3*bmi + \\beta_4*bmi^2 + \\beta_5*children + \\beta_6*smoker + \\beta_7*sex\n",
    "$$"
   ]
  },
  {
   "cell_type": "code",
   "execution_count": 13,
   "id": "f941dc59",
   "metadata": {
    "scrolled": false
   },
   "outputs": [
    {
     "data": {
      "text/plain": [
       "Intercept     -13890.629\n",
       "age              -57.845\n",
       "I(age ** 2)        3.960\n",
       "bmi              788.787\n",
       "I(bmi ** 2)       -7.451\n",
       "children         642.427\n",
       "smoker         23857.990\n",
       "sex              137.073\n",
       "dtype: float64"
      ]
     },
     "execution_count": 13,
     "metadata": {},
     "output_type": "execute_result"
    }
   ],
   "source": [
    "fitted = smf.ols(formula = 'charges~age+I(age**2)+bmi+I(bmi**2)+children+smoker+sex',  data = df ).fit() \n",
    "# коэффициенты с округлением \n",
    "fitted.params.round(3) "
   ]
  },
  {
   "cell_type": "code",
   "execution_count": 14,
   "id": "03e6acf8",
   "metadata": {},
   "outputs": [
    {
     "data": {
      "text/html": [
       "<table class=\"simpletable\">\n",
       "<tr>\n",
       "       <td></td>          <th>coef</th>     <th>std err</th>      <th>t</th>      <th>P>|t|</th>  <th>[0.025</th>    <th>0.975]</th>  \n",
       "</tr>\n",
       "<tr>\n",
       "  <th>Intercept</th>   <td>-1.389e+04</td> <td> 3504.950</td> <td>   -3.963</td> <td> 0.000</td> <td>-2.08e+04</td> <td>-7014.795</td>\n",
       "</tr>\n",
       "<tr>\n",
       "  <th>age</th>         <td>  -57.8446</td> <td>   80.970</td> <td>   -0.714</td> <td> 0.475</td> <td> -216.688</td> <td>  100.999</td>\n",
       "</tr>\n",
       "<tr>\n",
       "  <th>I(age ** 2)</th> <td>    3.9596</td> <td>    1.010</td> <td>    3.921</td> <td> 0.000</td> <td>    1.978</td> <td>    5.941</td>\n",
       "</tr>\n",
       "<tr>\n",
       "  <th>bmi</th>         <td>  788.7872</td> <td>  207.180</td> <td>    3.807</td> <td> 0.000</td> <td>  382.352</td> <td> 1195.223</td>\n",
       "</tr>\n",
       "<tr>\n",
       "  <th>I(bmi ** 2)</th> <td>   -7.4509</td> <td>    3.254</td> <td>   -2.289</td> <td> 0.022</td> <td>  -13.835</td> <td>   -1.066</td>\n",
       "</tr>\n",
       "<tr>\n",
       "  <th>children</th>    <td>  642.4273</td> <td>  143.440</td> <td>    4.479</td> <td> 0.000</td> <td>  361.033</td> <td>  923.821</td>\n",
       "</tr>\n",
       "<tr>\n",
       "  <th>smoker</th>      <td> 2.386e+04</td> <td>  409.825</td> <td>   58.215</td> <td> 0.000</td> <td> 2.31e+04</td> <td> 2.47e+04</td>\n",
       "</tr>\n",
       "<tr>\n",
       "  <th>sex</th>         <td>  137.0732</td> <td>  331.080</td> <td>    0.414</td> <td> 0.679</td> <td> -512.422</td> <td>  786.568</td>\n",
       "</tr>\n",
       "</table>"
      ],
      "text/plain": [
       "<class 'statsmodels.iolib.table.SimpleTable'>"
      ]
     },
     "execution_count": 14,
     "metadata": {},
     "output_type": "execute_result"
    }
   ],
   "source": [
    "fitted.summary(alpha=0.05).tables[1]"
   ]
  },
  {
   "cell_type": "code",
   "execution_count": 15,
   "id": "1a4803db",
   "metadata": {
    "scrolled": true
   },
   "outputs": [
    {
     "name": "stdout",
     "output_type": "stream",
     "text": [
      "R^2 =  0.7535\n"
     ]
    }
   ],
   "source": [
    "print('R^2 = ', round(fitted.rsquared,4))"
   ]
  },
  {
   "cell_type": "code",
   "execution_count": 16,
   "id": "7c0f5a6b",
   "metadata": {},
   "outputs": [
    {
     "name": "stdout",
     "output_type": "stream",
     "text": [
      "R2adj =  0.752217296820417\n"
     ]
    }
   ],
   "source": [
    "print('R2adj = ', 1 - (1-fitted.rsquared)*(len(df)-1)/(len(df)-7-1))"
   ]
  },
  {
   "cell_type": "markdown",
   "id": "dcfd879c",
   "metadata": {},
   "source": [
    "### Согласно $R^2=0.7535$ и $R^2_{adj}=0.7522$ регрессоры довольно неплохо описывают модель"
   ]
  },
  {
   "cell_type": "markdown",
   "id": "fc217e48",
   "metadata": {},
   "source": [
    "## Проверим модель на гетероскедастичность:"
   ]
  },
  {
   "cell_type": "code",
   "execution_count": 17,
   "id": "3b15c52c",
   "metadata": {
    "scrolled": false
   },
   "outputs": [],
   "source": [
    "df['resid']=fitted.resid\n",
    "df['resid2']=df['resid']**2"
   ]
  },
  {
   "cell_type": "code",
   "execution_count": 18,
   "id": "4094d687",
   "metadata": {},
   "outputs": [
    {
     "name": "stdout",
     "output_type": "stream",
     "text": [
      "Подогнанная прямая\n"
     ]
    },
    {
     "data": {
      "image/png": "[encoded data removed]",
      "text/plain": [
       "<Figure size 432x288 with 1 Axes>"
      ]
     },
     "metadata": {
      "needs_background": "light"
     },
     "output_type": "display_data"
    }
   ],
   "source": [
    "sns.regplot(data = df ,  y = 'resid' ,  x = 'age' , order = 1, ci = None ,  line_kws = { \"color\":\"r\"}) \n",
    "print('Подогнанная прямая')\n"
   ]
  },
  {
   "cell_type": "markdown",
   "id": "5fd22054",
   "metadata": {},
   "source": [
    "#### выглядит, как идеальный пример гомоскедастичности"
   ]
  },
  {
   "cell_type": "code",
   "execution_count": 19,
   "id": "2649b277",
   "metadata": {
    "scrolled": true
   },
   "outputs": [
    {
     "name": "stdout",
     "output_type": "stream",
     "text": [
      "Подогнанная прямая\n"
     ]
    },
    {
     "data": {
      "image/png": "[encoded data removed]",
      "text/plain": [
       "<Figure size 432x288 with 1 Axes>"
      ]
     },
     "metadata": {
      "needs_background": "light"
     },
     "output_type": "display_data"
    }
   ],
   "source": [
    "sns.regplot(data = df ,  y = 'resid' ,  x = 'bmi' , order = 1, ci = None ,  line_kws = { \"color\":\"r\"}) \n",
    "print('Подогнанная прямая')"
   ]
  },
  {
   "cell_type": "markdown",
   "id": "b1698d43",
   "metadata": {},
   "source": [
    "#### выглядит, как гетероскедастичность, но до конца непонятно"
   ]
  },
  {
   "cell_type": "code",
   "execution_count": 20,
   "id": "1898f4fb",
   "metadata": {},
   "outputs": [
    {
     "name": "stdout",
     "output_type": "stream",
     "text": [
      "Подогнанная прямая\n"
     ]
    },
    {
     "data": {
      "image/png": "[encoded data removed]",
      "text/plain": [
       "<Figure size 432x288 with 1 Axes>"
      ]
     },
     "metadata": {
      "needs_background": "light"
     },
     "output_type": "display_data"
    }
   ],
   "source": [
    "sns.regplot(data = df ,  y = 'resid' ,  x = 'children' , order = 1, ci = None ,  line_kws = { \"color\":\"r\"}) \n",
    "print('Подогнанная прямая')"
   ]
  },
  {
   "cell_type": "markdown",
   "id": "68c6bd36",
   "metadata": {},
   "source": [
    "#### похоже на гетероскедастичность - чем больше детей вписано в страховку, тем ниже разброс ошибки"
   ]
  },
  {
   "cell_type": "code",
   "execution_count": 21,
   "id": "3370e50c",
   "metadata": {},
   "outputs": [
    {
     "name": "stdout",
     "output_type": "stream",
     "text": [
      "Подогнанная прямая\n"
     ]
    },
    {
     "data": {
      "image/png": "[encoded data removed]",
      "text/plain": [
       "<Figure size 432x288 with 1 Axes>"
      ]
     },
     "metadata": {
      "needs_background": "light"
     },
     "output_type": "display_data"
    }
   ],
   "source": [
    "sns.regplot(data = df ,  y = 'resid' ,  x = 'smoker' , order = 1, ci = None ,  line_kws = { \"color\":\"r\"}) \n",
    "print('Подогнанная прямая')"
   ]
  },
  {
   "cell_type": "markdown",
   "id": "31a3243b",
   "metadata": {},
   "source": [
    "#### опять похоже на гетероскедастичность"
   ]
  },
  {
   "cell_type": "markdown",
   "id": "801bcb46",
   "metadata": {},
   "source": [
    "### На первый взгляд точно непонятно, наблюдается гетероскедастичность или гомоскедастичность. Проведем \"Тест Уайта\" (Breusch Pagan test)"
   ]
  },
  {
   "cell_type": "markdown",
   "id": "8d623a0f",
   "metadata": {},
   "source": [
    "$$e_i = y_i - \\hat{y}_i$$\n",
    "$$\n",
    "e_i^2 = \\gamma_0 + \\gamma_1*age+\\gamma_2*I(age**2)+\\gamma_3*bmi+\\gamma_4*bmi^2+\\gamma_5*children+\\gamma_6*smoker+\\gamma_7*sex\n",
    "$$\n",
    "#### Гипотеза о характере зависимости дисперсии ошибок от факторов регресси:\n",
    "\n",
    "$$\n",
    "H_0: \\gamma_1=\\gamma_2=\\gamma_3=\\gamma_4=\\gamma_5=\\gamma_6=\\gamma_7=0\n",
    "$$\n",
    "$$\n",
    "H_1:  \\gamma_1^2+\\gamma_2^2+\\gamma_3^2+\\gamma_4^2+\\gamma_5^2+\\gamma_6^2>0\n",
    "$$"
   ]
  },
  {
   "cell_type": "code",
   "execution_count": 22,
   "id": "0c824105",
   "metadata": {
    "scrolled": false
   },
   "outputs": [
    {
     "data": {
      "text/plain": [
       "Intercept      94183121.55\n",
       "age               -5559.12\n",
       "I(age ** 2)        -150.85\n",
       "bmi            -4953779.28\n",
       "I(bmi ** 2)       81788.47\n",
       "children        1002114.68\n",
       "smoker         57786499.14\n",
       "sex             2921579.45\n",
       "dtype: float64"
      ]
     },
     "execution_count": 22,
     "metadata": {},
     "output_type": "execute_result"
    }
   ],
   "source": [
    "fitted_TestWhite = smf.ols(formula = 'resid2~age+I(age**2)+bmi+I(bmi**2)+children+smoker+sex',  data = df ).fit() \n",
    "# коэффициенты с округлением \n",
    "fitted_TestWhite.params.round(2) "
   ]
  },
  {
   "cell_type": "code",
   "execution_count": 23,
   "id": "37972e37",
   "metadata": {},
   "outputs": [
    {
     "name": "stdout",
     "output_type": "stream",
     "text": [
      "n*R^2 =  122.0987884151263\n"
     ]
    }
   ],
   "source": [
    "print('n*R^2 = ',len(df)*fitted_TestWhite.rsquared)"
   ]
  },
  {
   "cell_type": "code",
   "execution_count": 24,
   "id": "35d97ec3",
   "metadata": {},
   "outputs": [
    {
     "name": "stdout",
     "output_type": "stream",
     "text": [
      "Hi^2 =  29.87750390922517\n"
     ]
    }
   ],
   "source": [
    "print('Hi^2 = ',stats.chi2.ppf(1-0.0001,7))"
   ]
  },
  {
   "cell_type": "markdown",
   "id": "77d80213",
   "metadata": {},
   "source": [
    "## Несмотря на кажущуюся гомоскедастичность, тест Уайта указывает на гетероскедастичность. $n*R_0 > \\chi^2$ -> принимается гипотеза $H_1$"
   ]
  },
  {
   "cell_type": "markdown",
   "id": "511b8acd",
   "metadata": {},
   "source": [
    "## Следовательно, нужно получить состоятельные $t_{набл}$ в первоначальной регрессии"
   ]
  },
  {
   "cell_type": "code",
   "execution_count": 25,
   "id": "a6fa9288",
   "metadata": {},
   "outputs": [
    {
     "data": {
      "text/html": [
       "<table class=\"simpletable\">\n",
       "<tr>\n",
       "       <td></td>          <th>coef</th>     <th>std err</th>      <th>z</th>      <th>P>|z|</th>  <th>[0.025</th>    <th>0.975]</th>  \n",
       "</tr>\n",
       "<tr>\n",
       "  <th>Intercept</th>   <td>-1.389e+04</td> <td> 3863.488</td> <td>   -3.595</td> <td> 0.000</td> <td>-2.15e+04</td> <td>-6318.331</td>\n",
       "</tr>\n",
       "<tr>\n",
       "  <th>age</th>         <td>  -57.8446</td> <td>   82.257</td> <td>   -0.703</td> <td> 0.482</td> <td> -219.066</td> <td>  103.377</td>\n",
       "</tr>\n",
       "<tr>\n",
       "  <th>I(age ** 2)</th> <td>    3.9596</td> <td>    1.021</td> <td>    3.879</td> <td> 0.000</td> <td>    1.959</td> <td>    5.960</td>\n",
       "</tr>\n",
       "<tr>\n",
       "  <th>bmi</th>         <td>  788.7872</td> <td>  242.462</td> <td>    3.253</td> <td> 0.001</td> <td>  313.570</td> <td> 1264.005</td>\n",
       "</tr>\n",
       "<tr>\n",
       "  <th>I(bmi ** 2)</th> <td>   -7.4509</td> <td>    3.901</td> <td>   -1.910</td> <td> 0.056</td> <td>  -15.096</td> <td>    0.194</td>\n",
       "</tr>\n",
       "<tr>\n",
       "  <th>children</th>    <td>  642.4273</td> <td>  143.256</td> <td>    4.484</td> <td> 0.000</td> <td>  361.651</td> <td>  923.204</td>\n",
       "</tr>\n",
       "<tr>\n",
       "  <th>smoker</th>      <td> 2.386e+04</td> <td>  573.826</td> <td>   41.577</td> <td> 0.000</td> <td> 2.27e+04</td> <td>  2.5e+04</td>\n",
       "</tr>\n",
       "<tr>\n",
       "  <th>sex</th>         <td>  137.0732</td> <td>  333.601</td> <td>    0.411</td> <td> 0.681</td> <td> -516.773</td> <td>  790.919</td>\n",
       "</tr>\n",
       "</table>"
      ],
      "text/plain": [
       "<class 'statsmodels.iolib.table.SimpleTable'>"
      ]
     },
     "execution_count": 25,
     "metadata": {},
     "output_type": "execute_result"
    }
   ],
   "source": [
    "fitted = smf.ols(data=df, formula='charges~age+I(age**2)+bmi+I(bmi**2)+children+smoker+sex').fit(cov_type='HC3')\n",
    "fitted.summary(alpha=0.05).tables[1]"
   ]
  },
  {
   "cell_type": "code",
   "execution_count": 26,
   "id": "ae3fb8a6",
   "metadata": {},
   "outputs": [
    {
     "name": "stdout",
     "output_type": "stream",
     "text": [
      "T_crit =  1.961749243829727\n"
     ]
    }
   ],
   "source": [
    "print('T_crit = ', stats.t.ppf(1-0.05/2,len(df)-7-1))"
   ]
  },
  {
   "cell_type": "markdown",
   "id": "b04c2c71",
   "metadata": {},
   "source": [
    "## Вывод: мы можем с уверенностью 95% утверждать, что значимы все коэффициенты, кроме $age$, $bmi^2$, $sex$"
   ]
  },
  {
   "cell_type": "markdown",
   "id": "482aab8e",
   "metadata": {},
   "source": [
    "## Проверим гипотезу, что эти три коэффициента не значимы одновременно:\n",
    "$$\n",
    "H_0 : \\beta_{age} = \\beta_{bmi^2} = \\beta_{sex} = 0 \n",
    "$$"
   ]
  },
  {
   "cell_type": "code",
   "execution_count": 27,
   "id": "e92d3dc1",
   "metadata": {},
   "outputs": [],
   "source": [
    "df['bmi2']=df['bmi']**2"
   ]
  },
  {
   "cell_type": "code",
   "execution_count": 28,
   "id": "de15979b",
   "metadata": {},
   "outputs": [],
   "source": [
    "fitted = smf.ols(data=df, formula='charges~age+I(age**2)+bmi+bmi2+children+smoker+sex').fit(cov_type='HC3')"
   ]
  },
  {
   "cell_type": "code",
   "execution_count": 29,
   "id": "bfbb0778",
   "metadata": {},
   "outputs": [
    {
     "name": "stdout",
     "output_type": "stream",
     "text": [
      "F_nabl =  [[1.40926337]]\n"
     ]
    }
   ],
   "source": [
    "f_test = fitted.f_test('age=0, bmi2=0, sex=0') \n",
    "print('F_nabl = ', f_test.fvalue)"
   ]
  },
  {
   "cell_type": "code",
   "execution_count": 30,
   "id": "5784480f",
   "metadata": {},
   "outputs": [
    {
     "name": "stdout",
     "output_type": "stream",
     "text": [
      "F_cr =  2.611593291730164\n"
     ]
    }
   ],
   "source": [
    "print('F_cr = ', stats.f.ppf(1-0.05, 3, len(df)-8))"
   ]
  },
  {
   "cell_type": "markdown",
   "id": "9fdce5ad",
   "metadata": {},
   "source": [
    "## $F_{cr}>F_{nabl}$, следовательно, принимается гипотеза $H_0$ - регрессоры являются одновременно незначимыми"
   ]
  },
  {
   "cell_type": "markdown",
   "id": "fa12d77b",
   "metadata": {},
   "source": [
    "# Итоговая спецификация: \n",
    "$$\n",
    "charges = \\beta_0 +\\beta_1*age^2 +\\beta_2*bmi + \\beta_3*children + \\beta_4*smoker\n",
    "$$"
   ]
  },
  {
   "cell_type": "markdown",
   "id": "5424e54c",
   "metadata": {},
   "source": [
    "## Проведем F-тест всей модели и проверим значимость всех регрессоров одновременно"
   ]
  },
  {
   "cell_type": "code",
   "execution_count": 31,
   "id": "61270faf",
   "metadata": {},
   "outputs": [
    {
     "name": "stdout",
     "output_type": "stream",
     "text": [
      "F_obs =  611.1679745249096\n"
     ]
    }
   ],
   "source": [
    "fitted = smf.ols(data=df, formula='charges~I(age**2)+bmi+children+smoker').fit(cov_type='HC3')\n",
    "print('F_obs = ', fitted.fvalue)"
   ]
  },
  {
   "cell_type": "code",
   "execution_count": 32,
   "id": "1fb854f7",
   "metadata": {},
   "outputs": [
    {
     "name": "stdout",
     "output_type": "stream",
     "text": [
      "F_crit =  9.690988044942333\n"
     ]
    }
   ],
   "source": [
    "F_cr = stats.f.ppf(1-0.0000001, 4, len(df)-5)\n",
    "print('F_crit = ', F_cr)"
   ]
  },
  {
   "cell_type": "markdown",
   "id": "0ae24a26",
   "metadata": {},
   "source": [
    "## Вывод: можно со 100% уверенностью утверждать, что выбранные регрессоры описывают изменение переменной $charges$"
   ]
  },
  {
   "cell_type": "markdown",
   "id": "49fc8b4d",
   "metadata": {},
   "source": [
    "## Исследуем датасет на структурные сдвиги в зависимости от пола, а также места проживания"
   ]
  },
  {
   "cell_type": "code",
   "execution_count": 33,
   "id": "58a9ca13",
   "metadata": {},
   "outputs": [],
   "source": [
    "df  =  pd.read_csv('https://raw.githubusercontent.com/PomoshnikovV/Econometrics_MGIMO/main/insurance.csv')"
   ]
  },
  {
   "cell_type": "code",
   "execution_count": 34,
   "id": "7ddb16ab",
   "metadata": {
    "scrolled": true
   },
   "outputs": [],
   "source": [
    "d1 =df[df['sex']=='male']\n",
    "d0 = df[df['sex']=='female']"
   ]
  },
  {
   "cell_type": "markdown",
   "id": "95ba4b28",
   "metadata": {},
   "source": [
    "## Гипотеза:\n",
    "$$\n",
    "H_0 : \\beta_{male} = \\beta_{female}; \\ \\sigma_1^2 = \\sigma_2^2\n",
    "$$\n",
    "#### Chow's test"
   ]
  },
  {
   "cell_type": "code",
   "execution_count": 35,
   "id": "f64ec287",
   "metadata": {},
   "outputs": [],
   "source": [
    "fitted = smf.ols(data= df, formula='charges~I(age**2)+bmi+children+smoker').fit()\n",
    "fitted_ml = smf.ols(data= d1,  formula='charges~I(age**2)+bmi+children+smoker').fit()\n",
    "fitted_fml = smf.ols(data = d0, formula='charges~I(age**2)+bmi+children+smoker').fit()"
   ]
  },
  {
   "cell_type": "code",
   "execution_count": 36,
   "id": "0b606e30",
   "metadata": {},
   "outputs": [
    {
     "name": "stdout",
     "output_type": "stream",
     "text": [
      "F_obs =  1.6422994504158315\n"
     ]
    }
   ],
   "source": [
    "F_obs = (fitted.ssr - (fitted_ml.ssr+fitted_fml.ssr))/(fitted_ml.ssr+fitted_fml.ssr) * (len(d1)+len(d0)-2*5)/(5)\n",
    "print('F_obs = ', F_obs)"
   ]
  },
  {
   "cell_type": "code",
   "execution_count": 37,
   "id": "6426922d",
   "metadata": {},
   "outputs": [
    {
     "name": "stdout",
     "output_type": "stream",
     "text": [
      "F_cr =  2.2208377511009028\n"
     ]
    }
   ],
   "source": [
    "F_cr = stats.f.ppf(1-0.05, 5, len(d1)+len(d0)-2*5)\n",
    "print('F_cr = ', F_cr)"
   ]
  },
  {
   "cell_type": "markdown",
   "id": "926ba734",
   "metadata": {},
   "source": [
    "## Принимается гипотеза $H_0$, следовательно, как уже было доказано выше, пол не влияет на стоимомость медицинской страховки"
   ]
  },
  {
   "cell_type": "markdown",
   "id": "b42e12bc",
   "metadata": {},
   "source": [
    "## Проверим, имеет ли влияние на стоимость мед страховки регион проживания"
   ]
  },
  {
   "cell_type": "code",
   "execution_count": 38,
   "id": "c0237a5e",
   "metadata": {
    "scrolled": false
   },
   "outputs": [
    {
     "data": {
      "text/html": [
       "<div>\n",
       "<style scoped>\n",
       "    .dataframe tbody tr th:only-of-type {\n",
       "        vertical-align: middle;\n",
       "    }\n",
       "\n",
       "    .dataframe tbody tr th {\n",
       "        vertical-align: top;\n",
       "    }\n",
       "\n",
       "    .dataframe thead th {\n",
       "        text-align: right;\n",
       "    }\n",
       "</style>\n",
       "<table border=\"1\" class=\"dataframe\">\n",
       "  <thead>\n",
       "    <tr style=\"text-align: right;\">\n",
       "      <th></th>\n",
       "      <th>age</th>\n",
       "      <th>sex</th>\n",
       "      <th>bmi</th>\n",
       "      <th>children</th>\n",
       "      <th>smoker</th>\n",
       "      <th>charges</th>\n",
       "      <th>region_northeast</th>\n",
       "      <th>region_northwest</th>\n",
       "      <th>region_southeast</th>\n",
       "      <th>region_southwest</th>\n",
       "    </tr>\n",
       "  </thead>\n",
       "  <tbody>\n",
       "    <tr>\n",
       "      <th>0</th>\n",
       "      <td>19</td>\n",
       "      <td>1</td>\n",
       "      <td>27.900</td>\n",
       "      <td>0</td>\n",
       "      <td>1</td>\n",
       "      <td>16884.92400</td>\n",
       "      <td>0</td>\n",
       "      <td>0</td>\n",
       "      <td>0</td>\n",
       "      <td>1</td>\n",
       "    </tr>\n",
       "    <tr>\n",
       "      <th>1</th>\n",
       "      <td>18</td>\n",
       "      <td>0</td>\n",
       "      <td>33.770</td>\n",
       "      <td>1</td>\n",
       "      <td>0</td>\n",
       "      <td>1725.55230</td>\n",
       "      <td>0</td>\n",
       "      <td>0</td>\n",
       "      <td>1</td>\n",
       "      <td>0</td>\n",
       "    </tr>\n",
       "    <tr>\n",
       "      <th>2</th>\n",
       "      <td>28</td>\n",
       "      <td>0</td>\n",
       "      <td>33.000</td>\n",
       "      <td>3</td>\n",
       "      <td>0</td>\n",
       "      <td>4449.46200</td>\n",
       "      <td>0</td>\n",
       "      <td>0</td>\n",
       "      <td>1</td>\n",
       "      <td>0</td>\n",
       "    </tr>\n",
       "    <tr>\n",
       "      <th>3</th>\n",
       "      <td>33</td>\n",
       "      <td>0</td>\n",
       "      <td>22.705</td>\n",
       "      <td>0</td>\n",
       "      <td>0</td>\n",
       "      <td>21984.47061</td>\n",
       "      <td>0</td>\n",
       "      <td>1</td>\n",
       "      <td>0</td>\n",
       "      <td>0</td>\n",
       "    </tr>\n",
       "    <tr>\n",
       "      <th>4</th>\n",
       "      <td>32</td>\n",
       "      <td>0</td>\n",
       "      <td>28.880</td>\n",
       "      <td>0</td>\n",
       "      <td>0</td>\n",
       "      <td>3866.85520</td>\n",
       "      <td>0</td>\n",
       "      <td>1</td>\n",
       "      <td>0</td>\n",
       "      <td>0</td>\n",
       "    </tr>\n",
       "    <tr>\n",
       "      <th>...</th>\n",
       "      <td>...</td>\n",
       "      <td>...</td>\n",
       "      <td>...</td>\n",
       "      <td>...</td>\n",
       "      <td>...</td>\n",
       "      <td>...</td>\n",
       "      <td>...</td>\n",
       "      <td>...</td>\n",
       "      <td>...</td>\n",
       "      <td>...</td>\n",
       "    </tr>\n",
       "    <tr>\n",
       "      <th>1333</th>\n",
       "      <td>50</td>\n",
       "      <td>0</td>\n",
       "      <td>30.970</td>\n",
       "      <td>3</td>\n",
       "      <td>0</td>\n",
       "      <td>10600.54830</td>\n",
       "      <td>0</td>\n",
       "      <td>1</td>\n",
       "      <td>0</td>\n",
       "      <td>0</td>\n",
       "    </tr>\n",
       "    <tr>\n",
       "      <th>1334</th>\n",
       "      <td>18</td>\n",
       "      <td>1</td>\n",
       "      <td>31.920</td>\n",
       "      <td>0</td>\n",
       "      <td>0</td>\n",
       "      <td>2205.98080</td>\n",
       "      <td>1</td>\n",
       "      <td>0</td>\n",
       "      <td>0</td>\n",
       "      <td>0</td>\n",
       "    </tr>\n",
       "    <tr>\n",
       "      <th>1335</th>\n",
       "      <td>18</td>\n",
       "      <td>1</td>\n",
       "      <td>36.850</td>\n",
       "      <td>0</td>\n",
       "      <td>0</td>\n",
       "      <td>1629.83350</td>\n",
       "      <td>0</td>\n",
       "      <td>0</td>\n",
       "      <td>1</td>\n",
       "      <td>0</td>\n",
       "    </tr>\n",
       "    <tr>\n",
       "      <th>1336</th>\n",
       "      <td>21</td>\n",
       "      <td>1</td>\n",
       "      <td>25.800</td>\n",
       "      <td>0</td>\n",
       "      <td>0</td>\n",
       "      <td>2007.94500</td>\n",
       "      <td>0</td>\n",
       "      <td>0</td>\n",
       "      <td>0</td>\n",
       "      <td>1</td>\n",
       "    </tr>\n",
       "    <tr>\n",
       "      <th>1337</th>\n",
       "      <td>61</td>\n",
       "      <td>1</td>\n",
       "      <td>29.070</td>\n",
       "      <td>0</td>\n",
       "      <td>1</td>\n",
       "      <td>29141.36030</td>\n",
       "      <td>0</td>\n",
       "      <td>1</td>\n",
       "      <td>0</td>\n",
       "      <td>0</td>\n",
       "    </tr>\n",
       "  </tbody>\n",
       "</table>\n",
       "<p>1338 rows × 10 columns</p>\n",
       "</div>"
      ],
      "text/plain": [
       "      age  sex     bmi  children  smoker      charges  region_northeast  \\\n",
       "0      19    1  27.900         0       1  16884.92400                 0   \n",
       "1      18    0  33.770         1       0   1725.55230                 0   \n",
       "2      28    0  33.000         3       0   4449.46200                 0   \n",
       "3      33    0  22.705         0       0  21984.47061                 0   \n",
       "4      32    0  28.880         0       0   3866.85520                 0   \n",
       "...   ...  ...     ...       ...     ...          ...               ...   \n",
       "1333   50    0  30.970         3       0  10600.54830                 0   \n",
       "1334   18    1  31.920         0       0   2205.98080                 1   \n",
       "1335   18    1  36.850         0       0   1629.83350                 0   \n",
       "1336   21    1  25.800         0       0   2007.94500                 0   \n",
       "1337   61    1  29.070         0       1  29141.36030                 0   \n",
       "\n",
       "      region_northwest  region_southeast  region_southwest  \n",
       "0                    0                 0                 1  \n",
       "1                    0                 1                 0  \n",
       "2                    0                 1                 0  \n",
       "3                    1                 0                 0  \n",
       "4                    1                 0                 0  \n",
       "...                ...               ...               ...  \n",
       "1333                 1                 0                 0  \n",
       "1334                 0                 0                 0  \n",
       "1335                 0                 1                 0  \n",
       "1336                 0                 0                 1  \n",
       "1337                 1                 0                 0  \n",
       "\n",
       "[1338 rows x 10 columns]"
      ]
     },
     "execution_count": 38,
     "metadata": {},
     "output_type": "execute_result"
    }
   ],
   "source": [
    "df['smoker']=df.apply(lambda x: 1 if x['smoker'] == 'yes' else 0, axis=1)\n",
    "df['sex']=df.apply(lambda x: 1 if x['sex'] == 'female' else 0, axis=1)\n",
    "df['charges']=df['charges']\n",
    "df_all = pd.get_dummies(df)\n",
    "df_all"
   ]
  },
  {
   "cell_type": "code",
   "execution_count": 39,
   "id": "8ac79082",
   "metadata": {
    "scrolled": true
   },
   "outputs": [
    {
     "data": {
      "text/plain": [
       "Intercept           -7964.847773\n",
       "I(age ** 2)             3.255170\n",
       "bmi                   335.017814\n",
       "children              612.006954\n",
       "smoker              23845.974183\n",
       "region_northeast      364.281306\n",
       "region_southeast     -665.443210\n",
       "region_southwest     -592.666836\n",
       "dtype: float64"
      ]
     },
     "execution_count": 39,
     "metadata": {},
     "output_type": "execute_result"
    }
   ],
   "source": [
    "fitted = smf.ols(data= df_all, formula='charges~I(age**2)+bmi+children+smoker+region_northeast+region_southeast+region_southwest').fit()\n",
    "fitted.params"
   ]
  },
  {
   "cell_type": "markdown",
   "id": "47453834",
   "metadata": {},
   "source": [
    "## Гипотеза:\n",
    "$$\n",
    "H_0 : \\beta_{region \\ northeast} = \\beta_{region \\ southeast} = \\beta_{region \\ southwest} = 0\n",
    "$$"
   ]
  },
  {
   "cell_type": "code",
   "execution_count": 40,
   "id": "ed0ec76a",
   "metadata": {},
   "outputs": [
    {
     "name": "stdout",
     "output_type": "stream",
     "text": [
      "F_nabl =  [[2.10705716]]\n"
     ]
    }
   ],
   "source": [
    "f_test = fitted.f_test('region_northeast=0, region_southeast=0, region_southwest=0') \n",
    "print('F_nabl = ', f_test.fvalue)"
   ]
  },
  {
   "cell_type": "code",
   "execution_count": 41,
   "id": "f08a94d2",
   "metadata": {},
   "outputs": [
    {
     "name": "stdout",
     "output_type": "stream",
     "text": [
      "F_cr =  2.611593291730164\n"
     ]
    }
   ],
   "source": [
    "print('F_cr = ', stats.f.ppf(1-0.05, 3, len(df)-8))"
   ]
  },
  {
   "cell_type": "markdown",
   "id": "14b17c74",
   "metadata": {},
   "source": [
    "## Принимается гипотеза $H_0$, следовательно, регион проживания не влияет на стоимомость медицинской страховки"
   ]
  },
  {
   "cell_type": "markdown",
   "id": "1f048c9c",
   "metadata": {},
   "source": [
    "## Возможно, существуют гендерные структурные сдвиги относительно значимых регрессоров"
   ]
  },
  {
   "cell_type": "code",
   "execution_count": 42,
   "id": "1852e538",
   "metadata": {
    "scrolled": true
   },
   "outputs": [
    {
     "data": {
      "text/plain": [
       "Intercept       -7596.970807\n",
       "I(age ** 2)         3.267194\n",
       "bmi               305.127302\n",
       "children          615.655106\n",
       "smoker          24851.085091\n",
       "smoker:sex      -2307.046333\n",
       "children:sex      -31.010194\n",
       "bmi:sex            19.692386\n",
       "dtype: float64"
      ]
     },
     "execution_count": 42,
     "metadata": {},
     "output_type": "execute_result"
    }
   ],
   "source": [
    "fitted = smf.ols(data=df, formula='charges~I(age**2)+bmi+children+smoker+smoker:sex+children:sex+bmi:sex').fit(cov_type='HC3')\n",
    "fitted.params"
   ]
  },
  {
   "cell_type": "code",
   "execution_count": 43,
   "id": "6436259d",
   "metadata": {
    "scrolled": true
   },
   "outputs": [
    {
     "data": {
      "text/html": [
       "<table class=\"simpletable\">\n",
       "<tr>\n",
       "        <td></td>          <th>coef</th>     <th>std err</th>      <th>z</th>      <th>P>|z|</th>  <th>[0.025</th>    <th>0.975]</th>  \n",
       "</tr>\n",
       "<tr>\n",
       "  <th>Intercept</th>    <td>-7596.9708</td> <td>  948.154</td> <td>   -8.012</td> <td> 0.000</td> <td>-9455.318</td> <td>-5738.624</td>\n",
       "</tr>\n",
       "<tr>\n",
       "  <th>I(age ** 2)</th>  <td>    3.2672</td> <td>    0.146</td> <td>   22.323</td> <td> 0.000</td> <td>    2.980</td> <td>    3.554</td>\n",
       "</tr>\n",
       "<tr>\n",
       "  <th>bmi</th>          <td>  305.1273</td> <td>   30.686</td> <td>    9.944</td> <td> 0.000</td> <td>  244.984</td> <td>  365.271</td>\n",
       "</tr>\n",
       "<tr>\n",
       "  <th>children</th>     <td>  615.6551</td> <td>  179.355</td> <td>    3.433</td> <td> 0.001</td> <td>  264.125</td> <td>  967.185</td>\n",
       "</tr>\n",
       "<tr>\n",
       "  <th>smoker</th>       <td> 2.485e+04</td> <td>  752.173</td> <td>   33.039</td> <td> 0.000</td> <td> 2.34e+04</td> <td> 2.63e+04</td>\n",
       "</tr>\n",
       "<tr>\n",
       "  <th>smoker:sex</th>   <td>-2307.0463</td> <td> 1178.723</td> <td>   -1.957</td> <td> 0.050</td> <td>-4617.301</td> <td>    3.208</td>\n",
       "</tr>\n",
       "<tr>\n",
       "  <th>children:sex</th> <td>  -31.0102</td> <td>  260.977</td> <td>   -0.119</td> <td> 0.905</td> <td> -542.516</td> <td>  480.496</td>\n",
       "</tr>\n",
       "<tr>\n",
       "  <th>bmi:sex</th>      <td>   19.6924</td> <td>   13.177</td> <td>    1.494</td> <td> 0.135</td> <td>   -6.135</td> <td>   45.519</td>\n",
       "</tr>\n",
       "</table>"
      ],
      "text/plain": [
       "<class 'statsmodels.iolib.table.SimpleTable'>"
      ]
     },
     "execution_count": 43,
     "metadata": {},
     "output_type": "execute_result"
    }
   ],
   "source": [
    "fitted.summary(alpha=0.05).tables[1]"
   ]
  },
  {
   "cell_type": "markdown",
   "id": "48040fea",
   "metadata": {},
   "source": [
    "## Вначале проверим одновременную значимость добавленных регрессоров, учитывающих гендерные структурные сдвиги"
   ]
  },
  {
   "cell_type": "markdown",
   "id": "508e28bd",
   "metadata": {},
   "source": [
    "## Гипотеза:\n",
    "$$\n",
    "H_0 : \\beta_{smoker:sex} = \\beta_{children:sex} = \\beta_{bmi:sex} = 0\n",
    "$$"
   ]
  },
  {
   "cell_type": "code",
   "execution_count": 44,
   "id": "b39780ed",
   "metadata": {
    "scrolled": true
   },
   "outputs": [
    {
     "name": "stdout",
     "output_type": "stream",
     "text": [
      "F_nabl =  [[1.97018607]]\n"
     ]
    }
   ],
   "source": [
    "f_test = fitted.f_test('smoker:sex=0, children:sex=0, bmi:sex=0') \n",
    "print('F_nabl = ', f_test.fvalue)"
   ]
  },
  {
   "cell_type": "code",
   "execution_count": 45,
   "id": "fc261d11",
   "metadata": {},
   "outputs": [
    {
     "name": "stdout",
     "output_type": "stream",
     "text": [
      "F_cr =  2.611593291730164\n"
     ]
    }
   ],
   "source": [
    "print('F_cr = ', stats.f.ppf(1-0.05, 3, len(df)-8))"
   ]
  },
  {
   "cell_type": "markdown",
   "id": "a89f4869",
   "metadata": {},
   "source": [
    "## Принимается гипотеза $H_0$, гендерные структурные сдвиги относительно других регрессоров не значимы"
   ]
  },
  {
   "cell_type": "markdown",
   "id": "ca206951",
   "metadata": {},
   "source": [
    "## Построим матрицу корреляций"
   ]
  },
  {
   "cell_type": "code",
   "execution_count": 46,
   "id": "30398002",
   "metadata": {},
   "outputs": [
    {
     "data": {
      "text/html": [
       "<div>\n",
       "<style scoped>\n",
       "    .dataframe tbody tr th:only-of-type {\n",
       "        vertical-align: middle;\n",
       "    }\n",
       "\n",
       "    .dataframe tbody tr th {\n",
       "        vertical-align: top;\n",
       "    }\n",
       "\n",
       "    .dataframe thead th {\n",
       "        text-align: right;\n",
       "    }\n",
       "</style>\n",
       "<table border=\"1\" class=\"dataframe\">\n",
       "  <thead>\n",
       "    <tr style=\"text-align: right;\">\n",
       "      <th></th>\n",
       "      <th>sex</th>\n",
       "      <th>age</th>\n",
       "      <th>children</th>\n",
       "      <th>smoker</th>\n",
       "      <th>bmi</th>\n",
       "    </tr>\n",
       "  </thead>\n",
       "  <tbody>\n",
       "    <tr>\n",
       "      <th>sex</th>\n",
       "      <td>1.000</td>\n",
       "      <td>0.021</td>\n",
       "      <td>-0.017</td>\n",
       "      <td>-0.076</td>\n",
       "      <td>-0.046</td>\n",
       "    </tr>\n",
       "    <tr>\n",
       "      <th>age</th>\n",
       "      <td>0.021</td>\n",
       "      <td>1.000</td>\n",
       "      <td>0.042</td>\n",
       "      <td>-0.025</td>\n",
       "      <td>0.109</td>\n",
       "    </tr>\n",
       "    <tr>\n",
       "      <th>children</th>\n",
       "      <td>-0.017</td>\n",
       "      <td>0.042</td>\n",
       "      <td>1.000</td>\n",
       "      <td>0.008</td>\n",
       "      <td>0.013</td>\n",
       "    </tr>\n",
       "    <tr>\n",
       "      <th>smoker</th>\n",
       "      <td>-0.076</td>\n",
       "      <td>-0.025</td>\n",
       "      <td>0.008</td>\n",
       "      <td>1.000</td>\n",
       "      <td>0.004</td>\n",
       "    </tr>\n",
       "    <tr>\n",
       "      <th>bmi</th>\n",
       "      <td>-0.046</td>\n",
       "      <td>0.109</td>\n",
       "      <td>0.013</td>\n",
       "      <td>0.004</td>\n",
       "      <td>1.000</td>\n",
       "    </tr>\n",
       "  </tbody>\n",
       "</table>\n",
       "</div>"
      ],
      "text/plain": [
       "            sex    age  children  smoker    bmi\n",
       "sex       1.000  0.021    -0.017  -0.076 -0.046\n",
       "age       0.021  1.000     0.042  -0.025  0.109\n",
       "children -0.017  0.042     1.000   0.008  0.013\n",
       "smoker   -0.076 -0.025     0.008   1.000  0.004\n",
       "bmi      -0.046  0.109     0.013   0.004  1.000"
      ]
     },
     "execution_count": 46,
     "metadata": {},
     "output_type": "execute_result"
    }
   ],
   "source": [
    "df = df[['sex', 'age', 'children', 'smoker', 'bmi']].copy()\n",
    "corr_matrix = df.corr().round(3)\n",
    "corr_matrix"
   ]
  },
  {
   "cell_type": "code",
   "execution_count": 47,
   "id": "0e3721ac",
   "metadata": {},
   "outputs": [
    {
     "data": {
      "image/png": "[encoded data removed]",
      "text/plain": [
       "<Figure size 432x288 with 2 Axes>"
      ]
     },
     "metadata": {
      "needs_background": "light"
     },
     "output_type": "display_data"
    }
   ],
   "source": [
    "sm.graphics.plot_corr(corr_matrix, xnames=df.columns, normcolor=True, cmap='coolwarm')\n",
    "plt.show()"
   ]
  },
  {
   "cell_type": "markdown",
   "id": "6621845a",
   "metadata": {},
   "source": [
    "## Как можно заметить, корреляция между регрессорами практически отсутствует. Наблюдается незначительная корреляция bmi и age. Рассмотрим ее подробнее"
   ]
  },
  {
   "cell_type": "code",
   "execution_count": 48,
   "id": "a8b7caa5",
   "metadata": {
    "scrolled": false
   },
   "outputs": [
    {
     "name": "stdout",
     "output_type": "stream",
     "text": [
      "Подогнанная прямая\n"
     ]
    },
    {
     "data": {
      "image/png": "[encoded data removed]",
      "text/plain": [
       "<Figure size 432x288 with 1 Axes>"
      ]
     },
     "metadata": {
      "needs_background": "light"
     },
     "output_type": "display_data"
    }
   ],
   "source": [
    "sns.regplot(data = df ,  y = 'bmi' ,  x = 'age' , order = 1, ci = None ,  line_kws = { \"color\":\"r\"}) \n",
    "print('Подогнанная прямая')"
   ]
  },
  {
   "cell_type": "code",
   "execution_count": 49,
   "id": "6f40305c",
   "metadata": {
    "scrolled": true
   },
   "outputs": [
    {
     "data": {
      "text/plain": [
       "Intercept    28.803889\n",
       "age           0.047428\n",
       "dtype: float64"
      ]
     },
     "execution_count": 49,
     "metadata": {},
     "output_type": "execute_result"
    }
   ],
   "source": [
    "fitted = smf.ols(data=df, formula='bmi~age').fit()\n",
    "fitted.params"
   ]
  },
  {
   "cell_type": "code",
   "execution_count": 50,
   "id": "ddd79b12",
   "metadata": {},
   "outputs": [
    {
     "name": "stdout",
     "output_type": "stream",
     "text": [
      "R^2 =  0.011940344097157163\n"
     ]
    }
   ],
   "source": [
    "print('R^2 = ', fitted.rsquared)"
   ]
  },
  {
   "cell_type": "markdown",
   "id": "712c1d4b",
   "metadata": {},
   "source": [
    "## Вывод: чем человек старше, тем в среднем на 0.047 единиц больше его bmi. Однако, $R^2=0.012$ говорит о том, что возраст очень слабо объясняет изменение такого показателя, как bmi"
   ]
  },
  {
   "cell_type": "markdown",
   "id": "cb033c84",
   "metadata": {},
   "source": [
    "## Проведем RESEТ-тест Рамсея финальной модели"
   ]
  },
  {
   "cell_type": "markdown",
   "id": "3ac3148b",
   "metadata": {},
   "source": [
    "$$\n",
    "charges = \\gamma_0 + \\gamma_1*age^2+\\gamma_2*bmi+\\gamma_3*children+\\gamma_4*smoker+\\gamma_5*charges^2+\\gamma_6*charges^3\n",
    "$$\n",
    "\n",
    "$$\n",
    "H_0: \\gamma_5=\\gamma_6=0\n",
    "$$\n",
    "$$\n",
    "H_1: \\gamma_5^2+\\gamma_6^2>0\n",
    "$$\n",
    "#### Гипотеза $H_0$ утверждает, что неучтенных переменных, которые описывают модель, нету\n",
    "#### Гипотеза $H_1$ утверждает, что мы пропустили какие-либо регрессоры, которые также нужно было включить при оценке регрессии"
   ]
  },
  {
   "cell_type": "code",
   "execution_count": 51,
   "id": "b23b5ac5",
   "metadata": {},
   "outputs": [],
   "source": [
    "df  =  pd.read_csv('https://raw.githubusercontent.com/PomoshnikovV/Econometrics_MGIMO/main/insurance.csv') "
   ]
  },
  {
   "cell_type": "code",
   "execution_count": 52,
   "id": "f81c49a2",
   "metadata": {},
   "outputs": [],
   "source": [
    "df['smoker']=df.apply(lambda x: 1 if x['smoker'] == 'yes' else 0, axis=1)\n",
    "df['sex']=df.apply(lambda x: 1 if x['sex'] == 'female' else 0, axis=1)\n",
    "df['charges']=df['charges']"
   ]
  },
  {
   "cell_type": "code",
   "execution_count": 53,
   "id": "9204d095",
   "metadata": {},
   "outputs": [],
   "source": [
    "fitted = smf.ols(data=df, formula='charges~I(age**2)+bmi+children+smoker').fit()"
   ]
  },
  {
   "cell_type": "code",
   "execution_count": 54,
   "id": "0d7dc43f",
   "metadata": {},
   "outputs": [],
   "source": [
    "pred = fitted.predict(exog = df , transform = True) \n",
    "df['pred'] = pred\n",
    "df['pred2'] = pred**2\n",
    "df['pred3'] = pred**3"
   ]
  },
  {
   "cell_type": "code",
   "execution_count": 55,
   "id": "d3bb6995",
   "metadata": {},
   "outputs": [],
   "source": [
    "fitted_ur = smf.ols(data=df, formula='charges~I(age**2)+bmi+children+smoker+pred2+pred3').fit()"
   ]
  },
  {
   "cell_type": "code",
   "execution_count": 56,
   "id": "b22deb03",
   "metadata": {},
   "outputs": [
    {
     "name": "stdout",
     "output_type": "stream",
     "text": [
      "F_obs =  [[61.01683893]]\n"
     ]
    }
   ],
   "source": [
    "f_test = fitted_ur.f_test( 'pred2=pred3=0' ) \n",
    "print('F_obs = ', f_test.fvalue)"
   ]
  },
  {
   "cell_type": "code",
   "execution_count": 57,
   "id": "bf8afc6d",
   "metadata": {},
   "outputs": [
    {
     "name": "stdout",
     "output_type": "stream",
     "text": [
      "F_crit =  4.621140580486593\n"
     ]
    }
   ],
   "source": [
    "print('F_crit = ', stats.f.ppf(1-0.01, 2, len(df)-7))"
   ]
  },
  {
   "cell_type": "markdown",
   "id": "702deb0f",
   "metadata": {},
   "source": [
    "## Принимается гипотеза $H_1$\n",
    "### Тест указывает на пропущенные регрессоры, которые не были учтены в модели. Возможно, стоило включить информацию о том, занимаются ли эти люди спортом, сколько зарабатывают, сколько работают в неделю, сколько спят и т.д."
   ]
  },
  {
   "cell_type": "markdown",
   "id": "ebc7a5d2",
   "metadata": {},
   "source": [
    "## Следует также рассмотреть, не имеет ли место в данной модели автокорреляция"
   ]
  },
  {
   "cell_type": "markdown",
   "id": "3120208c",
   "metadata": {},
   "source": [
    "## 1) DW-тест"
   ]
  },
  {
   "cell_type": "code",
   "execution_count": 58,
   "id": "47220043",
   "metadata": {},
   "outputs": [],
   "source": [
    "# знаменатель\n",
    "res_sum = sum(fitted.resid**2)\n"
   ]
  },
  {
   "cell_type": "code",
   "execution_count": 59,
   "id": "9c7474de",
   "metadata": {},
   "outputs": [],
   "source": [
    "# числитель\n",
    "sum_resid = 0\n",
    "for i in range(len(fitted.resid)-1):\n",
    "    sum_resid+=(fitted.resid[i+1]-fitted.resid[i])**2"
   ]
  },
  {
   "cell_type": "code",
   "execution_count": 60,
   "id": "ef5c6d88",
   "metadata": {},
   "outputs": [
    {
     "name": "stdout",
     "output_type": "stream",
     "text": [
      "DW =  2.094467718502819\n"
     ]
    }
   ],
   "source": [
    "from statsmodels.stats.stattools import durbin_watson\n",
    "#DW test\n",
    "print('DW = ', durbin_watson(fitted.resid))"
   ]
  },
  {
   "cell_type": "markdown",
   "id": "c26fb879",
   "metadata": {},
   "source": [
    "## Согласно таблице критических значений, при уровне значимости $\\alpha=0.05$ полученное DW находится в области принятия гепотезы $H_1$, т.е. автокорреляция отсутствует"
   ]
  },
  {
   "cell_type": "markdown",
   "id": "8607e02d",
   "metadata": {},
   "source": [
    "## 2) Тест Бройша-Годфри также указывает на отсутствие автокорреляции"
   ]
  },
  {
   "cell_type": "code",
   "execution_count": 61,
   "id": "ce43a0ec",
   "metadata": {},
   "outputs": [
    {
     "name": "stdout",
     "output_type": "stream",
     "text": [
      "(6.992319135221485, 0.07214299113459373, 2.329008460668031, 0.07281643013240416)\n"
     ]
    }
   ],
   "source": [
    "print(dg.acorr_breusch_godfrey(fitted, nlags=3))"
   ]
  },
  {
   "cell_type": "code",
   "execution_count": 62,
   "id": "1d66216e",
   "metadata": {},
   "outputs": [
    {
     "name": "stdout",
     "output_type": "stream",
     "text": [
      "Hi2 =  7.814727903251179\n"
     ]
    }
   ],
   "source": [
    "Hi2  =  stats.chi2.ppf(1 - 0.05, 3) \n",
    "print('Hi2 = ', Hi2)"
   ]
  },
  {
   "cell_type": "markdown",
   "id": "6016c9b1",
   "metadata": {},
   "source": [
    "## $n*R^2<\\chi^2$, принимается гипотеза $H_1$, автокорреляция отсутствует"
   ]
  },
  {
   "cell_type": "markdown",
   "id": "35e5885e",
   "metadata": {},
   "source": [
    "# Попробуем спрогнозировать траты на мед. страхование в Америке для трех различных людей:\n",
    "1) Данила - 19 лет, не курит, нет детей, bmi = 23,8\n",
    "\\\n",
    "2) Сергей - 40 лет, не курит, 2 детей, bmi = 31\n",
    "\\\n",
    "3) Юрий - 30 лет, курит, нет детей, bmi = 37"
   ]
  },
  {
   "cell_type": "code",
   "execution_count": 73,
   "id": "c06ef02b",
   "metadata": {},
   "outputs": [
    {
     "data": {
      "text/html": [
       "<div>\n",
       "<style scoped>\n",
       "    .dataframe tbody tr th:only-of-type {\n",
       "        vertical-align: middle;\n",
       "    }\n",
       "\n",
       "    .dataframe tbody tr th {\n",
       "        vertical-align: top;\n",
       "    }\n",
       "\n",
       "    .dataframe thead th {\n",
       "        text-align: right;\n",
       "    }\n",
       "</style>\n",
       "<table border=\"1\" class=\"dataframe\">\n",
       "  <thead>\n",
       "    <tr style=\"text-align: right;\">\n",
       "      <th></th>\n",
       "      <th>age</th>\n",
       "      <th>bmi</th>\n",
       "      <th>children</th>\n",
       "      <th>smoker</th>\n",
       "    </tr>\n",
       "  </thead>\n",
       "  <tbody>\n",
       "    <tr>\n",
       "      <th>0</th>\n",
       "      <td>19</td>\n",
       "      <td>23.8</td>\n",
       "      <td>0</td>\n",
       "      <td>0</td>\n",
       "    </tr>\n",
       "    <tr>\n",
       "      <th>1</th>\n",
       "      <td>40</td>\n",
       "      <td>31.0</td>\n",
       "      <td>2</td>\n",
       "      <td>0</td>\n",
       "    </tr>\n",
       "    <tr>\n",
       "      <th>2</th>\n",
       "      <td>30</td>\n",
       "      <td>37.0</td>\n",
       "      <td>0</td>\n",
       "      <td>1</td>\n",
       "    </tr>\n",
       "  </tbody>\n",
       "</table>\n",
       "</div>"
      ],
      "text/plain": [
       "   age   bmi  children  smoker\n",
       "0   19  23.8         0       0\n",
       "1   40  31.0         2       0\n",
       "2   30  37.0         0       1"
      ]
     },
     "execution_count": 73,
     "metadata": {},
     "output_type": "execute_result"
    }
   ],
   "source": [
    "new_df  =  pd.DataFrame({'age':[19 ,  40 ,  30],  'bmi':[23.8 ,  31,  37],  'children':[ 0 ,  2 ,  0 ],  'smoker':[0 , 0,  1]}) \n",
    "new_df"
   ]
  },
  {
   "cell_type": "code",
   "execution_count": 74,
   "id": "8c560740",
   "metadata": {},
   "outputs": [],
   "source": [
    "fitted = smf.ols(data=df, formula='charges~I(age**2)+bmi+children+smoker').fit()"
   ]
  },
  {
   "cell_type": "code",
   "execution_count": 75,
   "id": "df2df2de",
   "metadata": {},
   "outputs": [
    {
     "data": {
      "text/html": [
       "<div>\n",
       "<style scoped>\n",
       "    .dataframe tbody tr th:only-of-type {\n",
       "        vertical-align: middle;\n",
       "    }\n",
       "\n",
       "    .dataframe tbody tr th {\n",
       "        vertical-align: top;\n",
       "    }\n",
       "\n",
       "    .dataframe thead th {\n",
       "        text-align: right;\n",
       "    }\n",
       "</style>\n",
       "<table border=\"1\" class=\"dataframe\">\n",
       "  <thead>\n",
       "    <tr style=\"text-align: right;\">\n",
       "      <th></th>\n",
       "      <th>age</th>\n",
       "      <th>bmi</th>\n",
       "      <th>children</th>\n",
       "      <th>smoker</th>\n",
       "      <th>pred$</th>\n",
       "    </tr>\n",
       "  </thead>\n",
       "  <tbody>\n",
       "    <tr>\n",
       "      <th>0</th>\n",
       "      <td>19</td>\n",
       "      <td>23.8</td>\n",
       "      <td>0</td>\n",
       "      <td>0</td>\n",
       "      <td>1051.649462</td>\n",
       "    </tr>\n",
       "    <tr>\n",
       "      <th>1</th>\n",
       "      <td>40</td>\n",
       "      <td>31.0</td>\n",
       "      <td>2</td>\n",
       "      <td>0</td>\n",
       "      <td>8613.420117</td>\n",
       "    </tr>\n",
       "    <tr>\n",
       "      <th>2</th>\n",
       "      <td>30</td>\n",
       "      <td>37.0</td>\n",
       "      <td>0</td>\n",
       "      <td>1</td>\n",
       "      <td>30836.821364</td>\n",
       "    </tr>\n",
       "  </tbody>\n",
       "</table>\n",
       "</div>"
      ],
      "text/plain": [
       "   age   bmi  children  smoker         pred$\n",
       "0   19  23.8         0       0   1051.649462\n",
       "1   40  31.0         2       0   8613.420117\n",
       "2   30  37.0         0       1  30836.821364"
      ]
     },
     "execution_count": 75,
     "metadata": {},
     "output_type": "execute_result"
    }
   ],
   "source": [
    "pred_3persons = fitted.predict(exog = new_df , transform = True)\n",
    "new_df['pred$'] = pred_3persons\n",
    "new_df"
   ]
  },
  {
   "cell_type": "markdown",
   "id": "de16885a",
   "metadata": {},
   "source": [
    "## Итак, можно быть молодым и не иметь детей, но если куришь и плохо питаешься, то будешь много платить за медицинское страхование.\n",
    "# Вывод: будь молодым, не кури и занимайся спортом!"
   ]
  }
 ],
 "metadata": {
  "kernelspec": {
   "display_name": "Python 3 (ipykernel)",
   "language": "python",
   "name": "python3"
  },
  "language_info": {
   "codemirror_mode": {
    "name": "ipython",
    "version": 3
   },
   "file_extension": ".py",
   "mimetype": "text/x-python",
   "name": "python",
   "nbconvert_exporter": "python",
   "pygments_lexer": "ipython3",
   "version": "3.9.7"
  }
 },
 "nbformat": 4,
 "nbformat_minor": 5
}
