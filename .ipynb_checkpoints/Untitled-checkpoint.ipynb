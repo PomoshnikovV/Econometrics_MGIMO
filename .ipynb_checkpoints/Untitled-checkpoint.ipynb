{
 "cells": [
  {
   "cell_type": "code",
   "execution_count": 1,
   "id": "138f4205",
   "metadata": {},
   "outputs": [
    {
     "name": "stderr",
     "output_type": "stream",
     "text": [
      "Matplotlib is building the font cache; this may take a moment.\n"
     ]
    }
   ],
   "source": [
    "import pandas as pd\n",
    "import numpy as np\n",
    "import statsmodels.formula.api as smf\n",
    "import seaborn as sns\n",
    "import matplotlib.pyplot as plt\n",
    "import scipy.stats as stats"
   ]
  },
  {
   "cell_type": "code",
   "execution_count": 2,
   "id": "4cc98265",
   "metadata": {},
   "outputs": [],
   "source": [
    "df = pd.read_csv('https://raw.githubusercontent.com/artamonoff/Econometrica/master/python-notebooks/data-csv/icecream.csv')"
   ]
  },
  {
   "cell_type": "code",
   "execution_count": 4,
   "id": "30b74104",
   "metadata": {},
   "outputs": [
    {
     "data": {
      "text/plain": [
       "Intercept    0.197315\n",
       "income       0.003308\n",
       "price       -1.044413\n",
       "temp         0.003458\n",
       "dtype: float64"
      ]
     },
     "execution_count": 4,
     "metadata": {},
     "output_type": "execute_result"
    }
   ],
   "source": [
    "model = smf.ols(data=df, formula = 'cons~income+price+temp').fit()\n",
    "model.params"
   ]
  },
  {
   "cell_type": "markdown",
   "id": "62ea545e",
   "metadata": {},
   "source": [
    "$$\n",
    "cons_t = \\beta_0 + \\beta_1*price + \\beta_2*temp\n",
    "$$"
   ]
  },
  {
   "cell_type": "markdown",
   "id": "c4f3a372",
   "metadata": {},
   "source": [
    "Предположим, что зависимость ошибок имеет вид:\n",
    "$$ u_t = u_0 + \\rho*u_{t-1} $$"
   ]
  },
  {
   "cell_type": "markdown",
   "id": "e9e563b1",
   "metadata": {},
   "source": [
    "$$\n",
    "H_0: \\rho=0\n",
    "    $$\n",
    "    $$\n",
    "H_1: \\rho\\neq 0\n",
    "    $$"
   ]
  },
  {
   "cell_type": "code",
   "execution_count": 6,
   "id": "59ecfa43",
   "metadata": {},
   "outputs": [],
   "source": [
    "res_sum = sum(model.resid**2)"
   ]
  },
  {
   "cell_type": "code",
   "execution_count": 7,
   "id": "71fdc223",
   "metadata": {},
   "outputs": [],
   "source": [
    "# Вычислим числительно\n",
    "sum_resid = 0\n",
    "#запускаем цикл\n",
    "for i in range(len(model.resid)-1):\n",
    "    sum_resid+=(model.resid[i+1]-model.resid[i])**2"
   ]
  },
  {
   "cell_type": "code",
   "execution_count": 8,
   "id": "6f5cddff",
   "metadata": {},
   "outputs": [
    {
     "data": {
      "text/plain": [
       "1.0211693122833825"
      ]
     },
     "execution_count": 8,
     "metadata": {},
     "output_type": "execute_result"
    }
   ],
   "source": [
    "sum_resid/res_sum"
   ]
  },
  {
   "cell_type": "code",
   "execution_count": null,
   "id": "06cd74ad",
   "metadata": {},
   "outputs": [],
   "source": []
  }
 ],
 "metadata": {
  "kernelspec": {
   "display_name": "Python 3 (ipykernel)",
   "language": "python",
   "name": "python3"
  },
  "language_info": {
   "codemirror_mode": {
    "name": "ipython",
    "version": 3
   },
   "file_extension": ".py",
   "mimetype": "text/x-python",
   "name": "python",
   "nbconvert_exporter": "python",
   "pygments_lexer": "ipython3",
   "version": "3.9.15"
  }
 },
 "nbformat": 4,
 "nbformat_minor": 5
}
