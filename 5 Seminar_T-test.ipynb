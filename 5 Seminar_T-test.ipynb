{
 "cells": [
  {
   "cell_type": "code",
   "execution_count": 6,
   "id": "6b75517a",
   "metadata": {},
   "outputs": [],
   "source": [
    "import pandas as pd\n",
    "import numpy as np\n",
    "import statsmodels.formula.api as smf\n",
    "import scipy.stats as stats\n",
    "import io"
   ]
  },
  {
   "cell_type": "code",
   "execution_count": 11,
   "id": "f2485fa9",
   "metadata": {},
   "outputs": [],
   "source": [
    "data_string = '''Names Estimate Std.Error\n",
    "(Intercept) 3446.830     81.840\n",
    "totwrk        -0.169      0.018\n",
    "age            2.714      1.472\n",
    "south        102.272     41.925\n",
    "male          87.108     35.173\n",
    "smsa         -54.188     33.193\n",
    "yngkid       -13.051     50.459\n",
    "marr          31.360     42.263\n",
    "union         11.866     38.186'''"
   ]
  },
  {
   "cell_type": "code",
   "execution_count": 12,
   "id": "130da934",
   "metadata": {},
   "outputs": [
    {
     "data": {
      "text/html": [
       "<div>\n",
       "<style scoped>\n",
       "    .dataframe tbody tr th:only-of-type {\n",
       "        vertical-align: middle;\n",
       "    }\n",
       "\n",
       "    .dataframe tbody tr th {\n",
       "        vertical-align: top;\n",
       "    }\n",
       "\n",
       "    .dataframe thead th {\n",
       "        text-align: right;\n",
       "    }\n",
       "</style>\n",
       "<table border=\"1\" class=\"dataframe\">\n",
       "  <thead>\n",
       "    <tr style=\"text-align: right;\">\n",
       "      <th></th>\n",
       "      <th>Names</th>\n",
       "      <th>Estimate</th>\n",
       "      <th>Std.Error</th>\n",
       "    </tr>\n",
       "  </thead>\n",
       "  <tbody>\n",
       "    <tr>\n",
       "      <th>0</th>\n",
       "      <td>(Intercept)</td>\n",
       "      <td>3446.830</td>\n",
       "      <td>81.840</td>\n",
       "    </tr>\n",
       "    <tr>\n",
       "      <th>1</th>\n",
       "      <td>totwrk</td>\n",
       "      <td>-0.169</td>\n",
       "      <td>0.018</td>\n",
       "    </tr>\n",
       "    <tr>\n",
       "      <th>2</th>\n",
       "      <td>age</td>\n",
       "      <td>2.714</td>\n",
       "      <td>1.472</td>\n",
       "    </tr>\n",
       "    <tr>\n",
       "      <th>3</th>\n",
       "      <td>south</td>\n",
       "      <td>102.272</td>\n",
       "      <td>41.925</td>\n",
       "    </tr>\n",
       "    <tr>\n",
       "      <th>4</th>\n",
       "      <td>male</td>\n",
       "      <td>87.108</td>\n",
       "      <td>35.173</td>\n",
       "    </tr>\n",
       "    <tr>\n",
       "      <th>5</th>\n",
       "      <td>smsa</td>\n",
       "      <td>-54.188</td>\n",
       "      <td>33.193</td>\n",
       "    </tr>\n",
       "    <tr>\n",
       "      <th>6</th>\n",
       "      <td>yngkid</td>\n",
       "      <td>-13.051</td>\n",
       "      <td>50.459</td>\n",
       "    </tr>\n",
       "    <tr>\n",
       "      <th>7</th>\n",
       "      <td>marr</td>\n",
       "      <td>31.360</td>\n",
       "      <td>42.263</td>\n",
       "    </tr>\n",
       "    <tr>\n",
       "      <th>8</th>\n",
       "      <td>union</td>\n",
       "      <td>11.866</td>\n",
       "      <td>38.186</td>\n",
       "    </tr>\n",
       "  </tbody>\n",
       "</table>\n",
       "</div>"
      ],
      "text/plain": [
       "         Names  Estimate  Std.Error\n",
       "0  (Intercept)  3446.830     81.840\n",
       "1       totwrk    -0.169      0.018\n",
       "2          age     2.714      1.472\n",
       "3        south   102.272     41.925\n",
       "4         male    87.108     35.173\n",
       "5         smsa   -54.188     33.193\n",
       "6       yngkid   -13.051     50.459\n",
       "7         marr    31.360     42.263\n",
       "8        union    11.866     38.186"
      ]
     },
     "execution_count": 12,
     "metadata": {},
     "output_type": "execute_result"
    }
   ],
   "source": [
    "df = pd.read_csv(io.StringIO(data_string), sep='\\s+')\n",
    "df"
   ]
  },
  {
   "cell_type": "code",
   "execution_count": 13,
   "id": "c7891a52",
   "metadata": {},
   "outputs": [
    {
     "data": {
      "text/html": [
       "<div>\n",
       "<style scoped>\n",
       "    .dataframe tbody tr th:only-of-type {\n",
       "        vertical-align: middle;\n",
       "    }\n",
       "\n",
       "    .dataframe tbody tr th {\n",
       "        vertical-align: top;\n",
       "    }\n",
       "\n",
       "    .dataframe thead th {\n",
       "        text-align: right;\n",
       "    }\n",
       "</style>\n",
       "<table border=\"1\" class=\"dataframe\">\n",
       "  <thead>\n",
       "    <tr style=\"text-align: right;\">\n",
       "      <th></th>\n",
       "      <th>Names</th>\n",
       "      <th>Estimate</th>\n",
       "      <th>Std.Error</th>\n",
       "      <th>znachimost</th>\n",
       "    </tr>\n",
       "  </thead>\n",
       "  <tbody>\n",
       "    <tr>\n",
       "      <th>0</th>\n",
       "      <td>(Intercept)</td>\n",
       "      <td>3446.830</td>\n",
       "      <td>81.840</td>\n",
       "      <td>42.116691</td>\n",
       "    </tr>\n",
       "    <tr>\n",
       "      <th>1</th>\n",
       "      <td>totwrk</td>\n",
       "      <td>-0.169</td>\n",
       "      <td>0.018</td>\n",
       "      <td>9.388889</td>\n",
       "    </tr>\n",
       "    <tr>\n",
       "      <th>2</th>\n",
       "      <td>age</td>\n",
       "      <td>2.714</td>\n",
       "      <td>1.472</td>\n",
       "      <td>1.843750</td>\n",
       "    </tr>\n",
       "    <tr>\n",
       "      <th>3</th>\n",
       "      <td>south</td>\n",
       "      <td>102.272</td>\n",
       "      <td>41.925</td>\n",
       "      <td>2.439404</td>\n",
       "    </tr>\n",
       "    <tr>\n",
       "      <th>4</th>\n",
       "      <td>male</td>\n",
       "      <td>87.108</td>\n",
       "      <td>35.173</td>\n",
       "      <td>2.476559</td>\n",
       "    </tr>\n",
       "    <tr>\n",
       "      <th>5</th>\n",
       "      <td>smsa</td>\n",
       "      <td>-54.188</td>\n",
       "      <td>33.193</td>\n",
       "      <td>1.632513</td>\n",
       "    </tr>\n",
       "    <tr>\n",
       "      <th>6</th>\n",
       "      <td>yngkid</td>\n",
       "      <td>-13.051</td>\n",
       "      <td>50.459</td>\n",
       "      <td>0.258646</td>\n",
       "    </tr>\n",
       "    <tr>\n",
       "      <th>7</th>\n",
       "      <td>marr</td>\n",
       "      <td>31.360</td>\n",
       "      <td>42.263</td>\n",
       "      <td>0.742020</td>\n",
       "    </tr>\n",
       "    <tr>\n",
       "      <th>8</th>\n",
       "      <td>union</td>\n",
       "      <td>11.866</td>\n",
       "      <td>38.186</td>\n",
       "      <td>0.310742</td>\n",
       "    </tr>\n",
       "  </tbody>\n",
       "</table>\n",
       "</div>"
      ],
      "text/plain": [
       "         Names  Estimate  Std.Error  znachimost\n",
       "0  (Intercept)  3446.830     81.840   42.116691\n",
       "1       totwrk    -0.169      0.018    9.388889\n",
       "2          age     2.714      1.472    1.843750\n",
       "3        south   102.272     41.925    2.439404\n",
       "4         male    87.108     35.173    2.476559\n",
       "5         smsa   -54.188     33.193    1.632513\n",
       "6       yngkid   -13.051     50.459    0.258646\n",
       "7         marr    31.360     42.263    0.742020\n",
       "8        union    11.866     38.186    0.310742"
      ]
     },
     "execution_count": 13,
     "metadata": {},
     "output_type": "execute_result"
    }
   ],
   "source": [
    "df['znachimost'] = np.abs(df['Estimate']/df['Std.Error'])\n",
    "df"
   ]
  },
  {
   "cell_type": "code",
   "execution_count": 14,
   "id": "1422d20a",
   "metadata": {},
   "outputs": [
    {
     "data": {
      "text/plain": [
       "1.9633684547051231"
      ]
     },
     "execution_count": 14,
     "metadata": {},
     "output_type": "execute_result"
    }
   ],
   "source": [
    "alpha = 0.05\n",
    "#ppf - percent point function\n",
    "t = stats.t.ppf(1-alpha/2, 707-9)\n",
    "t"
   ]
  },
  {
   "cell_type": "code",
   "execution_count": 15,
   "id": "698ac7fb",
   "metadata": {},
   "outputs": [
    {
     "data": {
      "text/html": [
       "<div>\n",
       "<style scoped>\n",
       "    .dataframe tbody tr th:only-of-type {\n",
       "        vertical-align: middle;\n",
       "    }\n",
       "\n",
       "    .dataframe tbody tr th {\n",
       "        vertical-align: top;\n",
       "    }\n",
       "\n",
       "    .dataframe thead th {\n",
       "        text-align: right;\n",
       "    }\n",
       "</style>\n",
       "<table border=\"1\" class=\"dataframe\">\n",
       "  <thead>\n",
       "    <tr style=\"text-align: right;\">\n",
       "      <th></th>\n",
       "      <th>Names</th>\n",
       "      <th>Estimate</th>\n",
       "      <th>Std.Error</th>\n",
       "      <th>znachimost</th>\n",
       "      <th>result</th>\n",
       "    </tr>\n",
       "  </thead>\n",
       "  <tbody>\n",
       "    <tr>\n",
       "      <th>0</th>\n",
       "      <td>(Intercept)</td>\n",
       "      <td>3446.830</td>\n",
       "      <td>81.840</td>\n",
       "      <td>42.116691</td>\n",
       "      <td>значимо</td>\n",
       "    </tr>\n",
       "    <tr>\n",
       "      <th>1</th>\n",
       "      <td>totwrk</td>\n",
       "      <td>-0.169</td>\n",
       "      <td>0.018</td>\n",
       "      <td>9.388889</td>\n",
       "      <td>значимо</td>\n",
       "    </tr>\n",
       "    <tr>\n",
       "      <th>2</th>\n",
       "      <td>age</td>\n",
       "      <td>2.714</td>\n",
       "      <td>1.472</td>\n",
       "      <td>1.843750</td>\n",
       "      <td>не значимо</td>\n",
       "    </tr>\n",
       "    <tr>\n",
       "      <th>3</th>\n",
       "      <td>south</td>\n",
       "      <td>102.272</td>\n",
       "      <td>41.925</td>\n",
       "      <td>2.439404</td>\n",
       "      <td>значимо</td>\n",
       "    </tr>\n",
       "    <tr>\n",
       "      <th>4</th>\n",
       "      <td>male</td>\n",
       "      <td>87.108</td>\n",
       "      <td>35.173</td>\n",
       "      <td>2.476559</td>\n",
       "      <td>значимо</td>\n",
       "    </tr>\n",
       "    <tr>\n",
       "      <th>5</th>\n",
       "      <td>smsa</td>\n",
       "      <td>-54.188</td>\n",
       "      <td>33.193</td>\n",
       "      <td>1.632513</td>\n",
       "      <td>не значимо</td>\n",
       "    </tr>\n",
       "    <tr>\n",
       "      <th>6</th>\n",
       "      <td>yngkid</td>\n",
       "      <td>-13.051</td>\n",
       "      <td>50.459</td>\n",
       "      <td>0.258646</td>\n",
       "      <td>не значимо</td>\n",
       "    </tr>\n",
       "    <tr>\n",
       "      <th>7</th>\n",
       "      <td>marr</td>\n",
       "      <td>31.360</td>\n",
       "      <td>42.263</td>\n",
       "      <td>0.742020</td>\n",
       "      <td>не значимо</td>\n",
       "    </tr>\n",
       "    <tr>\n",
       "      <th>8</th>\n",
       "      <td>union</td>\n",
       "      <td>11.866</td>\n",
       "      <td>38.186</td>\n",
       "      <td>0.310742</td>\n",
       "      <td>не значимо</td>\n",
       "    </tr>\n",
       "  </tbody>\n",
       "</table>\n",
       "</div>"
      ],
      "text/plain": [
       "         Names  Estimate  Std.Error  znachimost      result\n",
       "0  (Intercept)  3446.830     81.840   42.116691     значимо\n",
       "1       totwrk    -0.169      0.018    9.388889     значимо\n",
       "2          age     2.714      1.472    1.843750  не значимо\n",
       "3        south   102.272     41.925    2.439404     значимо\n",
       "4         male    87.108     35.173    2.476559     значимо\n",
       "5         smsa   -54.188     33.193    1.632513  не значимо\n",
       "6       yngkid   -13.051     50.459    0.258646  не значимо\n",
       "7         marr    31.360     42.263    0.742020  не значимо\n",
       "8        union    11.866     38.186    0.310742  не значимо"
      ]
     },
     "execution_count": 15,
     "metadata": {},
     "output_type": "execute_result"
    }
   ],
   "source": [
    "df['result'] = df.apply(lambda x: 'значимо' if x['znachimost']>t else 'не значимо',axis=1)\n",
    "df"
   ]
  },
  {
   "cell_type": "code",
   "execution_count": 17,
   "id": "44c6cb5f",
   "metadata": {},
   "outputs": [
    {
     "data": {
      "text/html": [
       "<div>\n",
       "<style scoped>\n",
       "    .dataframe tbody tr th:only-of-type {\n",
       "        vertical-align: middle;\n",
       "    }\n",
       "\n",
       "    .dataframe tbody tr th {\n",
       "        vertical-align: top;\n",
       "    }\n",
       "\n",
       "    .dataframe thead th {\n",
       "        text-align: right;\n",
       "    }\n",
       "</style>\n",
       "<table border=\"1\" class=\"dataframe\">\n",
       "  <thead>\n",
       "    <tr style=\"text-align: right;\">\n",
       "      <th></th>\n",
       "      <th>capital</th>\n",
       "      <th>labour</th>\n",
       "      <th>output</th>\n",
       "      <th>wage</th>\n",
       "    </tr>\n",
       "  </thead>\n",
       "  <tbody>\n",
       "    <tr>\n",
       "      <th>0</th>\n",
       "      <td>2.606563</td>\n",
       "      <td>184</td>\n",
       "      <td>9.250759</td>\n",
       "      <td>43.080307</td>\n",
       "    </tr>\n",
       "    <tr>\n",
       "      <th>1</th>\n",
       "      <td>1.323237</td>\n",
       "      <td>91</td>\n",
       "      <td>3.664310</td>\n",
       "      <td>27.780016</td>\n",
       "    </tr>\n",
       "    <tr>\n",
       "      <th>2</th>\n",
       "      <td>22.093692</td>\n",
       "      <td>426</td>\n",
       "      <td>28.781516</td>\n",
       "      <td>44.467748</td>\n",
       "    </tr>\n",
       "    <tr>\n",
       "      <th>3</th>\n",
       "      <td>10.737851</td>\n",
       "      <td>72</td>\n",
       "      <td>4.124642</td>\n",
       "      <td>39.734710</td>\n",
       "    </tr>\n",
       "    <tr>\n",
       "      <th>4</th>\n",
       "      <td>1.161365</td>\n",
       "      <td>46</td>\n",
       "      <td>2.890150</td>\n",
       "      <td>34.650709</td>\n",
       "    </tr>\n",
       "    <tr>\n",
       "      <th>...</th>\n",
       "      <td>...</td>\n",
       "      <td>...</td>\n",
       "      <td>...</td>\n",
       "      <td>...</td>\n",
       "    </tr>\n",
       "    <tr>\n",
       "      <th>564</th>\n",
       "      <td>2.625403</td>\n",
       "      <td>20</td>\n",
       "      <td>1.424376</td>\n",
       "      <td>33.477545</td>\n",
       "    </tr>\n",
       "    <tr>\n",
       "      <th>565</th>\n",
       "      <td>1.276386</td>\n",
       "      <td>61</td>\n",
       "      <td>2.109048</td>\n",
       "      <td>26.300732</td>\n",
       "    </tr>\n",
       "    <tr>\n",
       "      <th>566</th>\n",
       "      <td>1.953869</td>\n",
       "      <td>117</td>\n",
       "      <td>6.241870</td>\n",
       "      <td>41.153979</td>\n",
       "    </tr>\n",
       "    <tr>\n",
       "      <th>567</th>\n",
       "      <td>1.318527</td>\n",
       "      <td>46</td>\n",
       "      <td>7.902237</td>\n",
       "      <td>66.720139</td>\n",
       "    </tr>\n",
       "    <tr>\n",
       "      <th>568</th>\n",
       "      <td>2.832391</td>\n",
       "      <td>161</td>\n",
       "      <td>6.804085</td>\n",
       "      <td>36.618435</td>\n",
       "    </tr>\n",
       "  </tbody>\n",
       "</table>\n",
       "<p>569 rows × 4 columns</p>\n",
       "</div>"
      ],
      "text/plain": [
       "       capital  labour     output       wage\n",
       "0     2.606563     184   9.250759  43.080307\n",
       "1     1.323237      91   3.664310  27.780016\n",
       "2    22.093692     426  28.781516  44.467748\n",
       "3    10.737851      72   4.124642  39.734710\n",
       "4     1.161365      46   2.890150  34.650709\n",
       "..         ...     ...        ...        ...\n",
       "564   2.625403      20   1.424376  33.477545\n",
       "565   1.276386      61   2.109048  26.300732\n",
       "566   1.953869     117   6.241870  41.153979\n",
       "567   1.318527      46   7.902237  66.720139\n",
       "568   2.832391     161   6.804085  36.618435\n",
       "\n",
       "[569 rows x 4 columns]"
      ]
     },
     "execution_count": 17,
     "metadata": {},
     "output_type": "execute_result"
    }
   ],
   "source": [
    "df_labour = pd.read_csv('https://raw.githubusercontent.com/artamonoff/Econometrica/master/python-notebooks/data-csv/Labour.csv')\n",
    "df_labour"
   ]
  },
  {
   "cell_type": "code",
   "execution_count": 22,
   "id": "e5ec17cb",
   "metadata": {},
   "outputs": [
    {
     "data": {
      "text/html": [
       "<table class=\"simpletable\">\n",
       "<caption>OLS Regression Results</caption>\n",
       "<tr>\n",
       "  <th>Dep. Variable:</th>     <td>np.log(output)</td>  <th>  R-squared:         </th> <td>   0.838</td> \n",
       "</tr>\n",
       "<tr>\n",
       "  <th>Model:</th>                   <td>OLS</td>       <th>  Adj. R-squared:    </th> <td>   0.837</td> \n",
       "</tr>\n",
       "<tr>\n",
       "  <th>Method:</th>             <td>Least Squares</td>  <th>  F-statistic:       </th> <td>   1462.</td> \n",
       "</tr>\n",
       "<tr>\n",
       "  <th>Date:</th>             <td>Wed, 22 Mar 2023</td> <th>  Prob (F-statistic):</th> <td>2.64e-224</td>\n",
       "</tr>\n",
       "<tr>\n",
       "  <th>Time:</th>                 <td>09:48:44</td>     <th>  Log-Likelihood:    </th> <td> -385.95</td> \n",
       "</tr>\n",
       "<tr>\n",
       "  <th>No. Observations:</th>      <td>   569</td>      <th>  AIC:               </th> <td>   777.9</td> \n",
       "</tr>\n",
       "<tr>\n",
       "  <th>Df Residuals:</th>          <td>   566</td>      <th>  BIC:               </th> <td>   790.9</td> \n",
       "</tr>\n",
       "<tr>\n",
       "  <th>Df Model:</th>              <td>     2</td>      <th>                     </th>     <td> </td>    \n",
       "</tr>\n",
       "<tr>\n",
       "  <th>Covariance Type:</th>      <td>nonrobust</td>    <th>                     </th>     <td> </td>    \n",
       "</tr>\n",
       "</table>\n",
       "<table class=\"simpletable\">\n",
       "<tr>\n",
       "         <td></td>            <th>coef</th>     <th>std err</th>      <th>t</th>      <th>P>|t|</th>  <th>[0.005</th>    <th>0.995]</th>  \n",
       "</tr>\n",
       "<tr>\n",
       "  <th>Intercept</th>       <td>   -1.7115</td> <td>    0.097</td> <td>  -17.697</td> <td> 0.000</td> <td>   -1.961</td> <td>   -1.462</td>\n",
       "</tr>\n",
       "<tr>\n",
       "  <th>np.log(capital)</th> <td>    0.2076</td> <td>    0.017</td> <td>   12.077</td> <td> 0.000</td> <td>    0.163</td> <td>    0.252</td>\n",
       "</tr>\n",
       "<tr>\n",
       "  <th>np.log(labour)</th>  <td>    0.7148</td> <td>    0.023</td> <td>   30.890</td> <td> 0.000</td> <td>    0.655</td> <td>    0.775</td>\n",
       "</tr>\n",
       "</table>\n",
       "<table class=\"simpletable\">\n",
       "<tr>\n",
       "  <th>Omnibus:</th>       <td>259.475</td> <th>  Durbin-Watson:     </th> <td>   1.963</td>\n",
       "</tr>\n",
       "<tr>\n",
       "  <th>Prob(Omnibus):</th> <td> 0.000</td>  <th>  Jarque-Bera (JB):  </th> <td>2677.293</td>\n",
       "</tr>\n",
       "<tr>\n",
       "  <th>Skew:</th>          <td> 1.734</td>  <th>  Prob(JB):          </th> <td>    0.00</td>\n",
       "</tr>\n",
       "<tr>\n",
       "  <th>Kurtosis:</th>      <td>13.045</td>  <th>  Cond. No.          </th> <td>    24.3</td>\n",
       "</tr>\n",
       "</table><br/><br/>Notes:<br/>[1] Standard Errors assume that the covariance matrix of the errors is correctly specified."
      ],
      "text/plain": [
       "<class 'statsmodels.iolib.summary.Summary'>\n",
       "\"\"\"\n",
       "                            OLS Regression Results                            \n",
       "==============================================================================\n",
       "Dep. Variable:         np.log(output)   R-squared:                       0.838\n",
       "Model:                            OLS   Adj. R-squared:                  0.837\n",
       "Method:                 Least Squares   F-statistic:                     1462.\n",
       "Date:                Wed, 22 Mar 2023   Prob (F-statistic):          2.64e-224\n",
       "Time:                        09:48:44   Log-Likelihood:                -385.95\n",
       "No. Observations:                 569   AIC:                             777.9\n",
       "Df Residuals:                     566   BIC:                             790.9\n",
       "Df Model:                           2                                         \n",
       "Covariance Type:            nonrobust                                         \n",
       "===================================================================================\n",
       "                      coef    std err          t      P>|t|      [0.005      0.995]\n",
       "-----------------------------------------------------------------------------------\n",
       "Intercept          -1.7115      0.097    -17.697      0.000      -1.961      -1.462\n",
       "np.log(capital)     0.2076      0.017     12.077      0.000       0.163       0.252\n",
       "np.log(labour)      0.7148      0.023     30.890      0.000       0.655       0.775\n",
       "==============================================================================\n",
       "Omnibus:                      259.475   Durbin-Watson:                   1.963\n",
       "Prob(Omnibus):                  0.000   Jarque-Bera (JB):             2677.293\n",
       "Skew:                           1.734   Prob(JB):                         0.00\n",
       "Kurtosis:                      13.045   Cond. No.                         24.3\n",
       "==============================================================================\n",
       "\n",
       "Notes:\n",
       "[1] Standard Errors assume that the covariance matrix of the errors is correctly specified.\n",
       "\"\"\""
      ]
     },
     "execution_count": 22,
     "metadata": {},
     "output_type": "execute_result"
    }
   ],
   "source": [
    "model = smf.ols(data=df_labour, formula='np.log(output)~np.log(capital)+np.log(labour)').fit()\n",
    "model.summary(alpha=0.01)"
   ]
  },
  {
   "cell_type": "code",
   "execution_count": 23,
   "id": "bdd5f6fd",
   "metadata": {},
   "outputs": [
    {
     "data": {
      "text/html": [
       "<table class=\"simpletable\">\n",
       "<tr>\n",
       "         <td></td>            <th>coef</th>     <th>std err</th>      <th>t</th>      <th>P>|t|</th>  <th>[0.005</th>    <th>0.995]</th>  \n",
       "</tr>\n",
       "<tr>\n",
       "  <th>Intercept</th>       <td>   -1.7115</td> <td>    0.097</td> <td>  -17.697</td> <td> 0.000</td> <td>   -1.961</td> <td>   -1.462</td>\n",
       "</tr>\n",
       "<tr>\n",
       "  <th>np.log(capital)</th> <td>    0.2076</td> <td>    0.017</td> <td>   12.077</td> <td> 0.000</td> <td>    0.163</td> <td>    0.252</td>\n",
       "</tr>\n",
       "<tr>\n",
       "  <th>np.log(labour)</th>  <td>    0.7148</td> <td>    0.023</td> <td>   30.890</td> <td> 0.000</td> <td>    0.655</td> <td>    0.775</td>\n",
       "</tr>\n",
       "</table>"
      ],
      "text/plain": [
       "<class 'statsmodels.iolib.table.SimpleTable'>"
      ]
     },
     "execution_count": 23,
     "metadata": {},
     "output_type": "execute_result"
    }
   ],
   "source": [
    "model.summary(alpha=0.01).tables[1]"
   ]
  },
  {
   "cell_type": "code",
   "execution_count": 26,
   "id": "26c02f41",
   "metadata": {},
   "outputs": [
    {
     "data": {
      "text/plain": [
       "<class 'statsmodels.stats.contrast.ContrastResults'>\n",
       "                             Test for Constraints                             \n",
       "==============================================================================\n",
       "                 coef    std err          t      P>|t|      [0.025      0.975]\n",
       "------------------------------------------------------------------------------\n",
       "c0            -1.7115      0.097    -17.697      0.000      -1.901      -1.522\n",
       "=============================================================================="
      ]
     },
     "execution_count": 26,
     "metadata": {},
     "output_type": "execute_result"
    }
   ],
   "source": [
    "model.t_test('Intercept')"
   ]
  },
  {
   "cell_type": "code",
   "execution_count": 28,
   "id": "8283ab2f",
   "metadata": {},
   "outputs": [
    {
     "data": {
      "text/plain": [
       "<class 'statsmodels.stats.contrast.ContrastResults'>\n",
       "                             Test for Constraints                             \n",
       "==============================================================================\n",
       "                 coef    std err          t      P>|t|      [0.025      0.975]\n",
       "------------------------------------------------------------------------------\n",
       "c0             0.2076      0.017    -17.014      0.000       0.174       0.241\n",
       "=============================================================================="
      ]
     },
     "execution_count": 28,
     "metadata": {},
     "output_type": "execute_result"
    }
   ],
   "source": [
    "model.t_test('np.log(capital)=0.5')"
   ]
  },
  {
   "cell_type": "code",
   "execution_count": 31,
   "id": "d87bc71f",
   "metadata": {},
   "outputs": [
    {
     "data": {
      "text/plain": [
       "569"
      ]
     },
     "execution_count": 31,
     "metadata": {},
     "output_type": "execute_result"
    }
   ],
   "source": [
    "len(df_labour)"
   ]
  },
  {
   "cell_type": "code",
   "execution_count": 33,
   "id": "da3adb4c",
   "metadata": {},
   "outputs": [
    {
     "data": {
      "text/plain": [
       "2.584543428450176"
      ]
     },
     "execution_count": 33,
     "metadata": {},
     "output_type": "execute_result"
    }
   ],
   "source": [
    "t_cr = stats.t.ppf(1-0.01/2, len(df_labour)-3)\n",
    "t_cr"
   ]
  },
  {
   "cell_type": "markdown",
   "id": "04cc9ef0",
   "metadata": {},
   "source": [
    "### Критическое значение Стьюдента меньше наблюдаемого, коэф np.log(capital) значительно отличается от 0.2076"
   ]
  },
  {
   "cell_type": "code",
   "execution_count": 35,
   "id": "e3e31878",
   "metadata": {},
   "outputs": [
    {
     "data": {
      "text/plain": [
       "17.2"
      ]
     },
     "execution_count": 35,
     "metadata": {},
     "output_type": "execute_result"
    }
   ],
   "source": [
    "#подсчет t набл вручную\n",
    "beta_cap = 0.2076\n",
    "st_err = 0.017\n",
    "t_nab = np.abs((beta_cap-0.5)/st_err)\n",
    "t_nab"
   ]
  },
  {
   "cell_type": "code",
   "execution_count": null,
   "id": "f5183d5c",
   "metadata": {},
   "outputs": [],
   "source": []
  }
 ],
 "metadata": {
  "kernelspec": {
   "display_name": "Python 3 (ipykernel)",
   "language": "python",
   "name": "python3"
  },
  "language_info": {
   "codemirror_mode": {
    "name": "ipython",
    "version": 3
   },
   "file_extension": ".py",
   "mimetype": "text/x-python",
   "name": "python",
   "nbconvert_exporter": "python",
   "pygments_lexer": "ipython3",
   "version": "3.9.15"
  }
 },
 "nbformat": 4,
 "nbformat_minor": 5
}
