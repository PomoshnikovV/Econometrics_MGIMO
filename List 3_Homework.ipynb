{
 "cells": [
  {
   "cell_type": "code",
   "execution_count": 16,
   "id": "96cf850b",
   "metadata": {},
   "outputs": [],
   "source": [
    "import numpy as np\n",
    "import pandas as pd\n",
    "import io\n",
    "import statsmodels.formula.api as smf"
   ]
  },
  {
   "cell_type": "markdown",
   "id": "db47f9a7",
   "metadata": {},
   "source": [
    "# Листок 3\n",
    "## Задача 1.1.1"
   ]
  },
  {
   "cell_type": "code",
   "execution_count": 2,
   "id": "e877e48a",
   "metadata": {},
   "outputs": [],
   "source": [
    "#определяем данные\n",
    "data = '''sleep totwrk age male hrwage\n",
    "3113   3438  32   1    7.07 \n",
    "2920   5020  31   1    1.43 \n",
    "2670   2815  44   1   20.53 \n",
    "3083   3786  30   0    9.62 \n",
    "3448   2580  64   1    2.75 \n",
    "4063   1205  41   1   19.25'''"
   ]
  },
  {
   "cell_type": "code",
   "execution_count": 5,
   "id": "e9fc44c8",
   "metadata": {},
   "outputs": [
    {
     "data": {
      "text/html": [
       "<div>\n",
       "<style scoped>\n",
       "    .dataframe tbody tr th:only-of-type {\n",
       "        vertical-align: middle;\n",
       "    }\n",
       "\n",
       "    .dataframe tbody tr th {\n",
       "        vertical-align: top;\n",
       "    }\n",
       "\n",
       "    .dataframe thead th {\n",
       "        text-align: right;\n",
       "    }\n",
       "</style>\n",
       "<table border=\"1\" class=\"dataframe\">\n",
       "  <thead>\n",
       "    <tr style=\"text-align: right;\">\n",
       "      <th></th>\n",
       "      <th>sleep</th>\n",
       "      <th>totwrk</th>\n",
       "      <th>age</th>\n",
       "      <th>male</th>\n",
       "      <th>hrwage</th>\n",
       "    </tr>\n",
       "  </thead>\n",
       "  <tbody>\n",
       "    <tr>\n",
       "      <th>0</th>\n",
       "      <td>3113</td>\n",
       "      <td>3438</td>\n",
       "      <td>32</td>\n",
       "      <td>1</td>\n",
       "      <td>7.07</td>\n",
       "    </tr>\n",
       "    <tr>\n",
       "      <th>1</th>\n",
       "      <td>2920</td>\n",
       "      <td>5020</td>\n",
       "      <td>31</td>\n",
       "      <td>1</td>\n",
       "      <td>1.43</td>\n",
       "    </tr>\n",
       "    <tr>\n",
       "      <th>2</th>\n",
       "      <td>2670</td>\n",
       "      <td>2815</td>\n",
       "      <td>44</td>\n",
       "      <td>1</td>\n",
       "      <td>20.53</td>\n",
       "    </tr>\n",
       "    <tr>\n",
       "      <th>3</th>\n",
       "      <td>3083</td>\n",
       "      <td>3786</td>\n",
       "      <td>30</td>\n",
       "      <td>0</td>\n",
       "      <td>9.62</td>\n",
       "    </tr>\n",
       "    <tr>\n",
       "      <th>4</th>\n",
       "      <td>3448</td>\n",
       "      <td>2580</td>\n",
       "      <td>64</td>\n",
       "      <td>1</td>\n",
       "      <td>2.75</td>\n",
       "    </tr>\n",
       "    <tr>\n",
       "      <th>5</th>\n",
       "      <td>4063</td>\n",
       "      <td>1205</td>\n",
       "      <td>41</td>\n",
       "      <td>1</td>\n",
       "      <td>19.25</td>\n",
       "    </tr>\n",
       "  </tbody>\n",
       "</table>\n",
       "</div>"
      ],
      "text/plain": [
       "   sleep  totwrk  age  male  hrwage\n",
       "0   3113    3438   32     1    7.07\n",
       "1   2920    5020   31     1    1.43\n",
       "2   2670    2815   44     1   20.53\n",
       "3   3083    3786   30     0    9.62\n",
       "4   3448    2580   64     1    2.75\n",
       "5   4063    1205   41     1   19.25"
      ]
     },
     "execution_count": 5,
     "metadata": {},
     "output_type": "execute_result"
    }
   ],
   "source": [
    "# создаём DataFrame\n",
    "df = pd.read_csv(io.StringIO(data), sep='\\s+')\n",
    "df"
   ]
  },
  {
   "cell_type": "code",
   "execution_count": 6,
   "id": "7bb2d8ba",
   "metadata": {},
   "outputs": [
    {
     "data": {
      "text/plain": [
       "Intercept         8278.94\n",
       "totwrk              -0.78\n",
       "age                -29.23\n",
       "male              -325.35\n",
       "np.log(hrwage)    -596.19\n",
       "dtype: float64"
      ]
     },
     "execution_count": 6,
     "metadata": {},
     "output_type": "execute_result"
    }
   ],
   "source": [
    "# специфицируем модель через формулу\n",
    "output_eq1 = smf.ols(formula='sleep~totwrk+age+male+np.log(hrwage)', data=df).fit()\n",
    "# Коэфициенты модели с округление\n",
    "output_eq1.params.round(2)"
   ]
  },
  {
   "cell_type": "code",
   "execution_count": 10,
   "id": "347050a3",
   "metadata": {},
   "outputs": [],
   "source": [
    "#добавляем доп. столбец с предсказанными значениями\n",
    "df['pred'] = 3525.14 +  (-0.16)*df['totwrk'] + 1.62*df['age'] + 51.84*df['male'] + (-9.88)*np.log(df['hrwage'])"
   ]
  },
  {
   "cell_type": "code",
   "execution_count": 11,
   "id": "7a89c5d0",
   "metadata": {},
   "outputs": [
    {
     "data": {
      "text/html": [
       "<div>\n",
       "<style scoped>\n",
       "    .dataframe tbody tr th:only-of-type {\n",
       "        vertical-align: middle;\n",
       "    }\n",
       "\n",
       "    .dataframe tbody tr th {\n",
       "        vertical-align: top;\n",
       "    }\n",
       "\n",
       "    .dataframe thead th {\n",
       "        text-align: right;\n",
       "    }\n",
       "</style>\n",
       "<table border=\"1\" class=\"dataframe\">\n",
       "  <thead>\n",
       "    <tr style=\"text-align: right;\">\n",
       "      <th></th>\n",
       "      <th>sleep</th>\n",
       "      <th>totwrk</th>\n",
       "      <th>age</th>\n",
       "      <th>male</th>\n",
       "      <th>hrwage</th>\n",
       "      <th>pred</th>\n",
       "    </tr>\n",
       "  </thead>\n",
       "  <tbody>\n",
       "    <tr>\n",
       "      <th>0</th>\n",
       "      <td>3113</td>\n",
       "      <td>3438</td>\n",
       "      <td>32</td>\n",
       "      <td>1</td>\n",
       "      <td>7.07</td>\n",
       "      <td>3059.416098</td>\n",
       "    </tr>\n",
       "    <tr>\n",
       "      <th>1</th>\n",
       "      <td>2920</td>\n",
       "      <td>5020</td>\n",
       "      <td>31</td>\n",
       "      <td>1</td>\n",
       "      <td>1.43</td>\n",
       "      <td>2820.466176</td>\n",
       "    </tr>\n",
       "    <tr>\n",
       "      <th>2</th>\n",
       "      <td>2670</td>\n",
       "      <td>2815</td>\n",
       "      <td>44</td>\n",
       "      <td>1</td>\n",
       "      <td>20.53</td>\n",
       "      <td>3168.003754</td>\n",
       "    </tr>\n",
       "    <tr>\n",
       "      <th>3</th>\n",
       "      <td>3083</td>\n",
       "      <td>3786</td>\n",
       "      <td>30</td>\n",
       "      <td>0</td>\n",
       "      <td>9.62</td>\n",
       "      <td>2945.613219</td>\n",
       "    </tr>\n",
       "    <tr>\n",
       "      <th>4</th>\n",
       "      <td>3448</td>\n",
       "      <td>2580</td>\n",
       "      <td>64</td>\n",
       "      <td>1</td>\n",
       "      <td>2.75</td>\n",
       "      <td>3257.865383</td>\n",
       "    </tr>\n",
       "    <tr>\n",
       "      <th>5</th>\n",
       "      <td>4063</td>\n",
       "      <td>1205</td>\n",
       "      <td>41</td>\n",
       "      <td>1</td>\n",
       "      <td>19.25</td>\n",
       "      <td>3421.379791</td>\n",
       "    </tr>\n",
       "  </tbody>\n",
       "</table>\n",
       "</div>"
      ],
      "text/plain": [
       "   sleep  totwrk  age  male  hrwage         pred\n",
       "0   3113    3438   32     1    7.07  3059.416098\n",
       "1   2920    5020   31     1    1.43  2820.466176\n",
       "2   2670    2815   44     1   20.53  3168.003754\n",
       "3   3083    3786   30     0    9.62  2945.613219\n",
       "4   3448    2580   64     1    2.75  3257.865383\n",
       "5   4063    1205   41     1   19.25  3421.379791"
      ]
     },
     "execution_count": 11,
     "metadata": {},
     "output_type": "execute_result"
    }
   ],
   "source": [
    "df"
   ]
  },
  {
   "cell_type": "code",
   "execution_count": 12,
   "id": "8dcad1ef",
   "metadata": {},
   "outputs": [],
   "source": [
    "df['residual'] = df['sleep'] - df['pred']"
   ]
  },
  {
   "cell_type": "code",
   "execution_count": 13,
   "id": "8410f803",
   "metadata": {},
   "outputs": [
    {
     "data": {
      "text/html": [
       "<div>\n",
       "<style scoped>\n",
       "    .dataframe tbody tr th:only-of-type {\n",
       "        vertical-align: middle;\n",
       "    }\n",
       "\n",
       "    .dataframe tbody tr th {\n",
       "        vertical-align: top;\n",
       "    }\n",
       "\n",
       "    .dataframe thead th {\n",
       "        text-align: right;\n",
       "    }\n",
       "</style>\n",
       "<table border=\"1\" class=\"dataframe\">\n",
       "  <thead>\n",
       "    <tr style=\"text-align: right;\">\n",
       "      <th></th>\n",
       "      <th>sleep</th>\n",
       "      <th>totwrk</th>\n",
       "      <th>age</th>\n",
       "      <th>male</th>\n",
       "      <th>hrwage</th>\n",
       "      <th>pred</th>\n",
       "      <th>residual</th>\n",
       "    </tr>\n",
       "  </thead>\n",
       "  <tbody>\n",
       "    <tr>\n",
       "      <th>0</th>\n",
       "      <td>3113</td>\n",
       "      <td>3438</td>\n",
       "      <td>32</td>\n",
       "      <td>1</td>\n",
       "      <td>7.07</td>\n",
       "      <td>3059.416098</td>\n",
       "      <td>53.583902</td>\n",
       "    </tr>\n",
       "    <tr>\n",
       "      <th>1</th>\n",
       "      <td>2920</td>\n",
       "      <td>5020</td>\n",
       "      <td>31</td>\n",
       "      <td>1</td>\n",
       "      <td>1.43</td>\n",
       "      <td>2820.466176</td>\n",
       "      <td>99.533824</td>\n",
       "    </tr>\n",
       "    <tr>\n",
       "      <th>2</th>\n",
       "      <td>2670</td>\n",
       "      <td>2815</td>\n",
       "      <td>44</td>\n",
       "      <td>1</td>\n",
       "      <td>20.53</td>\n",
       "      <td>3168.003754</td>\n",
       "      <td>-498.003754</td>\n",
       "    </tr>\n",
       "    <tr>\n",
       "      <th>3</th>\n",
       "      <td>3083</td>\n",
       "      <td>3786</td>\n",
       "      <td>30</td>\n",
       "      <td>0</td>\n",
       "      <td>9.62</td>\n",
       "      <td>2945.613219</td>\n",
       "      <td>137.386781</td>\n",
       "    </tr>\n",
       "    <tr>\n",
       "      <th>4</th>\n",
       "      <td>3448</td>\n",
       "      <td>2580</td>\n",
       "      <td>64</td>\n",
       "      <td>1</td>\n",
       "      <td>2.75</td>\n",
       "      <td>3257.865383</td>\n",
       "      <td>190.134617</td>\n",
       "    </tr>\n",
       "    <tr>\n",
       "      <th>5</th>\n",
       "      <td>4063</td>\n",
       "      <td>1205</td>\n",
       "      <td>41</td>\n",
       "      <td>1</td>\n",
       "      <td>19.25</td>\n",
       "      <td>3421.379791</td>\n",
       "      <td>641.620209</td>\n",
       "    </tr>\n",
       "  </tbody>\n",
       "</table>\n",
       "</div>"
      ],
      "text/plain": [
       "   sleep  totwrk  age  male  hrwage         pred    residual\n",
       "0   3113    3438   32     1    7.07  3059.416098   53.583902\n",
       "1   2920    5020   31     1    1.43  2820.466176   99.533824\n",
       "2   2670    2815   44     1   20.53  3168.003754 -498.003754\n",
       "3   3083    3786   30     0    9.62  2945.613219  137.386781\n",
       "4   3448    2580   64     1    2.75  3257.865383  190.134617\n",
       "5   4063    1205   41     1   19.25  3421.379791  641.620209"
      ]
     },
     "execution_count": 13,
     "metadata": {},
     "output_type": "execute_result"
    }
   ],
   "source": [
    "df"
   ]
  },
  {
   "cell_type": "markdown",
   "id": "eddd085b",
   "metadata": {},
   "source": [
    "## Задача 1.1.2"
   ]
  },
  {
   "cell_type": "code",
   "execution_count": 17,
   "id": "4df33d0b",
   "metadata": {},
   "outputs": [],
   "source": [
    "data = '''output capital labour\n",
    "9.25    2.61    184  \n",
    "3.66    1.32     91  \n",
    "28.78   22.09   426  \n",
    "4.12    10.74    72  \n",
    "2.89    1.16     46  '''"
   ]
  },
  {
   "cell_type": "code",
   "execution_count": 18,
   "id": "0870ccca",
   "metadata": {},
   "outputs": [
    {
     "data": {
      "text/plain": [
       "'output capital labour\\n9.25    2.61    184  \\n3.66    1.32     91  \\n28.78   22.09   426  \\n4.12    10.74    72  \\n2.89    1.16     46  '"
      ]
     },
     "execution_count": 18,
     "metadata": {},
     "output_type": "execute_result"
    }
   ],
   "source": [
    "data"
   ]
  },
  {
   "cell_type": "code",
   "execution_count": 19,
   "id": "8f7377d1",
   "metadata": {},
   "outputs": [
    {
     "data": {
      "text/html": [
       "<div>\n",
       "<style scoped>\n",
       "    .dataframe tbody tr th:only-of-type {\n",
       "        vertical-align: middle;\n",
       "    }\n",
       "\n",
       "    .dataframe tbody tr th {\n",
       "        vertical-align: top;\n",
       "    }\n",
       "\n",
       "    .dataframe thead th {\n",
       "        text-align: right;\n",
       "    }\n",
       "</style>\n",
       "<table border=\"1\" class=\"dataframe\">\n",
       "  <thead>\n",
       "    <tr style=\"text-align: right;\">\n",
       "      <th></th>\n",
       "      <th>output</th>\n",
       "      <th>capital</th>\n",
       "      <th>labour</th>\n",
       "    </tr>\n",
       "  </thead>\n",
       "  <tbody>\n",
       "    <tr>\n",
       "      <th>0</th>\n",
       "      <td>9.25</td>\n",
       "      <td>2.61</td>\n",
       "      <td>184</td>\n",
       "    </tr>\n",
       "    <tr>\n",
       "      <th>1</th>\n",
       "      <td>3.66</td>\n",
       "      <td>1.32</td>\n",
       "      <td>91</td>\n",
       "    </tr>\n",
       "    <tr>\n",
       "      <th>2</th>\n",
       "      <td>28.78</td>\n",
       "      <td>22.09</td>\n",
       "      <td>426</td>\n",
       "    </tr>\n",
       "    <tr>\n",
       "      <th>3</th>\n",
       "      <td>4.12</td>\n",
       "      <td>10.74</td>\n",
       "      <td>72</td>\n",
       "    </tr>\n",
       "    <tr>\n",
       "      <th>4</th>\n",
       "      <td>2.89</td>\n",
       "      <td>1.16</td>\n",
       "      <td>46</td>\n",
       "    </tr>\n",
       "  </tbody>\n",
       "</table>\n",
       "</div>"
      ],
      "text/plain": [
       "   output  capital  labour\n",
       "0    9.25     2.61     184\n",
       "1    3.66     1.32      91\n",
       "2   28.78    22.09     426\n",
       "3    4.12    10.74      72\n",
       "4    2.89     1.16      46"
      ]
     },
     "execution_count": 19,
     "metadata": {},
     "output_type": "execute_result"
    }
   ],
   "source": [
    "# создаём DataFrame\n",
    "df = pd.read_csv(io.StringIO(data), sep='\\s+')\n",
    "df"
   ]
  },
  {
   "cell_type": "code",
   "execution_count": 21,
   "id": "30800da3",
   "metadata": {},
   "outputs": [],
   "source": [
    "df['pred'] = -1.71 + 0.21*np.log(df['capital']) + 0.71*np.log(df['labour']) "
   ]
  },
  {
   "cell_type": "code",
   "execution_count": 22,
   "id": "c7312b00",
   "metadata": {},
   "outputs": [
    {
     "data": {
      "text/html": [
       "<div>\n",
       "<style scoped>\n",
       "    .dataframe tbody tr th:only-of-type {\n",
       "        vertical-align: middle;\n",
       "    }\n",
       "\n",
       "    .dataframe tbody tr th {\n",
       "        vertical-align: top;\n",
       "    }\n",
       "\n",
       "    .dataframe thead th {\n",
       "        text-align: right;\n",
       "    }\n",
       "</style>\n",
       "<table border=\"1\" class=\"dataframe\">\n",
       "  <thead>\n",
       "    <tr style=\"text-align: right;\">\n",
       "      <th></th>\n",
       "      <th>output</th>\n",
       "      <th>capital</th>\n",
       "      <th>labour</th>\n",
       "      <th>pred</th>\n",
       "    </tr>\n",
       "  </thead>\n",
       "  <tbody>\n",
       "    <tr>\n",
       "      <th>0</th>\n",
       "      <td>9.25</td>\n",
       "      <td>2.61</td>\n",
       "      <td>184</td>\n",
       "      <td>2.194068</td>\n",
       "    </tr>\n",
       "    <tr>\n",
       "      <th>1</th>\n",
       "      <td>3.66</td>\n",
       "      <td>1.32</td>\n",
       "      <td>91</td>\n",
       "      <td>1.551013</td>\n",
       "    </tr>\n",
       "    <tr>\n",
       "      <th>2</th>\n",
       "      <td>28.78</td>\n",
       "      <td>22.09</td>\n",
       "      <td>426</td>\n",
       "      <td>3.238628</td>\n",
       "    </tr>\n",
       "    <tr>\n",
       "      <th>3</th>\n",
       "      <td>4.12</td>\n",
       "      <td>10.74</td>\n",
       "      <td>72</td>\n",
       "      <td>1.824968</td>\n",
       "    </tr>\n",
       "    <tr>\n",
       "      <th>4</th>\n",
       "      <td>2.89</td>\n",
       "      <td>1.16</td>\n",
       "      <td>46</td>\n",
       "      <td>1.039504</td>\n",
       "    </tr>\n",
       "  </tbody>\n",
       "</table>\n",
       "</div>"
      ],
      "text/plain": [
       "   output  capital  labour      pred\n",
       "0    9.25     2.61     184  2.194068\n",
       "1    3.66     1.32      91  1.551013\n",
       "2   28.78    22.09     426  3.238628\n",
       "3    4.12    10.74      72  1.824968\n",
       "4    2.89     1.16      46  1.039504"
      ]
     },
     "execution_count": 22,
     "metadata": {},
     "output_type": "execute_result"
    }
   ],
   "source": [
    "df"
   ]
  },
  {
   "cell_type": "code",
   "execution_count": 23,
   "id": "132c9232",
   "metadata": {},
   "outputs": [],
   "source": [
    "df['residual'] = np.log(df['output']) - df['pred']"
   ]
  },
  {
   "cell_type": "code",
   "execution_count": 24,
   "id": "2d51971b",
   "metadata": {},
   "outputs": [
    {
     "data": {
      "text/html": [
       "<div>\n",
       "<style scoped>\n",
       "    .dataframe tbody tr th:only-of-type {\n",
       "        vertical-align: middle;\n",
       "    }\n",
       "\n",
       "    .dataframe tbody tr th {\n",
       "        vertical-align: top;\n",
       "    }\n",
       "\n",
       "    .dataframe thead th {\n",
       "        text-align: right;\n",
       "    }\n",
       "</style>\n",
       "<table border=\"1\" class=\"dataframe\">\n",
       "  <thead>\n",
       "    <tr style=\"text-align: right;\">\n",
       "      <th></th>\n",
       "      <th>output</th>\n",
       "      <th>capital</th>\n",
       "      <th>labour</th>\n",
       "      <th>pred</th>\n",
       "      <th>residual</th>\n",
       "    </tr>\n",
       "  </thead>\n",
       "  <tbody>\n",
       "    <tr>\n",
       "      <th>0</th>\n",
       "      <td>9.25</td>\n",
       "      <td>2.61</td>\n",
       "      <td>184</td>\n",
       "      <td>2.194068</td>\n",
       "      <td>0.030556</td>\n",
       "    </tr>\n",
       "    <tr>\n",
       "      <th>1</th>\n",
       "      <td>3.66</td>\n",
       "      <td>1.32</td>\n",
       "      <td>91</td>\n",
       "      <td>1.551013</td>\n",
       "      <td>-0.253550</td>\n",
       "    </tr>\n",
       "    <tr>\n",
       "      <th>2</th>\n",
       "      <td>28.78</td>\n",
       "      <td>22.09</td>\n",
       "      <td>426</td>\n",
       "      <td>3.238628</td>\n",
       "      <td>0.121053</td>\n",
       "    </tr>\n",
       "    <tr>\n",
       "      <th>3</th>\n",
       "      <td>4.12</td>\n",
       "      <td>10.74</td>\n",
       "      <td>72</td>\n",
       "      <td>1.824968</td>\n",
       "      <td>-0.409115</td>\n",
       "    </tr>\n",
       "    <tr>\n",
       "      <th>4</th>\n",
       "      <td>2.89</td>\n",
       "      <td>1.16</td>\n",
       "      <td>46</td>\n",
       "      <td>1.039504</td>\n",
       "      <td>0.021753</td>\n",
       "    </tr>\n",
       "  </tbody>\n",
       "</table>\n",
       "</div>"
      ],
      "text/plain": [
       "   output  capital  labour      pred  residual\n",
       "0    9.25     2.61     184  2.194068  0.030556\n",
       "1    3.66     1.32      91  1.551013 -0.253550\n",
       "2   28.78    22.09     426  3.238628  0.121053\n",
       "3    4.12    10.74      72  1.824968 -0.409115\n",
       "4    2.89     1.16      46  1.039504  0.021753"
      ]
     },
     "execution_count": 24,
     "metadata": {},
     "output_type": "execute_result"
    }
   ],
   "source": [
    "df"
   ]
  },
  {
   "cell_type": "markdown",
   "id": "61b62289",
   "metadata": {},
   "source": [
    "## Задача 1.2.1"
   ]
  },
  {
   "cell_type": "code",
   "execution_count": 28,
   "id": "617f5552",
   "metadata": {},
   "outputs": [
    {
     "data": {
      "text/plain": [
       "52.78999999999999"
      ]
     },
     "execution_count": 28,
     "metadata": {},
     "output_type": "execute_result"
    }
   ],
   "source": [
    "TSS = 100.35\n",
    "ESS = 47.56\n",
    "RSS = TSS - ESS\n",
    "RSS"
   ]
  },
  {
   "cell_type": "markdown",
   "id": "fc8c7efe",
   "metadata": {},
   "source": [
    "$$\n",
    "R^2 = \\frac{ESS}{TSS} = 1-\\frac{RSS}{TSS}\n",
    "$$"
   ]
  },
  {
   "cell_type": "code",
   "execution_count": 30,
   "id": "22fc3b7d",
   "metadata": {},
   "outputs": [
    {
     "data": {
      "text/plain": [
       "0.47394120577977084"
      ]
     },
     "execution_count": 30,
     "metadata": {},
     "output_type": "execute_result"
    }
   ],
   "source": [
    "R2 = ESS/TSS\n",
    "R2"
   ]
  },
  {
   "cell_type": "markdown",
   "id": "05cc1a42",
   "metadata": {},
   "source": [
    "## Задача 1.2.2"
   ]
  },
  {
   "cell_type": "code",
   "execution_count": 3,
   "id": "664165f4",
   "metadata": {},
   "outputs": [
    {
     "data": {
      "text/plain": [
       "147.3"
      ]
     },
     "execution_count": 3,
     "metadata": {},
     "output_type": "execute_result"
    }
   ],
   "source": [
    "TSS = 240.82\n",
    "RSS = 93.52\n",
    "ESS = TSS-RSS\n",
    "ESS"
   ]
  },
  {
   "cell_type": "code",
   "execution_count": 4,
   "id": "a5ca8697",
   "metadata": {},
   "outputs": [
    {
     "data": {
      "text/plain": [
       "0.6116601611161864"
      ]
     },
     "execution_count": 4,
     "metadata": {},
     "output_type": "execute_result"
    }
   ],
   "source": [
    "R2 = ESS/TSS\n",
    "R2"
   ]
  },
  {
   "cell_type": "markdown",
   "id": "5e497a20",
   "metadata": {},
   "source": [
    "## Задача 1.2.4"
   ]
  },
  {
   "cell_type": "code",
   "execution_count": 13,
   "id": "e7af8846",
   "metadata": {},
   "outputs": [
    {
     "data": {
      "text/plain": [
       "6.25"
      ]
     },
     "execution_count": 13,
     "metadata": {},
     "output_type": "execute_result"
    }
   ],
   "source": [
    "RSS = 0.24**2+0.41**2+1.22**2 + 0.93**2 + 0.37**2 + 1.33**2 + 0.16**2 + 0.27**2 + 0.06**2 + 1.29**2\n",
    "round(RSS,2)"
   ]
  },
  {
   "cell_type": "code",
   "execution_count": 12,
   "id": "e8e69e44",
   "metadata": {},
   "outputs": [
    {
     "data": {
      "text/plain": [
       "0.94"
      ]
     },
     "execution_count": 12,
     "metadata": {},
     "output_type": "execute_result"
    }
   ],
   "source": [
    "n = 10\n",
    "k = 2\n",
    "s = (RSS/(n-k-1))**0.5\n",
    "round(s,2)"
   ]
  },
  {
   "cell_type": "markdown",
   "id": "b16b0835",
   "metadata": {},
   "source": [
    "## Задача 1.2.5"
   ]
  },
  {
   "cell_type": "code",
   "execution_count": 14,
   "id": "49dba582",
   "metadata": {},
   "outputs": [],
   "source": [
    "#определяю данные для дальнейшего анализа\n",
    "data_string ='''sleep/60 totwrk age y.hat\n",
    "51.88     3438  32  51.00\n",
    "48.67     5020  31  44.43\n",
    "44.50     2815  44  53.72\n",
    "51.38     3786  30  49.53\n",
    "57.47     2580  64  54.92\n",
    "67.72     1205  41  60.36\n",
    "53        2113  35  56.53\n",
    "48.80     3608  47  50.46\n",
    "56.13     2353  32  55.50\n",
    "50.30     2851  30  53.41'''"
   ]
  },
  {
   "cell_type": "code",
   "execution_count": 17,
   "id": "f52ae00b",
   "metadata": {},
   "outputs": [
    {
     "data": {
      "text/html": [
       "<div>\n",
       "<style scoped>\n",
       "    .dataframe tbody tr th:only-of-type {\n",
       "        vertical-align: middle;\n",
       "    }\n",
       "\n",
       "    .dataframe tbody tr th {\n",
       "        vertical-align: top;\n",
       "    }\n",
       "\n",
       "    .dataframe thead th {\n",
       "        text-align: right;\n",
       "    }\n",
       "</style>\n",
       "<table border=\"1\" class=\"dataframe\">\n",
       "  <thead>\n",
       "    <tr style=\"text-align: right;\">\n",
       "      <th></th>\n",
       "      <th>sleep/60</th>\n",
       "      <th>totwrk</th>\n",
       "      <th>age</th>\n",
       "      <th>y.hat</th>\n",
       "    </tr>\n",
       "  </thead>\n",
       "  <tbody>\n",
       "    <tr>\n",
       "      <th>0</th>\n",
       "      <td>51.88</td>\n",
       "      <td>3438</td>\n",
       "      <td>32</td>\n",
       "      <td>51.00</td>\n",
       "    </tr>\n",
       "    <tr>\n",
       "      <th>1</th>\n",
       "      <td>48.67</td>\n",
       "      <td>5020</td>\n",
       "      <td>31</td>\n",
       "      <td>44.43</td>\n",
       "    </tr>\n",
       "    <tr>\n",
       "      <th>2</th>\n",
       "      <td>44.50</td>\n",
       "      <td>2815</td>\n",
       "      <td>44</td>\n",
       "      <td>53.72</td>\n",
       "    </tr>\n",
       "    <tr>\n",
       "      <th>3</th>\n",
       "      <td>51.38</td>\n",
       "      <td>3786</td>\n",
       "      <td>30</td>\n",
       "      <td>49.53</td>\n",
       "    </tr>\n",
       "    <tr>\n",
       "      <th>4</th>\n",
       "      <td>57.47</td>\n",
       "      <td>2580</td>\n",
       "      <td>64</td>\n",
       "      <td>54.92</td>\n",
       "    </tr>\n",
       "    <tr>\n",
       "      <th>5</th>\n",
       "      <td>67.72</td>\n",
       "      <td>1205</td>\n",
       "      <td>41</td>\n",
       "      <td>60.36</td>\n",
       "    </tr>\n",
       "    <tr>\n",
       "      <th>6</th>\n",
       "      <td>53.00</td>\n",
       "      <td>2113</td>\n",
       "      <td>35</td>\n",
       "      <td>56.53</td>\n",
       "    </tr>\n",
       "    <tr>\n",
       "      <th>7</th>\n",
       "      <td>48.80</td>\n",
       "      <td>3608</td>\n",
       "      <td>47</td>\n",
       "      <td>50.46</td>\n",
       "    </tr>\n",
       "    <tr>\n",
       "      <th>8</th>\n",
       "      <td>56.13</td>\n",
       "      <td>2353</td>\n",
       "      <td>32</td>\n",
       "      <td>55.50</td>\n",
       "    </tr>\n",
       "    <tr>\n",
       "      <th>9</th>\n",
       "      <td>50.30</td>\n",
       "      <td>2851</td>\n",
       "      <td>30</td>\n",
       "      <td>53.41</td>\n",
       "    </tr>\n",
       "  </tbody>\n",
       "</table>\n",
       "</div>"
      ],
      "text/plain": [
       "   sleep/60  totwrk  age  y.hat\n",
       "0     51.88    3438   32  51.00\n",
       "1     48.67    5020   31  44.43\n",
       "2     44.50    2815   44  53.72\n",
       "3     51.38    3786   30  49.53\n",
       "4     57.47    2580   64  54.92\n",
       "5     67.72    1205   41  60.36\n",
       "6     53.00    2113   35  56.53\n",
       "7     48.80    3608   47  50.46\n",
       "8     56.13    2353   32  55.50\n",
       "9     50.30    2851   30  53.41"
      ]
     },
     "execution_count": 17,
     "metadata": {},
     "output_type": "execute_result"
    }
   ],
   "source": [
    "# создаю DataFrame\n",
    "df = pd.read_csv(io.StringIO(data_string), sep='\\s+')\n",
    "df"
   ]
  },
  {
   "cell_type": "code",
   "execution_count": 18,
   "id": "d91db32b",
   "metadata": {},
   "outputs": [
    {
     "data": {
      "text/plain": [
       "366.262"
      ]
     },
     "execution_count": 18,
     "metadata": {},
     "output_type": "execute_result"
    }
   ],
   "source": [
    "TSS = ((df['sleep/60']-np.mean(df['sleep/60']))**2).sum()\n",
    "TSS.round(3)"
   ]
  },
  {
   "cell_type": "code",
   "execution_count": 19,
   "id": "3bef5267",
   "metadata": {},
   "outputs": [
    {
     "data": {
      "text/plain": [
       "193.14050000000003"
      ]
     },
     "execution_count": 19,
     "metadata": {},
     "output_type": "execute_result"
    }
   ],
   "source": [
    "RSS = ((df['sleep/60']-df['y.hat'])**2).sum()\n",
    "RSS"
   ]
  },
  {
   "cell_type": "code",
   "execution_count": 20,
   "id": "aed5035d",
   "metadata": {},
   "outputs": [
    {
     "data": {
      "text/plain": [
       "173.18884999999997"
      ]
     },
     "execution_count": 20,
     "metadata": {},
     "output_type": "execute_result"
    }
   ],
   "source": [
    "ESS = ((np.mean(df['sleep/60'])-df['y.hat'])**2).sum()\n",
    "ESS"
   ]
  },
  {
   "cell_type": "markdown",
   "id": "4a8afc68",
   "metadata": {},
   "source": [
    "## Задача 2.1"
   ]
  },
  {
   "cell_type": "markdown",
   "id": "454557ce",
   "metadata": {},
   "source": [
    "$$\n",
    "R^2_{adj} = 1 - (1-R^2)*\\frac{n-1}{n-k}\n",
    "$$\n",
    "$$\n",
    "n - Количество \\ измеренией\n",
    "$$\n",
    "$$\n",
    "K - Количество \\ регрессоров\n",
    "$$"
   ]
  },
  {
   "cell_type": "code",
   "execution_count": 31,
   "id": "3d5ebc27",
   "metadata": {},
   "outputs": [],
   "source": [
    "n = 526\n",
    "k = 5\n",
    "R2 = 0.288\n",
    "R2adj = 1 - (1-R2)*(n-1)/(n-k)"
   ]
  },
  {
   "cell_type": "code",
   "execution_count": 32,
   "id": "2a899264",
   "metadata": {},
   "outputs": [
    {
     "data": {
      "text/plain": [
       "0.2825335892514397"
      ]
     },
     "execution_count": 32,
     "metadata": {},
     "output_type": "execute_result"
    }
   ],
   "source": [
    "R2adj"
   ]
  },
  {
   "cell_type": "code",
   "execution_count": 35,
   "id": "9a7a63b2",
   "metadata": {},
   "outputs": [
    {
     "data": {
      "text/plain": [
       "0.28"
      ]
     },
     "execution_count": 35,
     "metadata": {},
     "output_type": "execute_result"
    }
   ],
   "source": [
    "round(R2adj,2)"
   ]
  },
  {
   "cell_type": "markdown",
   "id": "4c4aa33f",
   "metadata": {},
   "source": [
    "# Задача 2.2"
   ]
  },
  {
   "cell_type": "code",
   "execution_count": 27,
   "id": "742c629a",
   "metadata": {},
   "outputs": [
    {
     "data": {
      "text/plain": [
       "0.196"
      ]
     },
     "execution_count": 27,
     "metadata": {},
     "output_type": "execute_result"
    }
   ],
   "source": [
    "R2adj = 1-(1-0.201)*(935-1)/(935-7)\n",
    "round(R2adj, 3)"
   ]
  },
  {
   "cell_type": "markdown",
   "id": "ae1344d3",
   "metadata": {},
   "source": [
    "## Задача 2.3"
   ]
  },
  {
   "cell_type": "code",
   "execution_count": 38,
   "id": "0d0ea8a7",
   "metadata": {},
   "outputs": [],
   "source": [
    "data_string = '''log(output) log(capital) log(labour) y.hat\n",
    "2.22            0.96        5.21     2.19 \n",
    "1.30            0.28        4.51     1.47 \n",
    "3.36            3.10        6.05     3.23 \n",
    "1.42            2.37        4.28     1.56 \n",
    "1.06            0.15        3.83     0.85 \n",
    "6.17            5.62        8.94     6.15 \n",
    "0.77            0.52        3.87     0.94 \n",
    "1.42            0.15        4.68     1.61 \n",
    "0.90           -0.13        3.56     0.57 \n",
    "1.35            1.25        4.28     1.40 '''"
   ]
  },
  {
   "cell_type": "code",
   "execution_count": 39,
   "id": "0aceb0a5",
   "metadata": {},
   "outputs": [
    {
     "data": {
      "text/html": [
       "<div>\n",
       "<style scoped>\n",
       "    .dataframe tbody tr th:only-of-type {\n",
       "        vertical-align: middle;\n",
       "    }\n",
       "\n",
       "    .dataframe tbody tr th {\n",
       "        vertical-align: top;\n",
       "    }\n",
       "\n",
       "    .dataframe thead th {\n",
       "        text-align: right;\n",
       "    }\n",
       "</style>\n",
       "<table border=\"1\" class=\"dataframe\">\n",
       "  <thead>\n",
       "    <tr style=\"text-align: right;\">\n",
       "      <th></th>\n",
       "      <th>log(output)</th>\n",
       "      <th>log(capital)</th>\n",
       "      <th>log(labour)</th>\n",
       "      <th>y.hat</th>\n",
       "    </tr>\n",
       "  </thead>\n",
       "  <tbody>\n",
       "    <tr>\n",
       "      <th>0</th>\n",
       "      <td>2.22</td>\n",
       "      <td>0.96</td>\n",
       "      <td>5.21</td>\n",
       "      <td>2.19</td>\n",
       "    </tr>\n",
       "    <tr>\n",
       "      <th>1</th>\n",
       "      <td>1.30</td>\n",
       "      <td>0.28</td>\n",
       "      <td>4.51</td>\n",
       "      <td>1.47</td>\n",
       "    </tr>\n",
       "    <tr>\n",
       "      <th>2</th>\n",
       "      <td>3.36</td>\n",
       "      <td>3.10</td>\n",
       "      <td>6.05</td>\n",
       "      <td>3.23</td>\n",
       "    </tr>\n",
       "    <tr>\n",
       "      <th>3</th>\n",
       "      <td>1.42</td>\n",
       "      <td>2.37</td>\n",
       "      <td>4.28</td>\n",
       "      <td>1.56</td>\n",
       "    </tr>\n",
       "    <tr>\n",
       "      <th>4</th>\n",
       "      <td>1.06</td>\n",
       "      <td>0.15</td>\n",
       "      <td>3.83</td>\n",
       "      <td>0.85</td>\n",
       "    </tr>\n",
       "    <tr>\n",
       "      <th>5</th>\n",
       "      <td>6.17</td>\n",
       "      <td>5.62</td>\n",
       "      <td>8.94</td>\n",
       "      <td>6.15</td>\n",
       "    </tr>\n",
       "    <tr>\n",
       "      <th>6</th>\n",
       "      <td>0.77</td>\n",
       "      <td>0.52</td>\n",
       "      <td>3.87</td>\n",
       "      <td>0.94</td>\n",
       "    </tr>\n",
       "    <tr>\n",
       "      <th>7</th>\n",
       "      <td>1.42</td>\n",
       "      <td>0.15</td>\n",
       "      <td>4.68</td>\n",
       "      <td>1.61</td>\n",
       "    </tr>\n",
       "    <tr>\n",
       "      <th>8</th>\n",
       "      <td>0.90</td>\n",
       "      <td>-0.13</td>\n",
       "      <td>3.56</td>\n",
       "      <td>0.57</td>\n",
       "    </tr>\n",
       "    <tr>\n",
       "      <th>9</th>\n",
       "      <td>1.35</td>\n",
       "      <td>1.25</td>\n",
       "      <td>4.28</td>\n",
       "      <td>1.40</td>\n",
       "    </tr>\n",
       "  </tbody>\n",
       "</table>\n",
       "</div>"
      ],
      "text/plain": [
       "   log(output)  log(capital)  log(labour)  y.hat\n",
       "0         2.22          0.96         5.21   2.19\n",
       "1         1.30          0.28         4.51   1.47\n",
       "2         3.36          3.10         6.05   3.23\n",
       "3         1.42          2.37         4.28   1.56\n",
       "4         1.06          0.15         3.83   0.85\n",
       "5         6.17          5.62         8.94   6.15\n",
       "6         0.77          0.52         3.87   0.94\n",
       "7         1.42          0.15         4.68   1.61\n",
       "8         0.90         -0.13         3.56   0.57\n",
       "9         1.35          1.25         4.28   1.40"
      ]
     },
     "execution_count": 39,
     "metadata": {},
     "output_type": "execute_result"
    }
   ],
   "source": [
    "# создаю DataFrame\n",
    "df = pd.read_csv(io.StringIO(data_string), sep='\\s+')\n",
    "df"
   ]
  },
  {
   "cell_type": "code",
   "execution_count": 40,
   "id": "bb5f4117",
   "metadata": {},
   "outputs": [
    {
     "data": {
      "text/plain": [
       "24.479"
      ]
     },
     "execution_count": 40,
     "metadata": {},
     "output_type": "execute_result"
    }
   ],
   "source": [
    "TSS = ((df['log(output)']-np.mean(df['log(output)']))**2).sum()\n",
    "TSS.round(3)"
   ]
  },
  {
   "cell_type": "code",
   "execution_count": 41,
   "id": "6cf014c7",
   "metadata": {},
   "outputs": [
    {
     "data": {
      "text/plain": [
       "0.28720000000000007"
      ]
     },
     "execution_count": 41,
     "metadata": {},
     "output_type": "execute_result"
    }
   ],
   "source": [
    "RSS = ((df['log(output)']-df['y.hat'])**2).sum()\n",
    "RSS"
   ]
  },
  {
   "cell_type": "code",
   "execution_count": 42,
   "id": "ad742551",
   "metadata": {},
   "outputs": [
    {
     "data": {
      "text/plain": [
       "24.249010000000006"
      ]
     },
     "execution_count": 42,
     "metadata": {},
     "output_type": "execute_result"
    }
   ],
   "source": [
    "ESS = ((np.mean(df['log(output)'])-df['y.hat'])**2).sum()\n",
    "ESS"
   ]
  },
  {
   "cell_type": "code",
   "execution_count": 43,
   "id": "968cb69b",
   "metadata": {},
   "outputs": [
    {
     "data": {
      "text/plain": [
       "0.99"
      ]
     },
     "execution_count": 43,
     "metadata": {},
     "output_type": "execute_result"
    }
   ],
   "source": [
    "R2 = ESS/TSS\n",
    "R2.round(2)"
   ]
  },
  {
   "cell_type": "code",
   "execution_count": 46,
   "id": "4215538f",
   "metadata": {},
   "outputs": [
    {
     "data": {
      "text/plain": [
       "0.99"
      ]
     },
     "execution_count": 46,
     "metadata": {},
     "output_type": "execute_result"
    }
   ],
   "source": [
    "R2adj = 1-(1-R2)*(10-1)/(10-2)\n",
    "R2adj.round(2)"
   ]
  },
  {
   "cell_type": "markdown",
   "id": "a5d27c16",
   "metadata": {},
   "source": [
    "## Задача 3.1"
   ]
  },
  {
   "cell_type": "code",
   "execution_count": 36,
   "id": "f2e25ec6",
   "metadata": {},
   "outputs": [],
   "source": [
    "string_data = '''i   Факт  Fitted  Остаток \n",
    "1   3113 3094.454  18.546 \n",
    "4   3083 2943.580 139.420 \n",
    "6   4063 3494.143 568.857 \n",
    "10  3018 3111.983 -93.983 \n",
    "508 3630 3476.914 153.086 \n",
    "700 2993 3295.398 -302.398'''"
   ]
  },
  {
   "cell_type": "code",
   "execution_count": 37,
   "id": "d4c3c808",
   "metadata": {},
   "outputs": [
    {
     "data": {
      "text/html": [
       "<div>\n",
       "<style scoped>\n",
       "    .dataframe tbody tr th:only-of-type {\n",
       "        vertical-align: middle;\n",
       "    }\n",
       "\n",
       "    .dataframe tbody tr th {\n",
       "        vertical-align: top;\n",
       "    }\n",
       "\n",
       "    .dataframe thead th {\n",
       "        text-align: right;\n",
       "    }\n",
       "</style>\n",
       "<table border=\"1\" class=\"dataframe\">\n",
       "  <thead>\n",
       "    <tr style=\"text-align: right;\">\n",
       "      <th></th>\n",
       "      <th>i</th>\n",
       "      <th>Факт</th>\n",
       "      <th>Fitted</th>\n",
       "      <th>Остаток</th>\n",
       "    </tr>\n",
       "  </thead>\n",
       "  <tbody>\n",
       "    <tr>\n",
       "      <th>0</th>\n",
       "      <td>1</td>\n",
       "      <td>3113</td>\n",
       "      <td>3094.454</td>\n",
       "      <td>18.546</td>\n",
       "    </tr>\n",
       "    <tr>\n",
       "      <th>1</th>\n",
       "      <td>4</td>\n",
       "      <td>3083</td>\n",
       "      <td>2943.580</td>\n",
       "      <td>139.420</td>\n",
       "    </tr>\n",
       "    <tr>\n",
       "      <th>2</th>\n",
       "      <td>6</td>\n",
       "      <td>4063</td>\n",
       "      <td>3494.143</td>\n",
       "      <td>568.857</td>\n",
       "    </tr>\n",
       "    <tr>\n",
       "      <th>3</th>\n",
       "      <td>10</td>\n",
       "      <td>3018</td>\n",
       "      <td>3111.983</td>\n",
       "      <td>-93.983</td>\n",
       "    </tr>\n",
       "    <tr>\n",
       "      <th>4</th>\n",
       "      <td>508</td>\n",
       "      <td>3630</td>\n",
       "      <td>3476.914</td>\n",
       "      <td>153.086</td>\n",
       "    </tr>\n",
       "    <tr>\n",
       "      <th>5</th>\n",
       "      <td>700</td>\n",
       "      <td>2993</td>\n",
       "      <td>3295.398</td>\n",
       "      <td>-302.398</td>\n",
       "    </tr>\n",
       "  </tbody>\n",
       "</table>\n",
       "</div>"
      ],
      "text/plain": [
       "     i  Факт    Fitted  Остаток\n",
       "0    1  3113  3094.454   18.546\n",
       "1    4  3083  2943.580  139.420\n",
       "2    6  4063  3494.143  568.857\n",
       "3   10  3018  3111.983  -93.983\n",
       "4  508  3630  3476.914  153.086\n",
       "5  700  2993  3295.398 -302.398"
      ]
     },
     "execution_count": 37,
     "metadata": {},
     "output_type": "execute_result"
    }
   ],
   "source": [
    "df = pd.read_csv(io.StringIO(string_data), sep='\\s+')\n",
    "df"
   ]
  },
  {
   "cell_type": "code",
   "execution_count": 38,
   "id": "4647be94",
   "metadata": {},
   "outputs": [
    {
     "data": {
      "text/plain": [
       "0    3113\n",
       "1    3083\n",
       "2    4063\n",
       "3    3018\n",
       "4    3630\n",
       "5    2993\n",
       "Name: Факт, dtype: int64"
      ]
     },
     "execution_count": 38,
     "metadata": {},
     "output_type": "execute_result"
    }
   ],
   "source": [
    "df['Факт']"
   ]
  },
  {
   "cell_type": "code",
   "execution_count": 41,
   "id": "45466e71",
   "metadata": {},
   "outputs": [
    {
     "data": {
      "text/plain": [
       "3316.6666666666665"
      ]
     },
     "execution_count": 41,
     "metadata": {},
     "output_type": "execute_result"
    }
   ],
   "source": [
    "#ищем y среднее\n",
    "df['Факт'].mean()"
   ]
  },
  {
   "cell_type": "code",
   "execution_count": 45,
   "id": "64754b46",
   "metadata": {},
   "outputs": [
    {
     "data": {
      "text/plain": [
       "0     41480.111111\n",
       "1     54600.111111\n",
       "2    557013.444444\n",
       "3     89201.777778\n",
       "4     98177.777778\n",
       "5    104760.111111\n",
       "Name: Факт, dtype: float64"
      ]
     },
     "execution_count": 45,
     "metadata": {},
     "output_type": "execute_result"
    }
   ],
   "source": [
    "# вычитаем среднее значение из каждого y наблюдаемого\n",
    "tss = (df['Факт'] - df['Факт'].mean())**2\n",
    "tss"
   ]
  },
  {
   "cell_type": "code",
   "execution_count": 47,
   "id": "9074fa35",
   "metadata": {},
   "outputs": [
    {
     "data": {
      "text/plain": [
       "945233.3333333334"
      ]
     },
     "execution_count": 47,
     "metadata": {},
     "output_type": "execute_result"
    }
   ],
   "source": [
    "#теперь ищем нормальный TSS через библиотеку numpy (сумма)\n",
    "TSS = np.sum(tss)\n",
    "TSS"
   ]
  },
  {
   "cell_type": "code",
   "execution_count": 65,
   "id": "a9880f59",
   "metadata": {},
   "outputs": [
    {
     "name": "stdout",
     "output_type": "stream",
     "text": [
      "0    3113\n",
      "1    3083\n",
      "2    4063\n",
      "3    3018\n",
      "4    3630\n",
      "5    2993\n",
      "Name: Факт, dtype: int64\n",
      "3316.6666666666665\n"
     ]
    }
   ],
   "source": [
    "print(df['Факт'])\n",
    "print(df['Факт'].mean())"
   ]
  },
  {
   "cell_type": "code",
   "execution_count": 66,
   "id": "00eb99e5",
   "metadata": {},
   "outputs": [
    {
     "data": {
      "text/plain": [
       "288096.9463873332"
      ]
     },
     "execution_count": 66,
     "metadata": {},
     "output_type": "execute_result"
    }
   ],
   "source": [
    "ESS = np.sum((df['Fitted'] - df['Факт'].mean())**2)\n",
    "ESS"
   ]
  },
  {
   "cell_type": "code",
   "execution_count": 67,
   "id": "4b6ca4aa",
   "metadata": {},
   "outputs": [
    {
     "data": {
      "text/plain": [
       "657136.3869460002"
      ]
     },
     "execution_count": 67,
     "metadata": {},
     "output_type": "execute_result"
    }
   ],
   "source": [
    "RSS = TSS - ESS\n",
    "RSS"
   ]
  },
  {
   "cell_type": "code",
   "execution_count": 68,
   "id": "04731624",
   "metadata": {},
   "outputs": [
    {
     "data": {
      "text/plain": [
       "0.30478923692985843"
      ]
     },
     "execution_count": 68,
     "metadata": {},
     "output_type": "execute_result"
    }
   ],
   "source": [
    "R2 = ESS/TSS\n",
    "R2"
   ]
  },
  {
   "cell_type": "code",
   "execution_count": 71,
   "id": "40e4131c",
   "metadata": {},
   "outputs": [
    {
     "data": {
      "text/plain": [
       "0.30179263881317675"
      ]
     },
     "execution_count": 71,
     "metadata": {},
     "output_type": "execute_result"
    }
   ],
   "source": [
    "R2_adj = 1 - (1-R2)*(700-1)/(700-4)\n",
    "R2_adj"
   ]
  },
  {
   "cell_type": "code",
   "execution_count": 77,
   "id": "39f19226",
   "metadata": {},
   "outputs": [
    {
     "name": "stdout",
     "output_type": "stream",
     "text": [
      "SER = 810.6394925896469\n"
     ]
    }
   ],
   "source": [
    "SER = np.sqrt(RSS)\n",
    "print('SER =', SER)"
   ]
  },
  {
   "cell_type": "markdown",
   "id": "f7fdb142",
   "metadata": {},
   "source": [
    "## Задача 3.2"
   ]
  },
  {
   "cell_type": "code",
   "execution_count": 73,
   "id": "a541a608",
   "metadata": {},
   "outputs": [],
   "source": [
    "data_string = '''i   Факт  Fitted  Остаток \n",
    "1   2670 3132.491 -462.491\n",
    "9   3090 3370.083 -280.083\n",
    "56  2985 2835.360 149.640 \n",
    "76  3660 3248.540 411.460 \n",
    "100 2618 2863.070 -245.070'''"
   ]
  },
  {
   "cell_type": "code",
   "execution_count": 74,
   "id": "2e14b8ac",
   "metadata": {},
   "outputs": [
    {
     "data": {
      "text/html": [
       "<div>\n",
       "<style scoped>\n",
       "    .dataframe tbody tr th:only-of-type {\n",
       "        vertical-align: middle;\n",
       "    }\n",
       "\n",
       "    .dataframe tbody tr th {\n",
       "        vertical-align: top;\n",
       "    }\n",
       "\n",
       "    .dataframe thead th {\n",
       "        text-align: right;\n",
       "    }\n",
       "</style>\n",
       "<table border=\"1\" class=\"dataframe\">\n",
       "  <thead>\n",
       "    <tr style=\"text-align: right;\">\n",
       "      <th></th>\n",
       "      <th>i</th>\n",
       "      <th>Факт</th>\n",
       "      <th>Fitted</th>\n",
       "      <th>Остаток</th>\n",
       "    </tr>\n",
       "  </thead>\n",
       "  <tbody>\n",
       "    <tr>\n",
       "      <th>0</th>\n",
       "      <td>1</td>\n",
       "      <td>2670</td>\n",
       "      <td>3132.491</td>\n",
       "      <td>-462.491</td>\n",
       "    </tr>\n",
       "    <tr>\n",
       "      <th>1</th>\n",
       "      <td>9</td>\n",
       "      <td>3090</td>\n",
       "      <td>3370.083</td>\n",
       "      <td>-280.083</td>\n",
       "    </tr>\n",
       "    <tr>\n",
       "      <th>2</th>\n",
       "      <td>56</td>\n",
       "      <td>2985</td>\n",
       "      <td>2835.360</td>\n",
       "      <td>149.640</td>\n",
       "    </tr>\n",
       "    <tr>\n",
       "      <th>3</th>\n",
       "      <td>76</td>\n",
       "      <td>3660</td>\n",
       "      <td>3248.540</td>\n",
       "      <td>411.460</td>\n",
       "    </tr>\n",
       "    <tr>\n",
       "      <th>4</th>\n",
       "      <td>100</td>\n",
       "      <td>2618</td>\n",
       "      <td>2863.070</td>\n",
       "      <td>-245.070</td>\n",
       "    </tr>\n",
       "  </tbody>\n",
       "</table>\n",
       "</div>"
      ],
      "text/plain": [
       "     i  Факт    Fitted  Остаток\n",
       "0    1  2670  3132.491 -462.491\n",
       "1    9  3090  3370.083 -280.083\n",
       "2   56  2985  2835.360  149.640\n",
       "3   76  3660  3248.540  411.460\n",
       "4  100  2618  2863.070 -245.070"
      ]
     },
     "execution_count": 74,
     "metadata": {},
     "output_type": "execute_result"
    }
   ],
   "source": [
    "df = pd.read_csv(io.StringIO(data_string), sep='\\s+')\n",
    "df"
   ]
  },
  {
   "cell_type": "code",
   "execution_count": 75,
   "id": "5e0f7add",
   "metadata": {},
   "outputs": [
    {
     "data": {
      "text/plain": [
       "698643.2"
      ]
     },
     "execution_count": 75,
     "metadata": {},
     "output_type": "execute_result"
    }
   ],
   "source": [
    "TSS = ((df['Факт']-np.mean(df['Факт']))**2).sum()\n",
    "TSS"
   ]
  },
  {
   "cell_type": "code",
   "execution_count": 76,
   "id": "8748e82f",
   "metadata": {},
   "outputs": [
    {
     "data": {
      "text/plain": [
       "258113.573"
      ]
     },
     "execution_count": 76,
     "metadata": {},
     "output_type": "execute_result"
    }
   ],
   "source": [
    "ESS = ((df['Fitted'] - np.mean(df['Факт']))**2).sum()\n",
    "ESS.round(3)"
   ]
  },
  {
   "cell_type": "code",
   "execution_count": 77,
   "id": "11823267",
   "metadata": {},
   "outputs": [
    {
     "data": {
      "text/plain": [
       "544095.178"
      ]
     },
     "execution_count": 77,
     "metadata": {},
     "output_type": "execute_result"
    }
   ],
   "source": [
    "RSS = ((df['Остаток'])**2).sum()\n",
    "RSS.round(3)"
   ]
  },
  {
   "cell_type": "code",
   "execution_count": 78,
   "id": "9779bac3",
   "metadata": {},
   "outputs": [
    {
     "data": {
      "text/plain": [
       "0.369"
      ]
     },
     "execution_count": 78,
     "metadata": {},
     "output_type": "execute_result"
    }
   ],
   "source": [
    "R2 = ESS.round(3)/TSS.round(3)\n",
    "R2.round(3)"
   ]
  },
  {
   "cell_type": "code",
   "execution_count": 79,
   "id": "acaf7765",
   "metadata": {},
   "outputs": [
    {
     "data": {
      "text/plain": [
       "0.19687452424257823"
      ]
     },
     "execution_count": 79,
     "metadata": {},
     "output_type": "execute_result"
    }
   ],
   "source": [
    "# Вычислим исправленный коэффициенте детерминации\n",
    "n = 100 # количество измерений равно длине строк в исходной таблице минус 1, т.к. присутствует строка заголовака \n",
    "k = 4 # количество регрессорово\n",
    "RSS_adj = 1 - (RSS/TSS)*((n-1)/(n-k))\n",
    "RSS_adj"
   ]
  },
  {
   "cell_type": "code",
   "execution_count": 80,
   "id": "e9658599",
   "metadata": {},
   "outputs": [
    {
     "data": {
      "text/plain": [
       "737.6280757061786"
      ]
     },
     "execution_count": 80,
     "metadata": {},
     "output_type": "execute_result"
    }
   ],
   "source": [
    "SER = np.sqrt(RSS)\n",
    "SER"
   ]
  },
  {
   "cell_type": "markdown",
   "id": "9fc517dd",
   "metadata": {},
   "source": [
    "## Задача 3.3"
   ]
  },
  {
   "cell_type": "code",
   "execution_count": 81,
   "id": "142cccde",
   "metadata": {},
   "outputs": [],
   "source": [
    "data_string = '''i   Факт  Fitted  Остаток \n",
    "1   3113 3061.481  51.519 \n",
    "9   3018 3087.341 -69.341 \n",
    "45  3363 3268.521  94.479 \n",
    "187 3390 3228.976 161.024 \n",
    "280 2955 3399.060 -444.060'''"
   ]
  },
  {
   "cell_type": "code",
   "execution_count": 82,
   "id": "d02a0284",
   "metadata": {},
   "outputs": [
    {
     "data": {
      "text/html": [
       "<div>\n",
       "<style scoped>\n",
       "    .dataframe tbody tr th:only-of-type {\n",
       "        vertical-align: middle;\n",
       "    }\n",
       "\n",
       "    .dataframe tbody tr th {\n",
       "        vertical-align: top;\n",
       "    }\n",
       "\n",
       "    .dataframe thead th {\n",
       "        text-align: right;\n",
       "    }\n",
       "</style>\n",
       "<table border=\"1\" class=\"dataframe\">\n",
       "  <thead>\n",
       "    <tr style=\"text-align: right;\">\n",
       "      <th></th>\n",
       "      <th>i</th>\n",
       "      <th>Факт</th>\n",
       "      <th>Fitted</th>\n",
       "      <th>Остаток</th>\n",
       "    </tr>\n",
       "  </thead>\n",
       "  <tbody>\n",
       "    <tr>\n",
       "      <th>0</th>\n",
       "      <td>1</td>\n",
       "      <td>3113</td>\n",
       "      <td>3061.481</td>\n",
       "      <td>51.519</td>\n",
       "    </tr>\n",
       "    <tr>\n",
       "      <th>1</th>\n",
       "      <td>9</td>\n",
       "      <td>3018</td>\n",
       "      <td>3087.341</td>\n",
       "      <td>-69.341</td>\n",
       "    </tr>\n",
       "    <tr>\n",
       "      <th>2</th>\n",
       "      <td>45</td>\n",
       "      <td>3363</td>\n",
       "      <td>3268.521</td>\n",
       "      <td>94.479</td>\n",
       "    </tr>\n",
       "    <tr>\n",
       "      <th>3</th>\n",
       "      <td>187</td>\n",
       "      <td>3390</td>\n",
       "      <td>3228.976</td>\n",
       "      <td>161.024</td>\n",
       "    </tr>\n",
       "    <tr>\n",
       "      <th>4</th>\n",
       "      <td>280</td>\n",
       "      <td>2955</td>\n",
       "      <td>3399.060</td>\n",
       "      <td>-444.060</td>\n",
       "    </tr>\n",
       "  </tbody>\n",
       "</table>\n",
       "</div>"
      ],
      "text/plain": [
       "     i  Факт    Fitted  Остаток\n",
       "0    1  3113  3061.481   51.519\n",
       "1    9  3018  3087.341  -69.341\n",
       "2   45  3363  3268.521   94.479\n",
       "3  187  3390  3228.976  161.024\n",
       "4  280  2955  3399.060 -444.060"
      ]
     },
     "execution_count": 82,
     "metadata": {},
     "output_type": "execute_result"
    }
   ],
   "source": [
    "df = pd.read_csv(io.StringIO(data_string), sep='\\s+')\n",
    "df"
   ]
  },
  {
   "cell_type": "code",
   "execution_count": 83,
   "id": "b53a1990",
   "metadata": {},
   "outputs": [
    {
     "data": {
      "text/plain": [
       "158202.8"
      ]
     },
     "execution_count": 83,
     "metadata": {},
     "output_type": "execute_result"
    }
   ],
   "source": [
    "TSS = ((df['Факт']-np.mean(df['Факт']))**2).sum()\n",
    "TSS"
   ]
  },
  {
   "cell_type": "code",
   "execution_count": 84,
   "id": "788f04d8",
   "metadata": {},
   "outputs": [
    {
     "data": {
      "text/plain": [
       "85145.791"
      ]
     },
     "execution_count": 84,
     "metadata": {},
     "output_type": "execute_result"
    }
   ],
   "source": [
    "ESS = ((df['Fitted'] - np.mean(df['Факт']))**2).sum()\n",
    "ESS.round(3)"
   ]
  },
  {
   "cell_type": "code",
   "execution_count": 85,
   "id": "48eb3050",
   "metadata": {},
   "outputs": [
    {
     "data": {
      "text/plain": [
       "239506.675"
      ]
     },
     "execution_count": 85,
     "metadata": {},
     "output_type": "execute_result"
    }
   ],
   "source": [
    "RSS = ((df['Остаток'])**2).sum()\n",
    "RSS.round(3)"
   ]
  },
  {
   "cell_type": "code",
   "execution_count": 86,
   "id": "93f26adc",
   "metadata": {},
   "outputs": [
    {
     "data": {
      "text/plain": [
       "0.538"
      ]
     },
     "execution_count": 86,
     "metadata": {},
     "output_type": "execute_result"
    }
   ],
   "source": [
    "R2 = ESS.round(3)/TSS.round(3)\n",
    "R2.round(3)"
   ]
  },
  {
   "cell_type": "code",
   "execution_count": 89,
   "id": "0633b17b",
   "metadata": {},
   "outputs": [
    {
     "data": {
      "text/plain": [
       "0.5331871058924809"
      ]
     },
     "execution_count": 89,
     "metadata": {},
     "output_type": "execute_result"
    }
   ],
   "source": [
    "# Вычислим исправленный коэффициенте детерминации\n",
    "n = 280 # количество измерений равно длине строк в исходной таблице минус 1, т.к. присутствует строка заголовака \n",
    "k = 4 # количество регрессорово\n",
    "RSS_adj = 1 - (1-R2)*((n-1)/(n-k))\n",
    "RSS_adj"
   ]
  },
  {
   "cell_type": "code",
   "execution_count": 90,
   "id": "3094c75a",
   "metadata": {},
   "outputs": [
    {
     "data": {
      "text/plain": [
       "489.39419209774036"
      ]
     },
     "execution_count": 90,
     "metadata": {},
     "output_type": "execute_result"
    }
   ],
   "source": [
    "SER = np.sqrt(RSS)\n",
    "SER"
   ]
  },
  {
   "cell_type": "markdown",
   "id": "ac840143",
   "metadata": {},
   "source": [
    "## Задача 3.4"
   ]
  },
  {
   "cell_type": "code",
   "execution_count": 91,
   "id": "615b2e90",
   "metadata": {},
   "outputs": [],
   "source": [
    "data_string = '''i   Факт  Fitted  Остаток \n",
    "1   3083 2945.903 137.097 \n",
    "9   2858 2920.662 -62.662 \n",
    "45  3730 3328.629 401.371 \n",
    "187 3376 3503.722 -127.722\n",
    "280 3405 3215.073 189.927'''"
   ]
  },
  {
   "cell_type": "code",
   "execution_count": 92,
   "id": "a4c0c953",
   "metadata": {},
   "outputs": [
    {
     "data": {
      "text/html": [
       "<div>\n",
       "<style scoped>\n",
       "    .dataframe tbody tr th:only-of-type {\n",
       "        vertical-align: middle;\n",
       "    }\n",
       "\n",
       "    .dataframe tbody tr th {\n",
       "        vertical-align: top;\n",
       "    }\n",
       "\n",
       "    .dataframe thead th {\n",
       "        text-align: right;\n",
       "    }\n",
       "</style>\n",
       "<table border=\"1\" class=\"dataframe\">\n",
       "  <thead>\n",
       "    <tr style=\"text-align: right;\">\n",
       "      <th></th>\n",
       "      <th>i</th>\n",
       "      <th>Факт</th>\n",
       "      <th>Fitted</th>\n",
       "      <th>Остаток</th>\n",
       "    </tr>\n",
       "  </thead>\n",
       "  <tbody>\n",
       "    <tr>\n",
       "      <th>0</th>\n",
       "      <td>1</td>\n",
       "      <td>3083</td>\n",
       "      <td>2945.903</td>\n",
       "      <td>137.097</td>\n",
       "    </tr>\n",
       "    <tr>\n",
       "      <th>1</th>\n",
       "      <td>9</td>\n",
       "      <td>2858</td>\n",
       "      <td>2920.662</td>\n",
       "      <td>-62.662</td>\n",
       "    </tr>\n",
       "    <tr>\n",
       "      <th>2</th>\n",
       "      <td>45</td>\n",
       "      <td>3730</td>\n",
       "      <td>3328.629</td>\n",
       "      <td>401.371</td>\n",
       "    </tr>\n",
       "    <tr>\n",
       "      <th>3</th>\n",
       "      <td>187</td>\n",
       "      <td>3376</td>\n",
       "      <td>3503.722</td>\n",
       "      <td>-127.722</td>\n",
       "    </tr>\n",
       "    <tr>\n",
       "      <th>4</th>\n",
       "      <td>280</td>\n",
       "      <td>3405</td>\n",
       "      <td>3215.073</td>\n",
       "      <td>189.927</td>\n",
       "    </tr>\n",
       "  </tbody>\n",
       "</table>\n",
       "</div>"
      ],
      "text/plain": [
       "     i  Факт    Fitted  Остаток\n",
       "0    1  3083  2945.903  137.097\n",
       "1    9  2858  2920.662  -62.662\n",
       "2   45  3730  3328.629  401.371\n",
       "3  187  3376  3503.722 -127.722\n",
       "4  280  3405  3215.073  189.927"
      ]
     },
     "execution_count": 92,
     "metadata": {},
     "output_type": "execute_result"
    }
   ],
   "source": [
    "df = pd.read_csv(io.StringIO(data_string), sep='\\s+')\n",
    "df"
   ]
  },
  {
   "cell_type": "code",
   "execution_count": 93,
   "id": "dda9cb7d",
   "metadata": {},
   "outputs": [
    {
     "data": {
      "text/plain": [
       "308026.261"
      ]
     },
     "execution_count": 93,
     "metadata": {},
     "output_type": "execute_result"
    }
   ],
   "source": [
    "ESS = ((df['Fitted'] - np.mean(df['Факт']))**2).sum()\n",
    "ESS.round(3)"
   ]
  },
  {
   "cell_type": "code",
   "execution_count": 94,
   "id": "48515834",
   "metadata": {},
   "outputs": [
    {
     "data": {
      "text/plain": [
       "236205.968"
      ]
     },
     "execution_count": 94,
     "metadata": {},
     "output_type": "execute_result"
    }
   ],
   "source": [
    "RSS = ((df['Остаток'])**2).sum()\n",
    "RSS.round(3)"
   ]
  },
  {
   "cell_type": "code",
   "execution_count": 95,
   "id": "9951a82e",
   "metadata": {},
   "outputs": [
    {
     "data": {
      "text/plain": [
       "443693.2"
      ]
     },
     "execution_count": 95,
     "metadata": {},
     "output_type": "execute_result"
    }
   ],
   "source": [
    "TSS = ((df['Факт']-np.mean(df['Факт']))**2).sum()\n",
    "TSS"
   ]
  },
  {
   "cell_type": "code",
   "execution_count": 96,
   "id": "e3f79c51",
   "metadata": {},
   "outputs": [
    {
     "data": {
      "text/plain": [
       "0.694"
      ]
     },
     "execution_count": 96,
     "metadata": {},
     "output_type": "execute_result"
    }
   ],
   "source": [
    "R2 = ESS.round(3)/TSS.round(3)\n",
    "R2.round(3)\n"
   ]
  },
  {
   "cell_type": "code",
   "execution_count": 97,
   "id": "477d7265",
   "metadata": {},
   "outputs": [
    {
     "data": {
      "text/plain": [
       "0.6909089892716309"
      ]
     },
     "execution_count": 97,
     "metadata": {},
     "output_type": "execute_result"
    }
   ],
   "source": [
    "# Вычислим исправленный коэффициенте детерминации\n",
    "n = 280 # количество измерений равно длине строк в исходной таблице минус 1, т.к. присутствует строка заголовака \n",
    "k = 4 # количество регрессорово\n",
    "RSS_adj = 1 - (1-R2)*((n-1)/(n-k))\n",
    "RSS_adj\n"
   ]
  },
  {
   "cell_type": "code",
   "execution_count": 98,
   "id": "20180b26",
   "metadata": {},
   "outputs": [
    {
     "data": {
      "text/plain": [
       "486.0102549401607"
      ]
     },
     "execution_count": 98,
     "metadata": {},
     "output_type": "execute_result"
    }
   ],
   "source": [
    "SER = np.sqrt(RSS)\n",
    "SER\n"
   ]
  },
  {
   "cell_type": "markdown",
   "id": "9487c4a1",
   "metadata": {},
   "source": [
    "## Задача 3.5"
   ]
  },
  {
   "cell_type": "code",
   "execution_count": 99,
   "id": "355eef1f",
   "metadata": {},
   "outputs": [],
   "source": [
    "data_string = '''i   Факт  Fitted Остаток\n",
    "2   3.664 0.457   3.207 \n",
    "11  3.246 5.666  -2.420 \n",
    "24  2.666 -0.625  3.292 \n",
    "101 2.181 6.952  -4.771 \n",
    "349 4.307 2.278   2.029 \n",
    "501 3.660 11.353 -7.694'''\n"
   ]
  },
  {
   "cell_type": "code",
   "execution_count": 100,
   "id": "5a906bb8",
   "metadata": {},
   "outputs": [
    {
     "data": {
      "text/html": [
       "<div>\n",
       "<style scoped>\n",
       "    .dataframe tbody tr th:only-of-type {\n",
       "        vertical-align: middle;\n",
       "    }\n",
       "\n",
       "    .dataframe tbody tr th {\n",
       "        vertical-align: top;\n",
       "    }\n",
       "\n",
       "    .dataframe thead th {\n",
       "        text-align: right;\n",
       "    }\n",
       "</style>\n",
       "<table border=\"1\" class=\"dataframe\">\n",
       "  <thead>\n",
       "    <tr style=\"text-align: right;\">\n",
       "      <th></th>\n",
       "      <th>i</th>\n",
       "      <th>Факт</th>\n",
       "      <th>Fitted</th>\n",
       "      <th>Остаток</th>\n",
       "    </tr>\n",
       "  </thead>\n",
       "  <tbody>\n",
       "    <tr>\n",
       "      <th>0</th>\n",
       "      <td>2</td>\n",
       "      <td>3.664</td>\n",
       "      <td>0.457</td>\n",
       "      <td>3.207</td>\n",
       "    </tr>\n",
       "    <tr>\n",
       "      <th>1</th>\n",
       "      <td>11</td>\n",
       "      <td>3.246</td>\n",
       "      <td>5.666</td>\n",
       "      <td>-2.420</td>\n",
       "    </tr>\n",
       "    <tr>\n",
       "      <th>2</th>\n",
       "      <td>24</td>\n",
       "      <td>2.666</td>\n",
       "      <td>-0.625</td>\n",
       "      <td>3.292</td>\n",
       "    </tr>\n",
       "    <tr>\n",
       "      <th>3</th>\n",
       "      <td>101</td>\n",
       "      <td>2.181</td>\n",
       "      <td>6.952</td>\n",
       "      <td>-4.771</td>\n",
       "    </tr>\n",
       "    <tr>\n",
       "      <th>4</th>\n",
       "      <td>349</td>\n",
       "      <td>4.307</td>\n",
       "      <td>2.278</td>\n",
       "      <td>2.029</td>\n",
       "    </tr>\n",
       "    <tr>\n",
       "      <th>5</th>\n",
       "      <td>501</td>\n",
       "      <td>3.660</td>\n",
       "      <td>11.353</td>\n",
       "      <td>-7.694</td>\n",
       "    </tr>\n",
       "  </tbody>\n",
       "</table>\n",
       "</div>"
      ],
      "text/plain": [
       "     i   Факт  Fitted  Остаток\n",
       "0    2  3.664   0.457    3.207\n",
       "1   11  3.246   5.666   -2.420\n",
       "2   24  2.666  -0.625    3.292\n",
       "3  101  2.181   6.952   -4.771\n",
       "4  349  4.307   2.278    2.029\n",
       "5  501  3.660  11.353   -7.694"
      ]
     },
     "execution_count": 100,
     "metadata": {},
     "output_type": "execute_result"
    }
   ],
   "source": [
    "df = pd.read_csv(io.StringIO(data_string), sep='\\s+')\n",
    "df"
   ]
  },
  {
   "cell_type": "code",
   "execution_count": 103,
   "id": "51870f19",
   "metadata": {},
   "outputs": [
    {
     "data": {
      "text/plain": [
       "2.932"
      ]
     },
     "execution_count": 103,
     "metadata": {},
     "output_type": "execute_result"
    }
   ],
   "source": [
    "TSS = ((df['Факт']-np.mean(df['Факт']))**2).sum()\n",
    "TSS.round(3)"
   ]
  },
  {
   "cell_type": "code",
   "execution_count": 102,
   "id": "496afcaa",
   "metadata": {},
   "outputs": [
    {
     "data": {
      "text/plain": [
       "108.479"
      ]
     },
     "execution_count": 102,
     "metadata": {},
     "output_type": "execute_result"
    }
   ],
   "source": [
    "ESS = ((df['Fitted'] - np.mean(df['Факт']))**2).sum()\n",
    "ESS.round(3)"
   ]
  },
  {
   "cell_type": "code",
   "execution_count": 105,
   "id": "ac08a9de",
   "metadata": {},
   "outputs": [
    {
     "data": {
      "text/plain": [
       "113.033"
      ]
     },
     "execution_count": 105,
     "metadata": {},
     "output_type": "execute_result"
    }
   ],
   "source": [
    "RSS = ((df['Факт']-df['Fitted'])**2).sum()\n",
    "RSS.round(3)"
   ]
  },
  {
   "cell_type": "markdown",
   "id": "36e02624",
   "metadata": {},
   "source": [
    "#### Получились неправильные значения. Думаю это из-за того, что из всех 501 наблюдений я рассматриваю лишь 6 штук. Поэтому ниже я рассмотрю первоначальную выборку, чтобы проверить свою гипотезу :)"
   ]
  },
  {
   "cell_type": "code",
   "execution_count": 106,
   "id": "6bc73d31",
   "metadata": {},
   "outputs": [],
   "source": [
    "import numpy as np # linear algebra \n",
    "import pandas as pd # data processing, CSV file I/O (e.g. pd.read_csv)\n",
    "# stats models: regression fitting\n",
    "import statsmodels.formula.api as smf\n",
    "# data visualization\n",
    "import seaborn as sns"
   ]
  },
  {
   "cell_type": "code",
   "execution_count": 107,
   "id": "96adc7a8",
   "metadata": {},
   "outputs": [
    {
     "data": {
      "text/html": [
       "<div>\n",
       "<style scoped>\n",
       "    .dataframe tbody tr th:only-of-type {\n",
       "        vertical-align: middle;\n",
       "    }\n",
       "\n",
       "    .dataframe tbody tr th {\n",
       "        vertical-align: top;\n",
       "    }\n",
       "\n",
       "    .dataframe thead th {\n",
       "        text-align: right;\n",
       "    }\n",
       "</style>\n",
       "<table border=\"1\" class=\"dataframe\">\n",
       "  <thead>\n",
       "    <tr style=\"text-align: right;\">\n",
       "      <th></th>\n",
       "      <th>capital</th>\n",
       "      <th>labour</th>\n",
       "      <th>output</th>\n",
       "      <th>wage</th>\n",
       "    </tr>\n",
       "  </thead>\n",
       "  <tbody>\n",
       "    <tr>\n",
       "      <th>0</th>\n",
       "      <td>2.606563</td>\n",
       "      <td>184</td>\n",
       "      <td>9.250759</td>\n",
       "      <td>43.080307</td>\n",
       "    </tr>\n",
       "    <tr>\n",
       "      <th>1</th>\n",
       "      <td>1.323237</td>\n",
       "      <td>91</td>\n",
       "      <td>3.664310</td>\n",
       "      <td>27.780016</td>\n",
       "    </tr>\n",
       "    <tr>\n",
       "      <th>2</th>\n",
       "      <td>22.093692</td>\n",
       "      <td>426</td>\n",
       "      <td>28.781516</td>\n",
       "      <td>44.467748</td>\n",
       "    </tr>\n",
       "    <tr>\n",
       "      <th>3</th>\n",
       "      <td>10.737851</td>\n",
       "      <td>72</td>\n",
       "      <td>4.124642</td>\n",
       "      <td>39.734710</td>\n",
       "    </tr>\n",
       "    <tr>\n",
       "      <th>4</th>\n",
       "      <td>1.161365</td>\n",
       "      <td>46</td>\n",
       "      <td>2.890150</td>\n",
       "      <td>34.650709</td>\n",
       "    </tr>\n",
       "    <tr>\n",
       "      <th>...</th>\n",
       "      <td>...</td>\n",
       "      <td>...</td>\n",
       "      <td>...</td>\n",
       "      <td>...</td>\n",
       "    </tr>\n",
       "    <tr>\n",
       "      <th>564</th>\n",
       "      <td>2.625403</td>\n",
       "      <td>20</td>\n",
       "      <td>1.424376</td>\n",
       "      <td>33.477545</td>\n",
       "    </tr>\n",
       "    <tr>\n",
       "      <th>565</th>\n",
       "      <td>1.276386</td>\n",
       "      <td>61</td>\n",
       "      <td>2.109048</td>\n",
       "      <td>26.300732</td>\n",
       "    </tr>\n",
       "    <tr>\n",
       "      <th>566</th>\n",
       "      <td>1.953869</td>\n",
       "      <td>117</td>\n",
       "      <td>6.241870</td>\n",
       "      <td>41.153979</td>\n",
       "    </tr>\n",
       "    <tr>\n",
       "      <th>567</th>\n",
       "      <td>1.318527</td>\n",
       "      <td>46</td>\n",
       "      <td>7.902237</td>\n",
       "      <td>66.720139</td>\n",
       "    </tr>\n",
       "    <tr>\n",
       "      <th>568</th>\n",
       "      <td>2.832391</td>\n",
       "      <td>161</td>\n",
       "      <td>6.804085</td>\n",
       "      <td>36.618435</td>\n",
       "    </tr>\n",
       "  </tbody>\n",
       "</table>\n",
       "<p>569 rows × 4 columns</p>\n",
       "</div>"
      ],
      "text/plain": [
       "       capital  labour     output       wage\n",
       "0     2.606563     184   9.250759  43.080307\n",
       "1     1.323237      91   3.664310  27.780016\n",
       "2    22.093692     426  28.781516  44.467748\n",
       "3    10.737851      72   4.124642  39.734710\n",
       "4     1.161365      46   2.890150  34.650709\n",
       "..         ...     ...        ...        ...\n",
       "564   2.625403      20   1.424376  33.477545\n",
       "565   1.276386      61   2.109048  26.300732\n",
       "566   1.953869     117   6.241870  41.153979\n",
       "567   1.318527      46   7.902237  66.720139\n",
       "568   2.832391     161   6.804085  36.618435\n",
       "\n",
       "[569 rows x 4 columns]"
      ]
     },
     "execution_count": 107,
     "metadata": {},
     "output_type": "execute_result"
    }
   ],
   "source": [
    "df = pd.read_csv('https://raw.githubusercontent.com/artamonoff/Econometrica/master/python-notebooks/data-csv/Labour.csv')\n",
    "df"
   ]
  },
  {
   "cell_type": "code",
   "execution_count": 120,
   "id": "987d1e95",
   "metadata": {},
   "outputs": [
    {
     "data": {
      "text/plain": [
       "<bound method Series.round of Intercept   -16.745898\n",
       "capital       0.395074\n",
       "labour        0.049899\n",
       "wage          0.436984\n",
       "dtype: float64>"
      ]
     },
     "execution_count": 120,
     "metadata": {},
     "output_type": "execute_result"
    }
   ],
   "source": [
    "# подгонка прямой\n",
    "fitted_line = smf.ols(formula='output~capital+labour+wage', data=df).fit()\n",
    "# коэффициенты с округлением\n",
    "fitted_line.params.round"
   ]
  },
  {
   "cell_type": "code",
   "execution_count": 123,
   "id": "c9b71863",
   "metadata": {},
   "outputs": [
    {
     "data": {
      "text/html": [
       "<div>\n",
       "<style scoped>\n",
       "    .dataframe tbody tr th:only-of-type {\n",
       "        vertical-align: middle;\n",
       "    }\n",
       "\n",
       "    .dataframe tbody tr th {\n",
       "        vertical-align: top;\n",
       "    }\n",
       "\n",
       "    .dataframe thead th {\n",
       "        text-align: right;\n",
       "    }\n",
       "</style>\n",
       "<table border=\"1\" class=\"dataframe\">\n",
       "  <thead>\n",
       "    <tr style=\"text-align: right;\">\n",
       "      <th></th>\n",
       "      <th>capital</th>\n",
       "      <th>labour</th>\n",
       "      <th>output</th>\n",
       "      <th>wage</th>\n",
       "      <th>pred</th>\n",
       "      <th>resid</th>\n",
       "    </tr>\n",
       "  </thead>\n",
       "  <tbody>\n",
       "    <tr>\n",
       "      <th>0</th>\n",
       "      <td>2.606563</td>\n",
       "      <td>184</td>\n",
       "      <td>9.250759</td>\n",
       "      <td>43.080307</td>\n",
       "      <td>12.290708</td>\n",
       "      <td>-3.039949</td>\n",
       "    </tr>\n",
       "    <tr>\n",
       "      <th>1</th>\n",
       "      <td>1.323237</td>\n",
       "      <td>91</td>\n",
       "      <td>3.664310</td>\n",
       "      <td>27.780016</td>\n",
       "      <td>0.457110</td>\n",
       "      <td>3.207200</td>\n",
       "    </tr>\n",
       "    <tr>\n",
       "      <th>2</th>\n",
       "      <td>22.093692</td>\n",
       "      <td>426</td>\n",
       "      <td>28.781516</td>\n",
       "      <td>44.467748</td>\n",
       "      <td>32.671414</td>\n",
       "      <td>-3.889897</td>\n",
       "    </tr>\n",
       "    <tr>\n",
       "      <th>3</th>\n",
       "      <td>10.737851</td>\n",
       "      <td>72</td>\n",
       "      <td>4.124642</td>\n",
       "      <td>39.734710</td>\n",
       "      <td>8.452508</td>\n",
       "      <td>-4.327866</td>\n",
       "    </tr>\n",
       "    <tr>\n",
       "      <th>4</th>\n",
       "      <td>1.161365</td>\n",
       "      <td>46</td>\n",
       "      <td>2.890150</td>\n",
       "      <td>34.650709</td>\n",
       "      <td>1.150086</td>\n",
       "      <td>1.740063</td>\n",
       "    </tr>\n",
       "    <tr>\n",
       "      <th>...</th>\n",
       "      <td>...</td>\n",
       "      <td>...</td>\n",
       "      <td>...</td>\n",
       "      <td>...</td>\n",
       "      <td>...</td>\n",
       "      <td>...</td>\n",
       "    </tr>\n",
       "    <tr>\n",
       "      <th>564</th>\n",
       "      <td>2.625403</td>\n",
       "      <td>20</td>\n",
       "      <td>1.424376</td>\n",
       "      <td>33.477545</td>\n",
       "      <td>-0.081538</td>\n",
       "      <td>1.505914</td>\n",
       "    </tr>\n",
       "    <tr>\n",
       "      <th>565</th>\n",
       "      <td>1.276386</td>\n",
       "      <td>61</td>\n",
       "      <td>2.109048</td>\n",
       "      <td>26.300732</td>\n",
       "      <td>-1.704793</td>\n",
       "      <td>3.813841</td>\n",
       "    </tr>\n",
       "    <tr>\n",
       "      <th>566</th>\n",
       "      <td>1.953869</td>\n",
       "      <td>117</td>\n",
       "      <td>6.241870</td>\n",
       "      <td>41.153979</td>\n",
       "      <td>7.847838</td>\n",
       "      <td>-1.605968</td>\n",
       "    </tr>\n",
       "    <tr>\n",
       "      <th>567</th>\n",
       "      <td>1.318527</td>\n",
       "      <td>46</td>\n",
       "      <td>7.902237</td>\n",
       "      <td>66.720139</td>\n",
       "      <td>15.226005</td>\n",
       "      <td>-7.323767</td>\n",
       "    </tr>\n",
       "    <tr>\n",
       "      <th>568</th>\n",
       "      <td>2.832391</td>\n",
       "      <td>161</td>\n",
       "      <td>6.804085</td>\n",
       "      <td>36.618435</td>\n",
       "      <td>8.408515</td>\n",
       "      <td>-1.604430</td>\n",
       "    </tr>\n",
       "  </tbody>\n",
       "</table>\n",
       "<p>569 rows × 6 columns</p>\n",
       "</div>"
      ],
      "text/plain": [
       "       capital  labour     output       wage       pred     resid\n",
       "0     2.606563     184   9.250759  43.080307  12.290708 -3.039949\n",
       "1     1.323237      91   3.664310  27.780016   0.457110  3.207200\n",
       "2    22.093692     426  28.781516  44.467748  32.671414 -3.889897\n",
       "3    10.737851      72   4.124642  39.734710   8.452508 -4.327866\n",
       "4     1.161365      46   2.890150  34.650709   1.150086  1.740063\n",
       "..         ...     ...        ...        ...        ...       ...\n",
       "564   2.625403      20   1.424376  33.477545  -0.081538  1.505914\n",
       "565   1.276386      61   2.109048  26.300732  -1.704793  3.813841\n",
       "566   1.953869     117   6.241870  41.153979   7.847838 -1.605968\n",
       "567   1.318527      46   7.902237  66.720139  15.226005 -7.323767\n",
       "568   2.832391     161   6.804085  36.618435   8.408515 -1.604430\n",
       "\n",
       "[569 rows x 6 columns]"
      ]
     },
     "execution_count": 123,
     "metadata": {},
     "output_type": "execute_result"
    }
   ],
   "source": [
    "df['pred'] = -16.745898 + 0.395074*df['capital']+0.049899*df['labour']+0.436984*df['wage']\n",
    "df"
   ]
  },
  {
   "cell_type": "code",
   "execution_count": 122,
   "id": "54f6f230",
   "metadata": {},
   "outputs": [
    {
     "data": {
      "text/html": [
       "<div>\n",
       "<style scoped>\n",
       "    .dataframe tbody tr th:only-of-type {\n",
       "        vertical-align: middle;\n",
       "    }\n",
       "\n",
       "    .dataframe tbody tr th {\n",
       "        vertical-align: top;\n",
       "    }\n",
       "\n",
       "    .dataframe thead th {\n",
       "        text-align: right;\n",
       "    }\n",
       "</style>\n",
       "<table border=\"1\" class=\"dataframe\">\n",
       "  <thead>\n",
       "    <tr style=\"text-align: right;\">\n",
       "      <th></th>\n",
       "      <th>capital</th>\n",
       "      <th>labour</th>\n",
       "      <th>output</th>\n",
       "      <th>wage</th>\n",
       "      <th>pred</th>\n",
       "      <th>resid</th>\n",
       "    </tr>\n",
       "  </thead>\n",
       "  <tbody>\n",
       "    <tr>\n",
       "      <th>0</th>\n",
       "      <td>2.606563</td>\n",
       "      <td>184</td>\n",
       "      <td>9.250759</td>\n",
       "      <td>43.080307</td>\n",
       "      <td>12.290708</td>\n",
       "      <td>-3.039949</td>\n",
       "    </tr>\n",
       "    <tr>\n",
       "      <th>1</th>\n",
       "      <td>1.323237</td>\n",
       "      <td>91</td>\n",
       "      <td>3.664310</td>\n",
       "      <td>27.780016</td>\n",
       "      <td>0.457110</td>\n",
       "      <td>3.207200</td>\n",
       "    </tr>\n",
       "    <tr>\n",
       "      <th>2</th>\n",
       "      <td>22.093692</td>\n",
       "      <td>426</td>\n",
       "      <td>28.781516</td>\n",
       "      <td>44.467748</td>\n",
       "      <td>32.671414</td>\n",
       "      <td>-3.889897</td>\n",
       "    </tr>\n",
       "    <tr>\n",
       "      <th>3</th>\n",
       "      <td>10.737851</td>\n",
       "      <td>72</td>\n",
       "      <td>4.124642</td>\n",
       "      <td>39.734710</td>\n",
       "      <td>8.452508</td>\n",
       "      <td>-4.327866</td>\n",
       "    </tr>\n",
       "    <tr>\n",
       "      <th>4</th>\n",
       "      <td>1.161365</td>\n",
       "      <td>46</td>\n",
       "      <td>2.890150</td>\n",
       "      <td>34.650709</td>\n",
       "      <td>1.150086</td>\n",
       "      <td>1.740063</td>\n",
       "    </tr>\n",
       "    <tr>\n",
       "      <th>...</th>\n",
       "      <td>...</td>\n",
       "      <td>...</td>\n",
       "      <td>...</td>\n",
       "      <td>...</td>\n",
       "      <td>...</td>\n",
       "      <td>...</td>\n",
       "    </tr>\n",
       "    <tr>\n",
       "      <th>564</th>\n",
       "      <td>2.625403</td>\n",
       "      <td>20</td>\n",
       "      <td>1.424376</td>\n",
       "      <td>33.477545</td>\n",
       "      <td>-0.081538</td>\n",
       "      <td>1.505914</td>\n",
       "    </tr>\n",
       "    <tr>\n",
       "      <th>565</th>\n",
       "      <td>1.276386</td>\n",
       "      <td>61</td>\n",
       "      <td>2.109048</td>\n",
       "      <td>26.300732</td>\n",
       "      <td>-1.704793</td>\n",
       "      <td>3.813841</td>\n",
       "    </tr>\n",
       "    <tr>\n",
       "      <th>566</th>\n",
       "      <td>1.953869</td>\n",
       "      <td>117</td>\n",
       "      <td>6.241870</td>\n",
       "      <td>41.153979</td>\n",
       "      <td>7.847838</td>\n",
       "      <td>-1.605968</td>\n",
       "    </tr>\n",
       "    <tr>\n",
       "      <th>567</th>\n",
       "      <td>1.318527</td>\n",
       "      <td>46</td>\n",
       "      <td>7.902237</td>\n",
       "      <td>66.720139</td>\n",
       "      <td>15.226005</td>\n",
       "      <td>-7.323767</td>\n",
       "    </tr>\n",
       "    <tr>\n",
       "      <th>568</th>\n",
       "      <td>2.832391</td>\n",
       "      <td>161</td>\n",
       "      <td>6.804085</td>\n",
       "      <td>36.618435</td>\n",
       "      <td>8.408515</td>\n",
       "      <td>-1.604430</td>\n",
       "    </tr>\n",
       "  </tbody>\n",
       "</table>\n",
       "<p>569 rows × 6 columns</p>\n",
       "</div>"
      ],
      "text/plain": [
       "       capital  labour     output       wage       pred     resid\n",
       "0     2.606563     184   9.250759  43.080307  12.290708 -3.039949\n",
       "1     1.323237      91   3.664310  27.780016   0.457110  3.207200\n",
       "2    22.093692     426  28.781516  44.467748  32.671414 -3.889897\n",
       "3    10.737851      72   4.124642  39.734710   8.452508 -4.327866\n",
       "4     1.161365      46   2.890150  34.650709   1.150086  1.740063\n",
       "..         ...     ...        ...        ...        ...       ...\n",
       "564   2.625403      20   1.424376  33.477545  -0.081538  1.505914\n",
       "565   1.276386      61   2.109048  26.300732  -1.704793  3.813841\n",
       "566   1.953869     117   6.241870  41.153979   7.847838 -1.605968\n",
       "567   1.318527      46   7.902237  66.720139  15.226005 -7.323767\n",
       "568   2.832391     161   6.804085  36.618435   8.408515 -1.604430\n",
       "\n",
       "[569 rows x 6 columns]"
      ]
     },
     "execution_count": 122,
     "metadata": {},
     "output_type": "execute_result"
    }
   ],
   "source": [
    "df['resid'] = df['output']-df['pred']\n",
    "df"
   ]
  },
  {
   "cell_type": "code",
   "execution_count": 124,
   "id": "0c456db5",
   "metadata": {},
   "outputs": [
    {
     "data": {
      "text/plain": [
       "2235073.2947312016"
      ]
     },
     "execution_count": 124,
     "metadata": {},
     "output_type": "execute_result"
    }
   ],
   "source": [
    "TSS = ((df['output']-np.mean(df['output']))**2).sum()\n",
    "TSS"
   ]
  },
  {
   "cell_type": "code",
   "execution_count": 125,
   "id": "07c86824",
   "metadata": {},
   "outputs": [
    {
     "data": {
      "text/plain": [
       "2190376.717"
      ]
     },
     "execution_count": 125,
     "metadata": {},
     "output_type": "execute_result"
    }
   ],
   "source": [
    "ESS = ((df['pred'] - np.mean(df['output']))**2).sum()\n",
    "ESS.round(3)"
   ]
  },
  {
   "cell_type": "code",
   "execution_count": 126,
   "id": "15c8e31c",
   "metadata": {},
   "outputs": [
    {
     "data": {
      "text/plain": [
       "44697.218"
      ]
     },
     "execution_count": 126,
     "metadata": {},
     "output_type": "execute_result"
    }
   ],
   "source": [
    "RSS = ((df['resid'])**2).sum()\n",
    "RSS.round(3)"
   ]
  },
  {
   "cell_type": "code",
   "execution_count": 130,
   "id": "57025994",
   "metadata": {},
   "outputs": [
    {
     "data": {
      "text/plain": [
       "0.9800021869334945"
      ]
     },
     "execution_count": 130,
     "metadata": {},
     "output_type": "execute_result"
    }
   ],
   "source": [
    "R2 = ESS/TSS\n",
    "R2"
   ]
  },
  {
   "cell_type": "code",
   "execution_count": 135,
   "id": "b63db56b",
   "metadata": {},
   "outputs": [
    {
     "data": {
      "text/plain": [
       "0.9799315232830829"
      ]
     },
     "execution_count": 135,
     "metadata": {},
     "output_type": "execute_result"
    }
   ],
   "source": [
    "R2_adj = 1 - (1-R2)*((569-1)/(569-3))\n",
    "R2_adj"
   ]
  },
  {
   "cell_type": "code",
   "execution_count": 134,
   "id": "79910874",
   "metadata": {},
   "outputs": [
    {
     "data": {
      "text/plain": [
       "8.894387014716255"
      ]
     },
     "execution_count": 134,
     "metadata": {},
     "output_type": "execute_result"
    }
   ],
   "source": [
    "SER = np.sqrt(RSS/(569-3-1))\n",
    "SER"
   ]
  },
  {
   "cell_type": "markdown",
   "id": "6e57fbfb",
   "metadata": {},
   "source": [
    "## Во всех задачах под номером 3 ответы взяты из первоначальной выборки. Поэтому не сходятся ответы"
   ]
  },
  {
   "cell_type": "code",
   "execution_count": null,
   "id": "741b0475",
   "metadata": {},
   "outputs": [],
   "source": []
  }
 ],
 "metadata": {
  "kernelspec": {
   "display_name": "Python 3 (ipykernel)",
   "language": "python",
   "name": "python3"
  },
  "language_info": {
   "codemirror_mode": {
    "name": "ipython",
    "version": 3
   },
   "file_extension": ".py",
   "mimetype": "text/x-python",
   "name": "python",
   "nbconvert_exporter": "python",
   "pygments_lexer": "ipython3",
   "version": "3.9.7"
  }
 },
 "nbformat": 4,
 "nbformat_minor": 5
}
