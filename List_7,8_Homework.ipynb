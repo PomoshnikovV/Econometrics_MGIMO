{
 "cells": [
  {
   "cell_type": "code",
   "execution_count": 61,
   "id": "716d1430",
   "metadata": {},
   "outputs": [],
   "source": [
    "import  scipy.stats  as  stats \n",
    "import  numpy  as  np  #linear algebra \n",
    "import  pandas  as  pd  #data processing, CSV file I/O (e.g. pd.read_csv) \n",
    "import  matplotlib.pyplot  as  plt #интерактивная визуализация \n",
    "import  statsmodels.api  as  sm  # regression fitting via matrices of regression design \n",
    "import  statsmodels.formula.api  as  smf  # data visualization, regression fitting \n",
    "import  io #преобразование строк в данные\n",
    "import  seaborn  as  sns \n",
    "import re #библиотека для работы с регулярными выражениями"
   ]
  },
  {
   "cell_type": "markdown",
   "id": "3831b9e8",
   "metadata": {},
   "source": [
    "# List_7\n",
    "## Задача 1"
   ]
  },
  {
   "cell_type": "code",
   "execution_count": 4,
   "id": "d6998a07",
   "metadata": {},
   "outputs": [],
   "source": [
    "data = '''totwrk                       -0.169***         \n",
    "                              (0.018)          \n",
    "                                               \n",
    "age                           2.689*           \n",
    "                              (1.469)          \n",
    "                                               \n",
    "south                        101.568**         \n",
    "                             (41.837)          \n",
    "                                               \n",
    "male                         87.669**          \n",
    "                             (35.104)          \n",
    "                                               \n",
    "smsa                         -54.748*          \n",
    "                             (33.123)          \n",
    "                                               \n",
    "yngkid                        -13.962          \n",
    "                             (50.341)          \n",
    "                                               \n",
    "marr                          31.211           \n",
    "                             (42.233)          \n",
    "                                               \n",
    "Constant                    3450.913***        \n",
    "                             (80.726)'''"
   ]
  },
  {
   "cell_type": "code",
   "execution_count": 5,
   "id": "b8fa61c5",
   "metadata": {},
   "outputs": [
    {
     "data": {
      "text/plain": [
       "['-0.169',\n",
       " '0.018',\n",
       " '2.689',\n",
       " '1.469',\n",
       " '101.568',\n",
       " '41.837',\n",
       " '87.669',\n",
       " '35.104',\n",
       " '-54.748',\n",
       " '33.123',\n",
       " '-13.962',\n",
       " '50.341',\n",
       " '31.211',\n",
       " '42.233',\n",
       " '3450.913',\n",
       " '80.726']"
      ]
     },
     "execution_count": 5,
     "metadata": {},
     "output_type": "execute_result"
    }
   ],
   "source": [
    "data_num = re.findall(r'([-+]?\\d+.\\d+)',data)\n",
    "data_num"
   ]
  },
  {
   "cell_type": "code",
   "execution_count": 6,
   "id": "cf782dbb",
   "metadata": {},
   "outputs": [
    {
     "data": {
      "text/plain": [
       "array([['-0.169', '0.018'],\n",
       "       ['2.689', '1.469'],\n",
       "       ['101.568', '41.837'],\n",
       "       ['87.669', '35.104'],\n",
       "       ['-54.748', '33.123'],\n",
       "       ['-13.962', '50.341'],\n",
       "       ['31.211', '42.233'],\n",
       "       ['3450.913', '80.726']], dtype='<U8')"
      ]
     },
     "execution_count": 6,
     "metadata": {},
     "output_type": "execute_result"
    }
   ],
   "source": [
    "# Из одномерного списка сделаем двумерный список типа размерности (8,2)\n",
    "# 8 --- количество коэффицентов, включая константу\n",
    "# 2 --- потому что строка содержит оценку коэффицента и его ошибку\n",
    "# так как исходны список содержит оценки коэффицентов и их ошибки\n",
    "beta = np.reshape(data_num,(8,2))\n",
    "beta"
   ]
  },
  {
   "cell_type": "code",
   "execution_count": 7,
   "id": "8b2fe079",
   "metadata": {},
   "outputs": [
    {
     "data": {
      "text/plain": [
       "array([[-1.690000e-01,  1.800000e-02],\n",
       "       [ 2.689000e+00,  1.469000e+00],\n",
       "       [ 1.015680e+02,  4.183700e+01],\n",
       "       [ 8.766900e+01,  3.510400e+01],\n",
       "       [-5.474800e+01,  3.312300e+01],\n",
       "       [-1.396200e+01,  5.034100e+01],\n",
       "       [ 3.121100e+01,  4.223300e+01],\n",
       "       [ 3.450913e+03,  8.072600e+01]])"
      ]
     },
     "execution_count": 7,
     "metadata": {},
     "output_type": "execute_result"
    }
   ],
   "source": [
    "beta = beta.astype(float)\n",
    "beta"
   ]
  },
  {
   "cell_type": "code",
   "execution_count": 8,
   "id": "c8df47cb",
   "metadata": {},
   "outputs": [
    {
     "data": {
      "text/plain": [
       "array([-1.690000e-01,  2.689000e+00,  1.015680e+02,  8.766900e+01,\n",
       "       -5.474800e+01, -1.396200e+01,  3.121100e+01,  3.450913e+03])"
      ]
     },
     "execution_count": 8,
     "metadata": {},
     "output_type": "execute_result"
    }
   ],
   "source": [
    "#срез \":\" - выводим на экран все элементы, которые стоят в нулевом \"0\" столбце\n",
    "# если хотим строку, то [0,:]\n",
    "# первое число - номер строки, второе число - номер стлбца\n",
    "beta[:,0]"
   ]
  },
  {
   "cell_type": "code",
   "execution_count": 9,
   "id": "74caf2e5",
   "metadata": {},
   "outputs": [],
   "source": [
    "ppl_string = '''totwrk age south male smsa yngkid marr\n",
    "1  2150  37    0    1    1     0     1  \n",
    "2  1950  28    1    1    0     1     0  \n",
    "3  2240  26    0    0    1     0     0'''"
   ]
  },
  {
   "cell_type": "code",
   "execution_count": 10,
   "id": "a9131cbc",
   "metadata": {},
   "outputs": [
    {
     "data": {
      "text/plain": [
       "['1',\n",
       " '2150',\n",
       " '37',\n",
       " '0',\n",
       " '1',\n",
       " '1',\n",
       " '0',\n",
       " '1',\n",
       " '2',\n",
       " '1950',\n",
       " '28',\n",
       " '1',\n",
       " '1',\n",
       " '0',\n",
       " '1',\n",
       " '0',\n",
       " '3',\n",
       " '2240',\n",
       " '26',\n",
       " '0',\n",
       " '0',\n",
       " '1',\n",
       " '0',\n",
       " '0']"
      ]
     },
     "execution_count": 10,
     "metadata": {},
     "output_type": "execute_result"
    }
   ],
   "source": [
    "ppl_string = re.findall(r'([-+]?\\d+)',ppl_string)\n",
    "ppl_string"
   ]
  },
  {
   "cell_type": "code",
   "execution_count": 13,
   "id": "6668e3b9",
   "metadata": {},
   "outputs": [
    {
     "data": {
      "text/plain": [
       "array([['1', '2150', '37', '0', '1', '1', '0', '1'],\n",
       "       ['2', '1950', '28', '1', '1', '0', '1', '0'],\n",
       "       ['3', '2240', '26', '0', '0', '1', '0', '0']], dtype='<U4')"
      ]
     },
     "execution_count": 13,
     "metadata": {},
     "output_type": "execute_result"
    }
   ],
   "source": [
    "ppl_matrix = np.reshape(ppl_string,(3,8))\n",
    "\n",
    "ppl_matrix"
   ]
  },
  {
   "cell_type": "code",
   "execution_count": 14,
   "id": "7106f576",
   "metadata": {},
   "outputs": [
    {
     "data": {
      "text/plain": [
       "array([['2150', '37', '0', '1', '1', '0', '1'],\n",
       "       ['1950', '28', '1', '1', '0', '1', '0'],\n",
       "       ['2240', '26', '0', '0', '1', '0', '0']], dtype='<U4')"
      ]
     },
     "execution_count": 14,
     "metadata": {},
     "output_type": "execute_result"
    }
   ],
   "source": [
    "# 1 - работаем в столбце, 0 - номер строки/столбца\n",
    "ppl_matrix = np.delete(ppl_matrix,0,1)\n",
    "ppl_matrix"
   ]
  },
  {
   "cell_type": "code",
   "execution_count": 15,
   "id": "f5c64d78",
   "metadata": {},
   "outputs": [
    {
     "data": {
      "text/plain": [
       "array([['2150', '37', '0', '1', '1', '0', '1', '1.0'],\n",
       "       ['1950', '28', '1', '1', '0', '1', '0', '1.0'],\n",
       "       ['2240', '26', '0', '0', '1', '0', '0', '1.0']], dtype='<U32')"
      ]
     },
     "execution_count": 15,
     "metadata": {},
     "output_type": "execute_result"
    }
   ],
   "source": [
    "# Теперь необходимо добавить столбец из единиц для того,\n",
    "#  чтобы совпадало количество столбцов в матрице с количестом элементов \n",
    "ppl_matrix = np.c_[ppl_matrix,np.ones(3)]\n",
    "ppl_matrix"
   ]
  },
  {
   "cell_type": "code",
   "execution_count": 16,
   "id": "93d8b999",
   "metadata": {},
   "outputs": [],
   "source": [
    "ppl_matrix = ppl_matrix.astype(float)\n",
    "beta = beta.astype(float)"
   ]
  },
  {
   "cell_type": "code",
   "execution_count": 17,
   "id": "e6f35c1f",
   "metadata": {
    "scrolled": true
   },
   "outputs": [
    {
     "data": {
      "text/plain": [
       "array([[-1.690000e-01,  1.800000e-02],\n",
       "       [ 2.689000e+00,  1.469000e+00],\n",
       "       [ 1.015680e+02,  4.183700e+01],\n",
       "       [ 8.766900e+01,  3.510400e+01],\n",
       "       [-5.474800e+01,  3.312300e+01],\n",
       "       [-1.396200e+01,  5.034100e+01],\n",
       "       [ 3.121100e+01,  4.223300e+01],\n",
       "       [ 3.450913e+03,  8.072600e+01]])"
      ]
     },
     "execution_count": 17,
     "metadata": {},
     "output_type": "execute_result"
    }
   ],
   "source": [
    "beta"
   ]
  },
  {
   "cell_type": "code",
   "execution_count": 18,
   "id": "b72df05d",
   "metadata": {},
   "outputs": [
    {
     "data": {
      "text/plain": [
       "array([-1.690000e-01,  2.689000e+00,  1.015680e+02,  8.766900e+01,\n",
       "       -5.474800e+01, -1.396200e+01,  3.121100e+01,  3.450913e+03])"
      ]
     },
     "execution_count": 18,
     "metadata": {},
     "output_type": "execute_result"
    }
   ],
   "source": [
    "beta[:,0]"
   ]
  },
  {
   "cell_type": "code",
   "execution_count": 20,
   "id": "fc0c1c41",
   "metadata": {},
   "outputs": [
    {
     "data": {
      "text/plain": [
       "array([3251.188, 3371.93 , 3087.519])"
      ]
     },
     "execution_count": 20,
     "metadata": {},
     "output_type": "execute_result"
    }
   ],
   "source": [
    "ppl_matrix@beta[:,0]"
   ]
  },
  {
   "cell_type": "markdown",
   "id": "b92e7a54",
   "metadata": {},
   "source": [
    "## Задача 2"
   ]
  },
  {
   "cell_type": "code",
   "execution_count": 24,
   "id": "765a29fc",
   "metadata": {},
   "outputs": [],
   "source": [
    "data = '''totwrk                       -0.167***         \n",
    "                              (0.018)          \n",
    "                                               \n",
    "age                           -6.255           \n",
    "                             (11.191)          \n",
    "                                               \n",
    "I(age2)                        0.109           \n",
    "                              (0.134)          \n",
    "                                               \n",
    "south                       114.547***         \n",
    "                             (40.637)          \n",
    "                                               \n",
    "male                         90.457***         \n",
    "                             (34.257)          \n",
    "                                               \n",
    "Constant                    3613.995***        \n",
    "                             (218.433)'''"
   ]
  },
  {
   "cell_type": "code",
   "execution_count": 25,
   "id": "eb453d46",
   "metadata": {},
   "outputs": [
    {
     "data": {
      "text/plain": [
       "['-0.167',\n",
       " '0.018',\n",
       " '-6.255',\n",
       " '11.191',\n",
       " '0.109',\n",
       " '0.134',\n",
       " '114.547',\n",
       " '40.637',\n",
       " '90.457',\n",
       " '34.257',\n",
       " '3613.995',\n",
       " '218.433']"
      ]
     },
     "execution_count": 25,
     "metadata": {},
     "output_type": "execute_result"
    }
   ],
   "source": [
    "data_num = re.findall(r'([-+]?\\d+.\\d+)',data)\n",
    "data_num"
   ]
  },
  {
   "cell_type": "code",
   "execution_count": 27,
   "id": "45eb015c",
   "metadata": {
    "scrolled": true
   },
   "outputs": [
    {
     "data": {
      "text/plain": [
       "array([['-0.167', '0.018'],\n",
       "       ['-6.255', '11.191'],\n",
       "       ['0.109', '0.134'],\n",
       "       ['114.547', '40.637'],\n",
       "       ['90.457', '34.257'],\n",
       "       ['3613.995', '218.433']], dtype='<U8')"
      ]
     },
     "execution_count": 27,
     "metadata": {},
     "output_type": "execute_result"
    }
   ],
   "source": [
    "beta = np.reshape(data_num, (6,2))\n",
    "beta"
   ]
  },
  {
   "cell_type": "code",
   "execution_count": 33,
   "id": "19de5a84",
   "metadata": {},
   "outputs": [
    {
     "data": {
      "text/plain": [
       "array([[-1.670000e-01,  1.800000e-02],\n",
       "       [-6.255000e+00,  1.119100e+01],\n",
       "       [ 1.090000e-01,  1.340000e-01],\n",
       "       [ 1.145470e+02,  4.063700e+01],\n",
       "       [ 9.045700e+01,  3.425700e+01],\n",
       "       [ 3.613995e+03,  2.184330e+02]])"
      ]
     },
     "execution_count": 33,
     "metadata": {},
     "output_type": "execute_result"
    }
   ],
   "source": [
    "beta = beta.astype(float)\n",
    "beta"
   ]
  },
  {
   "cell_type": "code",
   "execution_count": 53,
   "id": "5284af25",
   "metadata": {},
   "outputs": [],
   "source": [
    "pred = '''1  2160  32    1    0  \n",
    "2  1720  24    0    1  \n",
    "3  2390  44    0    1 '''"
   ]
  },
  {
   "cell_type": "code",
   "execution_count": 54,
   "id": "80c6c025",
   "metadata": {},
   "outputs": [
    {
     "data": {
      "text/plain": [
       "['1',\n",
       " '2160',\n",
       " '32',\n",
       " '1',\n",
       " '0',\n",
       " '2',\n",
       " '1720',\n",
       " '24',\n",
       " '0',\n",
       " '1',\n",
       " '3',\n",
       " '2390',\n",
       " '44',\n",
       " '0',\n",
       " '1']"
      ]
     },
     "execution_count": 54,
     "metadata": {},
     "output_type": "execute_result"
    }
   ],
   "source": [
    "matrix = re.findall(r'([-+]?\\d+)',pred)\n",
    "matrix"
   ]
  },
  {
   "cell_type": "code",
   "execution_count": 55,
   "id": "70b8596d",
   "metadata": {},
   "outputs": [
    {
     "data": {
      "text/plain": [
       "array([['1', '2160', '32', '1', '0'],\n",
       "       ['2', '1720', '24', '0', '1'],\n",
       "       ['3', '2390', '44', '0', '1']], dtype='<U4')"
      ]
     },
     "execution_count": 55,
     "metadata": {},
     "output_type": "execute_result"
    }
   ],
   "source": [
    "matrix = np.reshape(matrix,(3,5))\n",
    "matrix"
   ]
  },
  {
   "cell_type": "code",
   "execution_count": 56,
   "id": "684526fb",
   "metadata": {
    "scrolled": true
   },
   "outputs": [
    {
     "data": {
      "text/plain": [
       "array([['2160', '32', '1', '0'],\n",
       "       ['1720', '24', '0', '1'],\n",
       "       ['2390', '44', '0', '1']], dtype='<U4')"
      ]
     },
     "execution_count": 56,
     "metadata": {},
     "output_type": "execute_result"
    }
   ],
   "source": [
    "# удаляем некоторые данные из таблицы\n",
    "# 1 - работаем в столбце, 0 - номер строки/столбца\n",
    "matrix = np.delete(matrix, 0,1)\n",
    "matrix"
   ]
  },
  {
   "cell_type": "code",
   "execution_count": 57,
   "id": "f3521824",
   "metadata": {
    "scrolled": false
   },
   "outputs": [
    {
     "data": {
      "text/plain": [
       "array([[2.16e+03, 3.20e+01, 1.00e+00, 0.00e+00],\n",
       "       [1.72e+03, 2.40e+01, 0.00e+00, 1.00e+00],\n",
       "       [2.39e+03, 4.40e+01, 0.00e+00, 1.00e+00]])"
      ]
     },
     "execution_count": 57,
     "metadata": {},
     "output_type": "execute_result"
    }
   ],
   "source": [
    "# задаем другой формат числам\n",
    "matrix = matrix.astype(float)\n",
    "matrix"
   ]
  },
  {
   "cell_type": "code",
   "execution_count": 58,
   "id": "985ac339",
   "metadata": {},
   "outputs": [
    {
     "data": {
      "text/plain": [
       "array([[2.16e+03, 3.20e+01, 1.00e+00, 0.00e+00, 1.00e+00],\n",
       "       [1.72e+03, 2.40e+01, 0.00e+00, 1.00e+00, 1.00e+00],\n",
       "       [2.39e+03, 4.40e+01, 0.00e+00, 1.00e+00, 1.00e+00]])"
      ]
     },
     "execution_count": 58,
     "metadata": {},
     "output_type": "execute_result"
    }
   ],
   "source": [
    "# теперь необходимо добавить столбец из единиц для того, чтобы учеть константу\n",
    "matrix = np.c_[matrix,np.ones(3)]\n",
    "matrix"
   ]
  },
  {
   "cell_type": "code",
   "execution_count": 59,
   "id": "ff953222",
   "metadata": {},
   "outputs": [
    {
     "data": {
      "text/plain": [
       "array([-1.670000e-01, -6.255000e+00,  1.090000e-01,  1.145470e+02,\n",
       "        9.045700e+01,  3.613995e+03])"
      ]
     },
     "execution_count": 59,
     "metadata": {},
     "output_type": "execute_result"
    }
   ],
   "source": [
    "#срез \":\" - выводим на экран все элементы, которые стоят в нулевом \"0\" столбце\n",
    "# если хотим строку, то [0,:]\n",
    "# первое число - номер строки, второе число - номер стлбца\n",
    "beta[:,0]"
   ]
  },
  {
   "cell_type": "code",
   "execution_count": 60,
   "id": "2e1335d0",
   "metadata": {},
   "outputs": [
    {
     "ename": "ValueError",
     "evalue": "matmul: Input operand 1 has a mismatch in its core dimension 0, with gufunc signature (n?,k),(k,m?)->(n?,m?) (size 6 is different from 5)",
     "output_type": "error",
     "traceback": [
      "\u001b[1;31m---------------------------------------------------------------------------\u001b[0m",
      "\u001b[1;31mValueError\u001b[0m                                Traceback (most recent call last)",
      "\u001b[1;32m~\\AppData\\Local\\Temp/ipykernel_19308/223008713.py\u001b[0m in \u001b[0;36m<module>\u001b[1;34m\u001b[0m\n\u001b[0;32m      1\u001b[0m \u001b[1;31m# умножаем матрицы\u001b[0m\u001b[1;33m\u001b[0m\u001b[1;33m\u001b[0m\u001b[0m\n\u001b[1;32m----> 2\u001b[1;33m \u001b[0mmatrix\u001b[0m\u001b[1;33m@\u001b[0m\u001b[0mbeta\u001b[0m\u001b[1;33m[\u001b[0m\u001b[1;33m:\u001b[0m\u001b[1;33m,\u001b[0m\u001b[1;36m0\u001b[0m\u001b[1;33m]\u001b[0m\u001b[1;33m\u001b[0m\u001b[1;33m\u001b[0m\u001b[0m\n\u001b[0m",
      "\u001b[1;31mValueError\u001b[0m: matmul: Input operand 1 has a mismatch in its core dimension 0, with gufunc signature (n?,k),(k,m?)->(n?,m?) (size 6 is different from 5)"
     ]
    }
   ],
   "source": [
    "# умножаем матрицы\n",
    "matrix@beta[:,0]"
   ]
  },
  {
   "cell_type": "markdown",
   "id": "519c81ba",
   "metadata": {},
   "source": [
    "## Руслан Юрьевич, как добавить в таблицу \"matrix\" еще один столбец со значениями age^2?"
   ]
  },
  {
   "cell_type": "code",
   "execution_count": 79,
   "id": "3490d3bc",
   "metadata": {},
   "outputs": [
    {
     "data": {
      "text/plain": [
       "Intercept      3613.994663\n",
       "totwrk           -0.167320\n",
       "age              -6.254665\n",
       "south           114.547494\n",
       "male             90.456708\n",
       "I(age ** 2)       0.108862\n",
       "dtype: float64"
      ]
     },
     "execution_count": 79,
     "metadata": {},
     "output_type": "execute_result"
    }
   ],
   "source": [
    "df  =  pd.read_csv('https://raw.githubusercontent.com/artamonoff/Econometrica/master/python-notebooks/data-csv/sleep75.csv') \n",
    "fitted_line = smf.ols( formula = 'sleep~totwrk+age+south+male+I(age**2)',  data = df).fit() \n",
    "fitted_line.params"
   ]
  },
  {
   "cell_type": "code",
   "execution_count": 75,
   "id": "8ddc0af5",
   "metadata": {},
   "outputs": [],
   "source": [
    "data = '''  totwrk age south male\n",
    "1  2160  32    1    0  \n",
    "2  1720  24    0    1  \n",
    "3  2390  44    0    1 '''"
   ]
  },
  {
   "cell_type": "code",
   "execution_count": 76,
   "id": "46295c2b",
   "metadata": {},
   "outputs": [
    {
     "data": {
      "text/html": [
       "<div>\n",
       "<style scoped>\n",
       "    .dataframe tbody tr th:only-of-type {\n",
       "        vertical-align: middle;\n",
       "    }\n",
       "\n",
       "    .dataframe tbody tr th {\n",
       "        vertical-align: top;\n",
       "    }\n",
       "\n",
       "    .dataframe thead th {\n",
       "        text-align: right;\n",
       "    }\n",
       "</style>\n",
       "<table border=\"1\" class=\"dataframe\">\n",
       "  <thead>\n",
       "    <tr style=\"text-align: right;\">\n",
       "      <th></th>\n",
       "      <th>totwrk</th>\n",
       "      <th>age</th>\n",
       "      <th>south</th>\n",
       "      <th>male</th>\n",
       "    </tr>\n",
       "  </thead>\n",
       "  <tbody>\n",
       "    <tr>\n",
       "      <th>1</th>\n",
       "      <td>2160</td>\n",
       "      <td>32</td>\n",
       "      <td>1</td>\n",
       "      <td>0</td>\n",
       "    </tr>\n",
       "    <tr>\n",
       "      <th>2</th>\n",
       "      <td>1720</td>\n",
       "      <td>24</td>\n",
       "      <td>0</td>\n",
       "      <td>1</td>\n",
       "    </tr>\n",
       "    <tr>\n",
       "      <th>3</th>\n",
       "      <td>2390</td>\n",
       "      <td>44</td>\n",
       "      <td>0</td>\n",
       "      <td>1</td>\n",
       "    </tr>\n",
       "  </tbody>\n",
       "</table>\n",
       "</div>"
      ],
      "text/plain": [
       "   totwrk  age  south  male\n",
       "1    2160   32      1     0\n",
       "2    1720   24      0     1\n",
       "3    2390   44      0     1"
      ]
     },
     "execution_count": 76,
     "metadata": {},
     "output_type": "execute_result"
    }
   ],
   "source": [
    "df_data = pd.read_csv(io.StringIO(data), sep='\\s+')\n",
    "df_data"
   ]
  },
  {
   "cell_type": "code",
   "execution_count": 77,
   "id": "9569695f",
   "metadata": {},
   "outputs": [
    {
     "data": {
      "text/html": [
       "<div>\n",
       "<style scoped>\n",
       "    .dataframe tbody tr th:only-of-type {\n",
       "        vertical-align: middle;\n",
       "    }\n",
       "\n",
       "    .dataframe tbody tr th {\n",
       "        vertical-align: top;\n",
       "    }\n",
       "\n",
       "    .dataframe thead th {\n",
       "        text-align: right;\n",
       "    }\n",
       "</style>\n",
       "<table border=\"1\" class=\"dataframe\">\n",
       "  <thead>\n",
       "    <tr style=\"text-align: right;\">\n",
       "      <th></th>\n",
       "      <th>totwrk</th>\n",
       "      <th>age</th>\n",
       "      <th>south</th>\n",
       "      <th>male</th>\n",
       "      <th>age^2</th>\n",
       "    </tr>\n",
       "  </thead>\n",
       "  <tbody>\n",
       "    <tr>\n",
       "      <th>1</th>\n",
       "      <td>2160</td>\n",
       "      <td>32</td>\n",
       "      <td>1</td>\n",
       "      <td>0</td>\n",
       "      <td>1024</td>\n",
       "    </tr>\n",
       "    <tr>\n",
       "      <th>2</th>\n",
       "      <td>1720</td>\n",
       "      <td>24</td>\n",
       "      <td>0</td>\n",
       "      <td>1</td>\n",
       "      <td>576</td>\n",
       "    </tr>\n",
       "    <tr>\n",
       "      <th>3</th>\n",
       "      <td>2390</td>\n",
       "      <td>44</td>\n",
       "      <td>0</td>\n",
       "      <td>1</td>\n",
       "      <td>1936</td>\n",
       "    </tr>\n",
       "  </tbody>\n",
       "</table>\n",
       "</div>"
      ],
      "text/plain": [
       "   totwrk  age  south  male  age^2\n",
       "1    2160   32      1     0   1024\n",
       "2    1720   24      0     1    576\n",
       "3    2390   44      0     1   1936"
      ]
     },
     "execution_count": 77,
     "metadata": {},
     "output_type": "execute_result"
    }
   ],
   "source": [
    "df_data['age^2'] = df_data['age']**2\n",
    "df_data"
   ]
  },
  {
   "cell_type": "code",
   "execution_count": 78,
   "id": "9eaed1ee",
   "metadata": {},
   "outputs": [
    {
     "data": {
      "text/plain": [
       "1    3278.456735\n",
       "2    3329.253764\n",
       "3    3240.108731\n",
       "dtype: float64"
      ]
     },
     "execution_count": 78,
     "metadata": {},
     "output_type": "execute_result"
    }
   ],
   "source": [
    "# Построение прогноза при помощи .predict()\n",
    "fitted_line.predict(exog = df_data, transform = True) "
   ]
  },
  {
   "cell_type": "markdown",
   "id": "22e5925e",
   "metadata": {},
   "source": [
    "## Ответы немного отличаются. Это из-за того, что решение, которое на гитхабе с округленными значениями?"
   ]
  },
  {
   "cell_type": "markdown",
   "id": "b55289ec",
   "metadata": {},
   "source": [
    "## Задача 5"
   ]
  },
  {
   "cell_type": "code",
   "execution_count": 89,
   "id": "6c316ae7",
   "metadata": {
    "scrolled": true
   },
   "outputs": [
    {
     "data": {
      "text/plain": [
       "Intercept         -1.711459\n",
       "np.log(capital)    0.207570\n",
       "np.log(labour)     0.714847\n",
       "dtype: float64"
      ]
     },
     "execution_count": 89,
     "metadata": {},
     "output_type": "execute_result"
    }
   ],
   "source": [
    "df  =  pd.read_csv('https://raw.githubusercontent.com/artamonoff/Econometrica/master/python-notebooks/data-csv/Labour.csv') \n",
    "fitted_line = smf.ols( formula = 'np.log(output)~np.log(capital)+np.log(labour)',  data = df).fit() \n",
    "fitted_line.params"
   ]
  },
  {
   "cell_type": "code",
   "execution_count": 119,
   "id": "eabc5da2",
   "metadata": {
    "scrolled": true
   },
   "outputs": [
    {
     "data": {
      "text/html": [
       "<table class=\"simpletable\">\n",
       "<tr>\n",
       "         <td></td>            <th>coef</th>     <th>std err</th>      <th>t</th>      <th>P>|t|</th>  <th>[0.025</th>    <th>0.975]</th>  \n",
       "</tr>\n",
       "<tr>\n",
       "  <th>Intercept</th>       <td>   -1.7115</td> <td>    0.097</td> <td>  -17.697</td> <td> 0.000</td> <td>   -1.901</td> <td>   -1.522</td>\n",
       "</tr>\n",
       "<tr>\n",
       "  <th>np.log(capital)</th> <td>    0.2076</td> <td>    0.017</td> <td>   12.077</td> <td> 0.000</td> <td>    0.174</td> <td>    0.241</td>\n",
       "</tr>\n",
       "<tr>\n",
       "  <th>np.log(labour)</th>  <td>    0.7148</td> <td>    0.023</td> <td>   30.890</td> <td> 0.000</td> <td>    0.669</td> <td>    0.760</td>\n",
       "</tr>\n",
       "</table>"
      ],
      "text/plain": [
       "<class 'statsmodels.iolib.table.SimpleTable'>"
      ]
     },
     "execution_count": 119,
     "metadata": {},
     "output_type": "execute_result"
    }
   ],
   "source": [
    "fitted_line.summary().tables[1]"
   ]
  },
  {
   "cell_type": "code",
   "execution_count": 111,
   "id": "711d6ec9",
   "metadata": {},
   "outputs": [],
   "source": [
    "data = '''capital labour\n",
    "  2.970    85  \n",
    " 10.450    60  \n",
    "  3.850   105'''"
   ]
  },
  {
   "cell_type": "code",
   "execution_count": 121,
   "id": "b1852f34",
   "metadata": {},
   "outputs": [
    {
     "data": {
      "text/html": [
       "<div>\n",
       "<style scoped>\n",
       "    .dataframe tbody tr th:only-of-type {\n",
       "        vertical-align: middle;\n",
       "    }\n",
       "\n",
       "    .dataframe tbody tr th {\n",
       "        vertical-align: top;\n",
       "    }\n",
       "\n",
       "    .dataframe thead th {\n",
       "        text-align: right;\n",
       "    }\n",
       "</style>\n",
       "<table border=\"1\" class=\"dataframe\">\n",
       "  <thead>\n",
       "    <tr style=\"text-align: right;\">\n",
       "      <th></th>\n",
       "      <th>capital</th>\n",
       "      <th>labour</th>\n",
       "    </tr>\n",
       "  </thead>\n",
       "  <tbody>\n",
       "    <tr>\n",
       "      <th>0</th>\n",
       "      <td>2.97</td>\n",
       "      <td>85</td>\n",
       "    </tr>\n",
       "    <tr>\n",
       "      <th>1</th>\n",
       "      <td>10.45</td>\n",
       "      <td>60</td>\n",
       "    </tr>\n",
       "    <tr>\n",
       "      <th>2</th>\n",
       "      <td>3.85</td>\n",
       "      <td>105</td>\n",
       "    </tr>\n",
       "  </tbody>\n",
       "</table>\n",
       "</div>"
      ],
      "text/plain": [
       "   capital  labour\n",
       "0     2.97      85\n",
       "1    10.45      60\n",
       "2     3.85     105"
      ]
     },
     "execution_count": 121,
     "metadata": {},
     "output_type": "execute_result"
    }
   ],
   "source": [
    "df_data = pd.read_csv(io.StringIO(data), sep='\\s+')\n",
    "df_data"
   ]
  },
  {
   "cell_type": "code",
   "execution_count": 124,
   "id": "1a49ecd6",
   "metadata": {
    "scrolled": true
   },
   "outputs": [
    {
     "data": {
      "text/plain": [
       "0    1.690309\n",
       "1    1.702455\n",
       "2    1.895229\n",
       "dtype: float64"
      ]
     },
     "execution_count": 124,
     "metadata": {},
     "output_type": "execute_result"
    }
   ],
   "source": [
    "# Построение прогноза при помощи .predict()\n",
    "log_output = fitted_line.predict(exog = df_data)\n",
    "log_output"
   ]
  },
  {
   "cell_type": "code",
   "execution_count": 130,
   "id": "8a11b5d2",
   "metadata": {},
   "outputs": [
    {
     "data": {
      "text/plain": [
       "0    5.42\n",
       "1    5.49\n",
       "2    6.65\n",
       "dtype: float64"
      ]
     },
     "execution_count": 130,
     "metadata": {},
     "output_type": "execute_result"
    }
   ],
   "source": [
    "# predict wage\n",
    "np.exp(log_output).round(2)"
   ]
  },
  {
   "cell_type": "code",
   "execution_count": 127,
   "id": "bc9a9507",
   "metadata": {},
   "outputs": [
    {
     "data": {
      "text/html": [
       "<div>\n",
       "<style scoped>\n",
       "    .dataframe tbody tr th:only-of-type {\n",
       "        vertical-align: middle;\n",
       "    }\n",
       "\n",
       "    .dataframe tbody tr th {\n",
       "        vertical-align: top;\n",
       "    }\n",
       "\n",
       "    .dataframe thead th {\n",
       "        text-align: right;\n",
       "    }\n",
       "</style>\n",
       "<table border=\"1\" class=\"dataframe\">\n",
       "  <thead>\n",
       "    <tr style=\"text-align: right;\">\n",
       "      <th></th>\n",
       "      <th>np.log(output)</th>\n",
       "    </tr>\n",
       "  </thead>\n",
       "  <tbody>\n",
       "    <tr>\n",
       "      <th>0</th>\n",
       "      <td>1.690309</td>\n",
       "    </tr>\n",
       "    <tr>\n",
       "      <th>1</th>\n",
       "      <td>1.702455</td>\n",
       "    </tr>\n",
       "    <tr>\n",
       "      <th>2</th>\n",
       "      <td>1.895229</td>\n",
       "    </tr>\n",
       "  </tbody>\n",
       "</table>\n",
       "</div>"
      ],
      "text/plain": [
       "   np.log(output)\n",
       "0        1.690309\n",
       "1        1.702455\n",
       "2        1.895229"
      ]
     },
     "execution_count": 127,
     "metadata": {},
     "output_type": "execute_result"
    }
   ],
   "source": [
    "#Convert pandas Series to DataFrame\n",
    "# через конструктор\n",
    "df_output = pd.DataFrame({'np.log(output)': log_output.values})\n",
    "df_output"
   ]
  },
  {
   "cell_type": "code",
   "execution_count": 129,
   "id": "7eec07a5",
   "metadata": {},
   "outputs": [
    {
     "data": {
      "text/html": [
       "<div>\n",
       "<style scoped>\n",
       "    .dataframe tbody tr th:only-of-type {\n",
       "        vertical-align: middle;\n",
       "    }\n",
       "\n",
       "    .dataframe tbody tr th {\n",
       "        vertical-align: top;\n",
       "    }\n",
       "\n",
       "    .dataframe thead th {\n",
       "        text-align: right;\n",
       "    }\n",
       "</style>\n",
       "<table border=\"1\" class=\"dataframe\">\n",
       "  <thead>\n",
       "    <tr style=\"text-align: right;\">\n",
       "      <th></th>\n",
       "      <th>np.log(output)</th>\n",
       "      <th>output_pred</th>\n",
       "    </tr>\n",
       "  </thead>\n",
       "  <tbody>\n",
       "    <tr>\n",
       "      <th>0</th>\n",
       "      <td>1.690309</td>\n",
       "      <td>5.421154</td>\n",
       "    </tr>\n",
       "    <tr>\n",
       "      <th>1</th>\n",
       "      <td>1.702455</td>\n",
       "      <td>5.487400</td>\n",
       "    </tr>\n",
       "    <tr>\n",
       "      <th>2</th>\n",
       "      <td>1.895229</td>\n",
       "      <td>6.654073</td>\n",
       "    </tr>\n",
       "  </tbody>\n",
       "</table>\n",
       "</div>"
      ],
      "text/plain": [
       "   np.log(output)  output_pred\n",
       "0        1.690309     5.421154\n",
       "1        1.702455     5.487400\n",
       "2        1.895229     6.654073"
      ]
     },
     "execution_count": 129,
     "metadata": {},
     "output_type": "execute_result"
    }
   ],
   "source": [
    "df_output['output_pred'] = np.exp(df_output['np.log(output)'])\n",
    "df_output"
   ]
  },
  {
   "cell_type": "markdown",
   "id": "1e7b209c",
   "metadata": {},
   "source": [
    "# List_8 Мультиколлинеарность"
   ]
  },
  {
   "cell_type": "markdown",
   "id": "dcac0226",
   "metadata": {},
   "source": [
    "## Задача 1.1"
   ]
  },
  {
   "cell_type": "code",
   "execution_count": 131,
   "id": "f0970d09",
   "metadata": {},
   "outputs": [],
   "source": [
    "import numpy as np\n",
    "import pandas as pd\n",
    "import matplotlib.pyplot as plt\n",
    "import statsmodels.formula.api as smf"
   ]
  },
  {
   "cell_type": "code",
   "execution_count": 132,
   "id": "633cfad6",
   "metadata": {},
   "outputs": [],
   "source": [
    "df = pd.read_csv('https://raw.githubusercontent.com/ryupepa/Econometrica/master/python-notebooks/data-csv/sleep75.csv')\n",
    "df['totwrk2_10000'] = df['totwrk']**2/10000"
   ]
  },
  {
   "cell_type": "code",
   "execution_count": 133,
   "id": "05440410",
   "metadata": {},
   "outputs": [
    {
     "data": {
      "text/plain": [
       "Intercept        9.003\n",
       "totwrk2_10000    0.021\n",
       "age             -0.008\n",
       "smsa             0.357\n",
       "male             1.071\n",
       "south            0.989\n",
       "dtype: float64"
      ]
     },
     "execution_count": 133,
     "metadata": {},
     "output_type": "execute_result"
    }
   ],
   "source": [
    "#model_1,_2,_3 - рассматриваем зависимость уже зависимых переменных друг от друга\n",
    "model = smf.ols(data = df , formula = 'sleep~I(totwrk/100)+totwrk2_10000 +  age + smsa + male + south').fit()\n",
    "model_1 = smf.ols(data = df , formula = 'I(totwrk/100)~totwrk2_10000 +  age + smsa + male + south').fit()\n",
    "model_2 = smf.ols(data = df , formula = 'totwrk2_10000~ I(totwrk/100)+  age + smsa + male + south').fit()\n",
    "model_3 = smf.ols(data = df , formula = 'male~I(totwrk/100)+ totwrk2_10000+  age + smsa  + south').fit()\n",
    "model_1.params.round(3)"
   ]
  },
  {
   "cell_type": "code",
   "execution_count": 134,
   "id": "5fdcc64a",
   "metadata": {},
   "outputs": [
    {
     "data": {
      "text/plain": [
       "8.48"
      ]
     },
     "execution_count": 134,
     "metadata": {},
     "output_type": "execute_result"
    }
   ],
   "source": [
    "VIF_totwrk100= 1/((1-model_1.rsquared))\n",
    "VIF_totwrk100.round(2)"
   ]
  },
  {
   "cell_type": "markdown",
   "id": "b2875383",
   "metadata": {},
   "source": [
    "## Задача 1.2"
   ]
  },
  {
   "cell_type": "code",
   "execution_count": 79,
   "id": "3db1e2c0",
   "metadata": {},
   "outputs": [],
   "source": [
    "import pandas as pd\n",
    "import numpy as np\n",
    "import statsmodels.api as sm \n",
    "import statsmodels.formula.api as smf\n",
    "from statsmodels.iolib.summary2 import summary_params # вывод результатов тестирования\n",
    "from statsmodels.iolib.summary2 import summary_col # вывод результатов тестирования\n",
    "from statsmodels.stats.outliers_influence import variance_inflation_factor # VIF\n",
    "import scipy\n",
    "import matplotlib.pyplot as plt\n",
    "import seaborn as sns"
   ]
  },
  {
   "cell_type": "code",
   "execution_count": 84,
   "id": "67b8d6ec",
   "metadata": {},
   "outputs": [
    {
     "name": "stdout",
     "output_type": "stream",
     "text": [
      "\n",
      "==================================\n",
      "                          sleep   \n",
      "----------------------------------\n",
      "Intercept              3428.805***\n",
      "                       (76.655)   \n",
      "I(totwrk / 100)        -8.195*    \n",
      "                       (4.789)    \n",
      "I(totwrk ** 2 / 10000) -0.214*    \n",
      "                       (0.111)    \n",
      "age                    2.817**    \n",
      "                       (1.387)    \n",
      "smsa                   -78.049**  \n",
      "                       (32.072)   \n",
      "male                   86.639**   \n",
      "                       (34.200)   \n",
      "R-squared              0.128      \n",
      "R-squared Adj.         0.122      \n",
      "No. Observations       706        \n",
      "Residual Std. Error    416.457    \n",
      "F-statistic            20.566     \n",
      "Prob (F-statistic)     0.000      \n",
      "==================================\n",
      "Standard errors in parentheses.\n",
      "* p<.1, ** p<.05, ***p<.01\n"
     ]
    }
   ],
   "source": [
    "# Модель sleep на totwrk/100, totwrk^2/10000, age, smsa, male\n",
    "info_dict = {'No. Observations': lambda x: '{0:d}'.format(int(x.nobs)), \n",
    "             'Residual Std. Error': lambda x: \"%#8.3f\" % x.mse_resid**0.5,\n",
    "             'F-statistic': lambda x: '{:.3f}'.format(x.fvalue), \n",
    "             'Prob (F-statistic)': lambda x: '{:.3f}'.format(x.f_pvalue)\n",
    "             }\n",
    "leep_eq12 = smf.ols(formula = 'sleep~I(totwrk/100)+I(totwrk**2/10000)+age+smsa+male', data = df).fit()\n",
    "print(summary_col(Sleep_eq12, float_format='%.3f', stars=True, info_dict = info_dict))"
   ]
  },
  {
   "cell_type": "code",
   "execution_count": 89,
   "id": "5f6c197d",
   "metadata": {},
   "outputs": [
    {
     "data": {
      "text/html": [
       "<div>\n",
       "<style scoped>\n",
       "    .dataframe tbody tr th:only-of-type {\n",
       "        vertical-align: middle;\n",
       "    }\n",
       "\n",
       "    .dataframe tbody tr th {\n",
       "        vertical-align: top;\n",
       "    }\n",
       "\n",
       "    .dataframe thead th {\n",
       "        text-align: right;\n",
       "    }\n",
       "</style>\n",
       "<table border=\"1\" class=\"dataframe\">\n",
       "  <thead>\n",
       "    <tr style=\"text-align: right;\">\n",
       "      <th></th>\n",
       "      <th>male</th>\n",
       "      <th>age</th>\n",
       "      <th>smsa</th>\n",
       "    </tr>\n",
       "  </thead>\n",
       "  <tbody>\n",
       "    <tr>\n",
       "      <th>male</th>\n",
       "      <td>1.000</td>\n",
       "      <td>0.032</td>\n",
       "      <td>0.007</td>\n",
       "    </tr>\n",
       "    <tr>\n",
       "      <th>age</th>\n",
       "      <td>0.032</td>\n",
       "      <td>1.000</td>\n",
       "      <td>0.025</td>\n",
       "    </tr>\n",
       "    <tr>\n",
       "      <th>smsa</th>\n",
       "      <td>0.007</td>\n",
       "      <td>0.025</td>\n",
       "      <td>1.000</td>\n",
       "    </tr>\n",
       "  </tbody>\n",
       "</table>\n",
       "</div>"
      ],
      "text/plain": [
       "       male    age   smsa\n",
       "male  1.000  0.032  0.007\n",
       "age   0.032  1.000  0.025\n",
       "smsa  0.007  0.025  1.000"
      ]
     },
     "execution_count": 89,
     "metadata": {},
     "output_type": "execute_result"
    }
   ],
   "source": [
    "# Матрица корреляций\n",
    "df = df[['male', 'age', 'smsa']].copy()\n",
    "#df['I(totwrk / 100)'] = df['totwrk']/100\n",
    "#df['I(totwrk ** 2 / 10000)'] = (df['totwrk']**2)/10000\n",
    "corr_matrix = df.corr().round(3)\n",
    "corr_matrix\n",
    "# на пересечении находятся коэффициенты корреляции. В регрессии коэффициенты корреляции должны стремиться к 0"
   ]
  },
  {
   "cell_type": "code",
   "execution_count": 91,
   "id": "ee2f26f5",
   "metadata": {},
   "outputs": [
    {
     "data": {
      "image/png": "[encoded data removed]",
      "text/plain": [
       "<Figure size 640x480 with 2 Axes>"
      ]
     },
     "metadata": {},
     "output_type": "display_data"
    }
   ],
   "source": [
    "# Визуализация корреляций\n",
    "sm.graphics.plot_corr(corr_matrix, xnames=df.columns, normcolor=True, cmap='coolwarm')\n",
    "plt.show()"
   ]
  },
  {
   "cell_type": "markdown",
   "id": "929cf782",
   "metadata": {},
   "source": [
    "## Задача 2.1"
   ]
  },
  {
   "cell_type": "code",
   "execution_count": 218,
   "id": "c7b877ec",
   "metadata": {},
   "outputs": [],
   "source": [
    "df  =  pd.read_csv('https://raw.githubusercontent.com/artamonoff/Econometrica/master/python-notebooks/data-csv/sleep75.csv') \n",
    "mod = smf.ols( formula = 'sleep~totwrk+age+I(age**2)+smsa+south+male',  data = df).fit() \n",
    "mod1 = smf.ols( formula = 'age~totwrk+I(age**2)+smsa+south+male',  data = df).fit() \n",
    "mod2 = smf.ols( formula = 'I(age**2)~totwrk+age++smsa+south+male',  data = df).fit() \n",
    "mod3 = smf.ols( formula = 'male~totwrk+age+I(age**2)+smsa+south',  data = df).fit() "
   ]
  },
  {
   "cell_type": "code",
   "execution_count": 220,
   "id": "3e2369cc",
   "metadata": {},
   "outputs": [
    {
     "data": {
      "text/plain": [
       "(65.467619401788, 65.59649023827082, 1.1726285418999687)"
      ]
     },
     "execution_count": 220,
     "metadata": {},
     "output_type": "execute_result"
    }
   ],
   "source": [
    "VIF1 = 1/(1-mod1.rsquared)\n",
    "VIF2 = 1/(1-mod2.rsquared)\n",
    "VIF3 = 1/(1-mod3.rsquared)\n",
    "\n",
    "VIF1, VIF2, VIF3"
   ]
  },
  {
   "cell_type": "markdown",
   "id": "553c9ee9",
   "metadata": {},
   "source": [
    "## Задача 2.2"
   ]
  },
  {
   "cell_type": "code",
   "execution_count": 245,
   "id": "b8cb637e",
   "metadata": {},
   "outputs": [
    {
     "data": {
      "text/html": [
       "<div>\n",
       "<style scoped>\n",
       "    .dataframe tbody tr th:only-of-type {\n",
       "        vertical-align: middle;\n",
       "    }\n",
       "\n",
       "    .dataframe tbody tr th {\n",
       "        vertical-align: top;\n",
       "    }\n",
       "\n",
       "    .dataframe thead th {\n",
       "        text-align: right;\n",
       "    }\n",
       "</style>\n",
       "<table border=\"1\" class=\"dataframe\">\n",
       "  <thead>\n",
       "    <tr style=\"text-align: right;\">\n",
       "      <th></th>\n",
       "      <th>age</th>\n",
       "      <th>black</th>\n",
       "      <th>case</th>\n",
       "      <th>clerical</th>\n",
       "      <th>construc</th>\n",
       "      <th>educ</th>\n",
       "      <th>earns74</th>\n",
       "      <th>gdhlth</th>\n",
       "      <th>inlf</th>\n",
       "      <th>leis1</th>\n",
       "      <th>...</th>\n",
       "      <th>totwrk</th>\n",
       "      <th>union</th>\n",
       "      <th>worknrm</th>\n",
       "      <th>workscnd</th>\n",
       "      <th>exper</th>\n",
       "      <th>yngkid</th>\n",
       "      <th>yrsmarr</th>\n",
       "      <th>hrwage</th>\n",
       "      <th>agesq</th>\n",
       "      <th>age2</th>\n",
       "    </tr>\n",
       "  </thead>\n",
       "  <tbody>\n",
       "    <tr>\n",
       "      <th>0</th>\n",
       "      <td>32</td>\n",
       "      <td>0</td>\n",
       "      <td>1</td>\n",
       "      <td>0.000000</td>\n",
       "      <td>0.000000</td>\n",
       "      <td>12</td>\n",
       "      <td>0</td>\n",
       "      <td>0</td>\n",
       "      <td>1</td>\n",
       "      <td>3529</td>\n",
       "      <td>...</td>\n",
       "      <td>3438</td>\n",
       "      <td>0</td>\n",
       "      <td>3438</td>\n",
       "      <td>0</td>\n",
       "      <td>14</td>\n",
       "      <td>0</td>\n",
       "      <td>13</td>\n",
       "      <td>7.070004</td>\n",
       "      <td>1024</td>\n",
       "      <td>1024</td>\n",
       "    </tr>\n",
       "    <tr>\n",
       "      <th>1</th>\n",
       "      <td>31</td>\n",
       "      <td>0</td>\n",
       "      <td>2</td>\n",
       "      <td>0.000000</td>\n",
       "      <td>0.000000</td>\n",
       "      <td>14</td>\n",
       "      <td>9500</td>\n",
       "      <td>1</td>\n",
       "      <td>1</td>\n",
       "      <td>2140</td>\n",
       "      <td>...</td>\n",
       "      <td>5020</td>\n",
       "      <td>0</td>\n",
       "      <td>5020</td>\n",
       "      <td>0</td>\n",
       "      <td>11</td>\n",
       "      <td>0</td>\n",
       "      <td>0</td>\n",
       "      <td>1.429999</td>\n",
       "      <td>961</td>\n",
       "      <td>961</td>\n",
       "    </tr>\n",
       "    <tr>\n",
       "      <th>2</th>\n",
       "      <td>44</td>\n",
       "      <td>0</td>\n",
       "      <td>3</td>\n",
       "      <td>0.000000</td>\n",
       "      <td>0.000000</td>\n",
       "      <td>17</td>\n",
       "      <td>42500</td>\n",
       "      <td>1</td>\n",
       "      <td>1</td>\n",
       "      <td>4595</td>\n",
       "      <td>...</td>\n",
       "      <td>2815</td>\n",
       "      <td>0</td>\n",
       "      <td>2815</td>\n",
       "      <td>0</td>\n",
       "      <td>21</td>\n",
       "      <td>0</td>\n",
       "      <td>0</td>\n",
       "      <td>20.529997</td>\n",
       "      <td>1936</td>\n",
       "      <td>1936</td>\n",
       "    </tr>\n",
       "    <tr>\n",
       "      <th>3</th>\n",
       "      <td>30</td>\n",
       "      <td>0</td>\n",
       "      <td>4</td>\n",
       "      <td>0.000000</td>\n",
       "      <td>0.000000</td>\n",
       "      <td>12</td>\n",
       "      <td>42500</td>\n",
       "      <td>1</td>\n",
       "      <td>1</td>\n",
       "      <td>3211</td>\n",
       "      <td>...</td>\n",
       "      <td>3786</td>\n",
       "      <td>0</td>\n",
       "      <td>3786</td>\n",
       "      <td>0</td>\n",
       "      <td>12</td>\n",
       "      <td>0</td>\n",
       "      <td>12</td>\n",
       "      <td>9.619998</td>\n",
       "      <td>900</td>\n",
       "      <td>900</td>\n",
       "    </tr>\n",
       "    <tr>\n",
       "      <th>4</th>\n",
       "      <td>64</td>\n",
       "      <td>0</td>\n",
       "      <td>5</td>\n",
       "      <td>0.000000</td>\n",
       "      <td>0.000000</td>\n",
       "      <td>14</td>\n",
       "      <td>2500</td>\n",
       "      <td>1</td>\n",
       "      <td>1</td>\n",
       "      <td>4052</td>\n",
       "      <td>...</td>\n",
       "      <td>2580</td>\n",
       "      <td>0</td>\n",
       "      <td>2580</td>\n",
       "      <td>0</td>\n",
       "      <td>44</td>\n",
       "      <td>0</td>\n",
       "      <td>33</td>\n",
       "      <td>2.750000</td>\n",
       "      <td>4096</td>\n",
       "      <td>4096</td>\n",
       "    </tr>\n",
       "    <tr>\n",
       "      <th>...</th>\n",
       "      <td>...</td>\n",
       "      <td>...</td>\n",
       "      <td>...</td>\n",
       "      <td>...</td>\n",
       "      <td>...</td>\n",
       "      <td>...</td>\n",
       "      <td>...</td>\n",
       "      <td>...</td>\n",
       "      <td>...</td>\n",
       "      <td>...</td>\n",
       "      <td>...</td>\n",
       "      <td>...</td>\n",
       "      <td>...</td>\n",
       "      <td>...</td>\n",
       "      <td>...</td>\n",
       "      <td>...</td>\n",
       "      <td>...</td>\n",
       "      <td>...</td>\n",
       "      <td>...</td>\n",
       "      <td>...</td>\n",
       "      <td>...</td>\n",
       "    </tr>\n",
       "    <tr>\n",
       "      <th>701</th>\n",
       "      <td>45</td>\n",
       "      <td>0</td>\n",
       "      <td>702</td>\n",
       "      <td>0.182331</td>\n",
       "      <td>0.030075</td>\n",
       "      <td>12</td>\n",
       "      <td>5500</td>\n",
       "      <td>1</td>\n",
       "      <td>0</td>\n",
       "      <td>5069</td>\n",
       "      <td>...</td>\n",
       "      <td>2026</td>\n",
       "      <td>0</td>\n",
       "      <td>2026</td>\n",
       "      <td>0</td>\n",
       "      <td>27</td>\n",
       "      <td>0</td>\n",
       "      <td>18</td>\n",
       "      <td>NaN</td>\n",
       "      <td>2025</td>\n",
       "      <td>2025</td>\n",
       "    </tr>\n",
       "    <tr>\n",
       "      <th>702</th>\n",
       "      <td>34</td>\n",
       "      <td>0</td>\n",
       "      <td>703</td>\n",
       "      <td>0.182331</td>\n",
       "      <td>0.030075</td>\n",
       "      <td>10</td>\n",
       "      <td>2500</td>\n",
       "      <td>0</td>\n",
       "      <td>0</td>\n",
       "      <td>5885</td>\n",
       "      <td>...</td>\n",
       "      <td>675</td>\n",
       "      <td>1</td>\n",
       "      <td>465</td>\n",
       "      <td>210</td>\n",
       "      <td>18</td>\n",
       "      <td>0</td>\n",
       "      <td>4</td>\n",
       "      <td>NaN</td>\n",
       "      <td>1156</td>\n",
       "      <td>1156</td>\n",
       "    </tr>\n",
       "    <tr>\n",
       "      <th>703</th>\n",
       "      <td>37</td>\n",
       "      <td>0</td>\n",
       "      <td>704</td>\n",
       "      <td>0.182331</td>\n",
       "      <td>0.030075</td>\n",
       "      <td>12</td>\n",
       "      <td>3500</td>\n",
       "      <td>1</td>\n",
       "      <td>0</td>\n",
       "      <td>4719</td>\n",
       "      <td>...</td>\n",
       "      <td>1851</td>\n",
       "      <td>0</td>\n",
       "      <td>1851</td>\n",
       "      <td>0</td>\n",
       "      <td>19</td>\n",
       "      <td>0</td>\n",
       "      <td>17</td>\n",
       "      <td>NaN</td>\n",
       "      <td>1369</td>\n",
       "      <td>1369</td>\n",
       "    </tr>\n",
       "    <tr>\n",
       "      <th>704</th>\n",
       "      <td>54</td>\n",
       "      <td>0</td>\n",
       "      <td>705</td>\n",
       "      <td>0.182331</td>\n",
       "      <td>0.030075</td>\n",
       "      <td>17</td>\n",
       "      <td>32500</td>\n",
       "      <td>1</td>\n",
       "      <td>0</td>\n",
       "      <td>5149</td>\n",
       "      <td>...</td>\n",
       "      <td>1961</td>\n",
       "      <td>1</td>\n",
       "      <td>1481</td>\n",
       "      <td>480</td>\n",
       "      <td>31</td>\n",
       "      <td>0</td>\n",
       "      <td>22</td>\n",
       "      <td>NaN</td>\n",
       "      <td>2916</td>\n",
       "      <td>2916</td>\n",
       "    </tr>\n",
       "    <tr>\n",
       "      <th>705</th>\n",
       "      <td>30</td>\n",
       "      <td>0</td>\n",
       "      <td>706</td>\n",
       "      <td>0.182331</td>\n",
       "      <td>0.030075</td>\n",
       "      <td>16</td>\n",
       "      <td>6750</td>\n",
       "      <td>1</td>\n",
       "      <td>0</td>\n",
       "      <td>4747</td>\n",
       "      <td>...</td>\n",
       "      <td>2363</td>\n",
       "      <td>0</td>\n",
       "      <td>2363</td>\n",
       "      <td>0</td>\n",
       "      <td>8</td>\n",
       "      <td>1</td>\n",
       "      <td>9</td>\n",
       "      <td>NaN</td>\n",
       "      <td>900</td>\n",
       "      <td>900</td>\n",
       "    </tr>\n",
       "  </tbody>\n",
       "</table>\n",
       "<p>706 rows × 35 columns</p>\n",
       "</div>"
      ],
      "text/plain": [
       "     age  black  case  clerical  construc  educ  earns74  gdhlth  inlf  leis1  \\\n",
       "0     32      0     1  0.000000  0.000000    12        0       0     1   3529   \n",
       "1     31      0     2  0.000000  0.000000    14     9500       1     1   2140   \n",
       "2     44      0     3  0.000000  0.000000    17    42500       1     1   4595   \n",
       "3     30      0     4  0.000000  0.000000    12    42500       1     1   3211   \n",
       "4     64      0     5  0.000000  0.000000    14     2500       1     1   4052   \n",
       "..   ...    ...   ...       ...       ...   ...      ...     ...   ...    ...   \n",
       "701   45      0   702  0.182331  0.030075    12     5500       1     0   5069   \n",
       "702   34      0   703  0.182331  0.030075    10     2500       0     0   5885   \n",
       "703   37      0   704  0.182331  0.030075    12     3500       1     0   4719   \n",
       "704   54      0   705  0.182331  0.030075    17    32500       1     0   5149   \n",
       "705   30      0   706  0.182331  0.030075    16     6750       1     0   4747   \n",
       "\n",
       "     ...  totwrk  union  worknrm  workscnd  exper  yngkid  yrsmarr     hrwage  \\\n",
       "0    ...    3438      0     3438         0     14       0       13   7.070004   \n",
       "1    ...    5020      0     5020         0     11       0        0   1.429999   \n",
       "2    ...    2815      0     2815         0     21       0        0  20.529997   \n",
       "3    ...    3786      0     3786         0     12       0       12   9.619998   \n",
       "4    ...    2580      0     2580         0     44       0       33   2.750000   \n",
       "..   ...     ...    ...      ...       ...    ...     ...      ...        ...   \n",
       "701  ...    2026      0     2026         0     27       0       18        NaN   \n",
       "702  ...     675      1      465       210     18       0        4        NaN   \n",
       "703  ...    1851      0     1851         0     19       0       17        NaN   \n",
       "704  ...    1961      1     1481       480     31       0       22        NaN   \n",
       "705  ...    2363      0     2363         0      8       1        9        NaN   \n",
       "\n",
       "     agesq  age2  \n",
       "0     1024  1024  \n",
       "1      961   961  \n",
       "2     1936  1936  \n",
       "3      900   900  \n",
       "4     4096  4096  \n",
       "..     ...   ...  \n",
       "701   2025  2025  \n",
       "702   1156  1156  \n",
       "703   1369  1369  \n",
       "704   2916  2916  \n",
       "705    900   900  \n",
       "\n",
       "[706 rows x 35 columns]"
      ]
     },
     "execution_count": 245,
     "metadata": {},
     "output_type": "execute_result"
    }
   ],
   "source": [
    "df  =  pd.read_csv('https://raw.githubusercontent.com/artamonoff/Econometrica/master/python-notebooks/data-csv/sleep75.csv') \n",
    "df['age2'] = df['age']**2\n",
    "mod = smf.ols( formula = 'sleep~totwrk+age+age2+smsa+male+union',  data = df).fit() \n",
    "mod1 = smf.ols( formula = 'age~totwrk+age2+smsa+union+male',  data = df).fit() \n",
    "mod2 = smf.ols( formula = 'age2~totwrk+age+smsa+union+male',  data = df).fit() \n",
    "mod3 = smf.ols( formula = 'male~totwrk+age+age2+smsa+union',  data = df).fit() \n",
    "mod4 = smf.ols( formula = 'smsa~totwrk+age+age2+union+male',  data = df).fit() \n",
    "mod5 = smf.ols( formula = 'union~totwrk+age+age2+smsa+male',  data = df).fit() \n",
    "mod6 = smf.ols( formula = 'totwrk~age+age2+smsa+union+male',  data = df).fit() \n",
    "df"
   ]
  },
  {
   "cell_type": "code",
   "execution_count": 246,
   "id": "1dc5fb6b",
   "metadata": {
    "scrolled": true
   },
   "outputs": [
    {
     "data": {
      "text/html": [
       "<table class=\"simpletable\">\n",
       "<tr>\n",
       "      <td></td>         <th>coef</th>     <th>std err</th>      <th>t</th>      <th>P>|t|</th>  <th>[0.025</th>    <th>0.975]</th>  \n",
       "</tr>\n",
       "<tr>\n",
       "  <th>Intercept</th> <td> 3688.5513</td> <td>  218.389</td> <td>   16.890</td> <td> 0.000</td> <td> 3259.774</td> <td> 4117.329</td>\n",
       "</tr>\n",
       "<tr>\n",
       "  <th>totwrk</th>    <td>   -0.1653</td> <td>    0.018</td> <td>   -9.105</td> <td> 0.000</td> <td>   -0.201</td> <td>   -0.130</td>\n",
       "</tr>\n",
       "<tr>\n",
       "  <th>age</th>       <td>   -7.7337</td> <td>   11.213</td> <td>   -0.690</td> <td> 0.491</td> <td>  -29.749</td> <td>   14.281</td>\n",
       "</tr>\n",
       "<tr>\n",
       "  <th>age2</th>      <td>    0.1271</td> <td>    0.134</td> <td>    0.948</td> <td> 0.343</td> <td>   -0.136</td> <td>    0.390</td>\n",
       "</tr>\n",
       "<tr>\n",
       "  <th>smsa</th>      <td>  -74.5269</td> <td>   32.156</td> <td>   -2.318</td> <td> 0.021</td> <td> -137.661</td> <td>  -11.392</td>\n",
       "</tr>\n",
       "<tr>\n",
       "  <th>male</th>      <td>   86.3215</td> <td>   34.329</td> <td>    2.515</td> <td> 0.012</td> <td>   18.922</td> <td>  153.721</td>\n",
       "</tr>\n",
       "<tr>\n",
       "  <th>union</th>     <td>    8.5744</td> <td>   38.195</td> <td>    0.224</td> <td> 0.822</td> <td>  -66.416</td> <td>   83.564</td>\n",
       "</tr>\n",
       "</table>"
      ],
      "text/plain": [
       "<class 'statsmodels.iolib.table.SimpleTable'>"
      ]
     },
     "execution_count": 246,
     "metadata": {},
     "output_type": "execute_result"
    }
   ],
   "source": [
    "mod.summary().tables[1]"
   ]
  },
  {
   "cell_type": "code",
   "execution_count": 239,
   "id": "b675d6b3",
   "metadata": {
    "scrolled": true
   },
   "outputs": [
    {
     "data": {
      "text/plain": [
       "1.6470364637535286"
      ]
     },
     "execution_count": 239,
     "metadata": {},
     "output_type": "execute_result"
    }
   ],
   "source": [
    "t_cr=stats.t.ppf(1-0.1/2,706-7)\n",
    "t_cr"
   ]
  },
  {
   "cell_type": "markdown",
   "id": "3ecd0cc5",
   "metadata": {},
   "source": [
    "## Значимы totwrk, smsa и male"
   ]
  },
  {
   "cell_type": "code",
   "execution_count": 247,
   "id": "dcb00afa",
   "metadata": {},
   "outputs": [
    {
     "data": {
      "text/plain": [
       "array([[2.49652954]])"
      ]
     },
     "execution_count": 247,
     "metadata": {},
     "output_type": "execute_result"
    }
   ],
   "source": [
    "f_test = mod.f_test('age = age2 = 0') \n",
    "f_test.fvalue "
   ]
  },
  {
   "cell_type": "code",
   "execution_count": 225,
   "id": "c217de24",
   "metadata": {},
   "outputs": [],
   "source": [
    "#явно специфицируем тестируемую гипотезу\n",
    "mod_ur = smf.ols( formula = 'sleep~totwrk+age+I(age**2)+smsa+union+male',  data = df).fit()\n",
    "mod_rest = smf.ols( formula = 'sleep~totwrk+smsa+union+male',  data = df).fit()"
   ]
  },
  {
   "cell_type": "code",
   "execution_count": 226,
   "id": "799c62ad",
   "metadata": {},
   "outputs": [
    {
     "data": {
      "text/plain": [
       "2.496529538580369"
      ]
     },
     "execution_count": 226,
     "metadata": {},
     "output_type": "execute_result"
    }
   ],
   "source": [
    "#R2 observated для гипотезе о регресорах\n",
    "F_obs = (mod_ur.rsquared - mod_rest.rsquared)/(1-mod_ur.rsquared)*(706-7)/2\n",
    "F_obs"
   ]
  },
  {
   "cell_type": "code",
   "execution_count": 213,
   "id": "d160be5e",
   "metadata": {},
   "outputs": [
    {
     "data": {
      "text/plain": [
       "2.3101650178908515"
      ]
     },
     "execution_count": 213,
     "metadata": {},
     "output_type": "execute_result"
    }
   ],
   "source": [
    "#F критическое: \n",
    "F_cr = stats.f.ppf(1-0.1, 2, 706-5)\n",
    "F_cr"
   ]
  },
  {
   "cell_type": "markdown",
   "id": "fad83fb2",
   "metadata": {},
   "source": [
    "## Гипотеза H0 отвергается"
   ]
  },
  {
   "cell_type": "code",
   "execution_count": 227,
   "id": "c31c1ebf",
   "metadata": {},
   "outputs": [
    {
     "data": {
      "text/plain": [
       "(65.39708205019622,\n",
       " 65.56137274707447,\n",
       " 1.171665566759322,\n",
       " 1.0042782866790916,\n",
       " 1.007332274406988,\n",
       " 1.1954688382504761)"
      ]
     },
     "execution_count": 227,
     "metadata": {},
     "output_type": "execute_result"
    }
   ],
   "source": [
    "VIF1 = 1/(1-mod1.rsquared)\n",
    "VIF2 = 1/(1-mod2.rsquared)\n",
    "VIF3 = 1/(1-mod3.rsquared)\n",
    "VIF4 = 1/(1-mod4.rsquared)\n",
    "VIF5 = 1/(1-mod5.rsquared)\n",
    "VIF6 = 1/(1-mod6.rsquared)\n",
    "VIF1, VIF2, VIF3, VIF4, VIF5, VIF6"
   ]
  },
  {
   "cell_type": "code",
   "execution_count": 248,
   "id": "89a8687c",
   "metadata": {},
   "outputs": [
    {
     "data": {
      "text/html": [
       "<div>\n",
       "<style scoped>\n",
       "    .dataframe tbody tr th:only-of-type {\n",
       "        vertical-align: middle;\n",
       "    }\n",
       "\n",
       "    .dataframe tbody tr th {\n",
       "        vertical-align: top;\n",
       "    }\n",
       "\n",
       "    .dataframe thead th {\n",
       "        text-align: right;\n",
       "    }\n",
       "</style>\n",
       "<table border=\"1\" class=\"dataframe\">\n",
       "  <thead>\n",
       "    <tr style=\"text-align: right;\">\n",
       "      <th></th>\n",
       "      <th>totwrk</th>\n",
       "      <th>age</th>\n",
       "      <th>age2</th>\n",
       "      <th>smsa</th>\n",
       "      <th>male</th>\n",
       "      <th>union</th>\n",
       "    </tr>\n",
       "  </thead>\n",
       "  <tbody>\n",
       "    <tr>\n",
       "      <th>totwrk</th>\n",
       "      <td>1.000</td>\n",
       "      <td>-0.050</td>\n",
       "      <td>-0.067</td>\n",
       "      <td>-0.038</td>\n",
       "      <td>0.376</td>\n",
       "      <td>0.002</td>\n",
       "    </tr>\n",
       "    <tr>\n",
       "      <th>age</th>\n",
       "      <td>-0.050</td>\n",
       "      <td>1.000</td>\n",
       "      <td>0.992</td>\n",
       "      <td>0.025</td>\n",
       "      <td>0.032</td>\n",
       "      <td>-0.037</td>\n",
       "    </tr>\n",
       "    <tr>\n",
       "      <th>age2</th>\n",
       "      <td>-0.067</td>\n",
       "      <td>0.992</td>\n",
       "      <td>1.000</td>\n",
       "      <td>0.024</td>\n",
       "      <td>0.026</td>\n",
       "      <td>-0.042</td>\n",
       "    </tr>\n",
       "    <tr>\n",
       "      <th>smsa</th>\n",
       "      <td>-0.038</td>\n",
       "      <td>0.025</td>\n",
       "      <td>0.024</td>\n",
       "      <td>1.000</td>\n",
       "      <td>0.007</td>\n",
       "      <td>-0.039</td>\n",
       "    </tr>\n",
       "    <tr>\n",
       "      <th>male</th>\n",
       "      <td>0.376</td>\n",
       "      <td>0.032</td>\n",
       "      <td>0.026</td>\n",
       "      <td>0.007</td>\n",
       "      <td>1.000</td>\n",
       "      <td>0.040</td>\n",
       "    </tr>\n",
       "    <tr>\n",
       "      <th>union</th>\n",
       "      <td>0.002</td>\n",
       "      <td>-0.037</td>\n",
       "      <td>-0.042</td>\n",
       "      <td>-0.039</td>\n",
       "      <td>0.040</td>\n",
       "      <td>1.000</td>\n",
       "    </tr>\n",
       "  </tbody>\n",
       "</table>\n",
       "</div>"
      ],
      "text/plain": [
       "        totwrk    age   age2   smsa   male  union\n",
       "totwrk   1.000 -0.050 -0.067 -0.038  0.376  0.002\n",
       "age     -0.050  1.000  0.992  0.025  0.032 -0.037\n",
       "age2    -0.067  0.992  1.000  0.024  0.026 -0.042\n",
       "smsa    -0.038  0.025  0.024  1.000  0.007 -0.039\n",
       "male     0.376  0.032  0.026  0.007  1.000  0.040\n",
       "union    0.002 -0.037 -0.042 -0.039  0.040  1.000"
      ]
     },
     "execution_count": 248,
     "metadata": {},
     "output_type": "execute_result"
    }
   ],
   "source": [
    "# Матрица корреляций\n",
    "df = df[['totwrk', 'age', 'age2', 'smsa', 'male', 'union']].copy()\n",
    "corr_matrix = df.corr().round(3)\n",
    "corr_matrix\n",
    "# на пересечении находятся коэффициенты корреляции. В регрессии коэффициенты корреляции должны стремиться к 0"
   ]
  },
  {
   "cell_type": "code",
   "execution_count": 256,
   "id": "f4d91104",
   "metadata": {},
   "outputs": [
    {
     "data": {
      "image/png": "[encoded data removed]",
      "text/plain": [
       "<Figure size 432x288 with 2 Axes>"
      ]
     },
     "metadata": {
      "needs_background": "light"
     },
     "output_type": "display_data"
    }
   ],
   "source": [
    "# Визуализация корреляций\n",
    "sm.graphics.plot_corr(corr_matrix, xnames=df.columns, normcolor=True, cmap='coolwarm')\n",
    "plt.show()"
   ]
  },
  {
   "cell_type": "code",
   "execution_count": null,
   "id": "e1f073e6",
   "metadata": {},
   "outputs": [],
   "source": []
  }
 ],
 "metadata": {
  "kernelspec": {
   "display_name": "Python 3 (ipykernel)",
   "language": "python",
   "name": "python3"
  },
  "language_info": {
   "codemirror_mode": {
    "name": "ipython",
    "version": 3
   },
   "file_extension": ".py",
   "mimetype": "text/x-python",
   "name": "python",
   "nbconvert_exporter": "python",
   "pygments_lexer": "ipython3",
   "version": "3.9.7"
  }
 },
 "nbformat": 4,
 "nbformat_minor": 5
}
