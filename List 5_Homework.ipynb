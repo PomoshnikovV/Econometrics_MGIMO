{
 "cells": [
  {
   "cell_type": "code",
   "execution_count": 1,
   "id": "b6a00426",
   "metadata": {},
   "outputs": [],
   "source": [
    "import pandas as pd\n",
    "import numpy as np\n",
    "import io\n",
    "import statsmodels.formula.api as smf\n",
    "import scipy.stats as stats\n",
    "import re"
   ]
  },
  {
   "cell_type": "markdown",
   "id": "8b98182d",
   "metadata": {},
   "source": [
    "## Задача 1.1"
   ]
  },
  {
   "cell_type": "code",
   "execution_count": 2,
   "id": "b3888b82",
   "metadata": {},
   "outputs": [],
   "source": [
    "data_string = '''Observations     706         706         706         706    \n",
    "R2              0.132       0.131       0.128       0.007   \n",
    "AdjustedR2     0.121       0.123       0.121       0.002 ''' "
   ]
  },
  {
   "cell_type": "code",
   "execution_count": 3,
   "id": "29d86cea",
   "metadata": {},
   "outputs": [
    {
     "data": {
      "text/html": [
       "<div>\n",
       "<style scoped>\n",
       "    .dataframe tbody tr th:only-of-type {\n",
       "        vertical-align: middle;\n",
       "    }\n",
       "\n",
       "    .dataframe tbody tr th {\n",
       "        vertical-align: top;\n",
       "    }\n",
       "\n",
       "    .dataframe thead th {\n",
       "        text-align: right;\n",
       "    }\n",
       "</style>\n",
       "<table border=\"1\" class=\"dataframe\">\n",
       "  <thead>\n",
       "    <tr style=\"text-align: right;\">\n",
       "      <th></th>\n",
       "      <th>0</th>\n",
       "      <th>1</th>\n",
       "      <th>2</th>\n",
       "      <th>3</th>\n",
       "      <th>4</th>\n",
       "    </tr>\n",
       "  </thead>\n",
       "  <tbody>\n",
       "    <tr>\n",
       "      <th>0</th>\n",
       "      <td>Observations</td>\n",
       "      <td>706.000</td>\n",
       "      <td>706.000</td>\n",
       "      <td>706.000</td>\n",
       "      <td>706.000</td>\n",
       "    </tr>\n",
       "    <tr>\n",
       "      <th>1</th>\n",
       "      <td>R2</td>\n",
       "      <td>0.132</td>\n",
       "      <td>0.131</td>\n",
       "      <td>0.128</td>\n",
       "      <td>0.007</td>\n",
       "    </tr>\n",
       "    <tr>\n",
       "      <th>2</th>\n",
       "      <td>AdjustedR2</td>\n",
       "      <td>0.121</td>\n",
       "      <td>0.123</td>\n",
       "      <td>0.121</td>\n",
       "      <td>0.002</td>\n",
       "    </tr>\n",
       "  </tbody>\n",
       "</table>\n",
       "</div>"
      ],
      "text/plain": [
       "              0        1        2        3        4\n",
       "0  Observations  706.000  706.000  706.000  706.000\n",
       "1            R2    0.132    0.131    0.128    0.007\n",
       "2    AdjustedR2    0.121    0.123    0.121    0.002"
      ]
     },
     "execution_count": 3,
     "metadata": {},
     "output_type": "execute_result"
    }
   ],
   "source": [
    "#header нужен для того, чтобы первая строка не обозначалась как наименования\n",
    "df = pd.read_csv(io.StringIO(data_string), \n",
    "    delimiter='\\s+', header=None, index_col=0)\n",
    "df.reset_index() #сдвиг названий столбцов вниз"
   ]
  },
  {
   "cell_type": "code",
   "execution_count": 4,
   "id": "5e3a71cd",
   "metadata": {},
   "outputs": [
    {
     "data": {
      "text/html": [
       "<div>\n",
       "<style scoped>\n",
       "    .dataframe tbody tr th:only-of-type {\n",
       "        vertical-align: middle;\n",
       "    }\n",
       "\n",
       "    .dataframe tbody tr th {\n",
       "        vertical-align: top;\n",
       "    }\n",
       "\n",
       "    .dataframe thead th {\n",
       "        text-align: right;\n",
       "    }\n",
       "</style>\n",
       "<table border=\"1\" class=\"dataframe\">\n",
       "  <thead>\n",
       "    <tr style=\"text-align: right;\">\n",
       "      <th></th>\n",
       "      <th>Observations</th>\n",
       "      <th>R2</th>\n",
       "      <th>AdjustedR2</th>\n",
       "    </tr>\n",
       "  </thead>\n",
       "  <tbody>\n",
       "    <tr>\n",
       "      <th>1</th>\n",
       "      <td>706.0</td>\n",
       "      <td>0.132</td>\n",
       "      <td>0.121</td>\n",
       "    </tr>\n",
       "    <tr>\n",
       "      <th>2</th>\n",
       "      <td>706.0</td>\n",
       "      <td>0.131</td>\n",
       "      <td>0.123</td>\n",
       "    </tr>\n",
       "    <tr>\n",
       "      <th>3</th>\n",
       "      <td>706.0</td>\n",
       "      <td>0.128</td>\n",
       "      <td>0.121</td>\n",
       "    </tr>\n",
       "    <tr>\n",
       "      <th>4</th>\n",
       "      <td>706.0</td>\n",
       "      <td>0.007</td>\n",
       "      <td>0.002</td>\n",
       "    </tr>\n",
       "  </tbody>\n",
       "</table>\n",
       "</div>"
      ],
      "text/plain": [
       "0  Observations     R2  AdjustedR2\n",
       "1         706.0  0.132       0.121\n",
       "2         706.0  0.131       0.123\n",
       "3         706.0  0.128       0.121\n",
       "4         706.0  0.007       0.002"
      ]
     },
     "execution_count": 4,
     "metadata": {},
     "output_type": "execute_result"
    }
   ],
   "source": [
    "#транспонируем матрицу\n",
    "df = df.transpose()\n",
    "df"
   ]
  },
  {
   "cell_type": "code",
   "execution_count": 5,
   "id": "2ee87533",
   "metadata": {},
   "outputs": [
    {
     "data": {
      "text/html": [
       "<div>\n",
       "<style scoped>\n",
       "    .dataframe tbody tr th:only-of-type {\n",
       "        vertical-align: middle;\n",
       "    }\n",
       "\n",
       "    .dataframe tbody tr th {\n",
       "        vertical-align: top;\n",
       "    }\n",
       "\n",
       "    .dataframe thead th {\n",
       "        text-align: right;\n",
       "    }\n",
       "</style>\n",
       "<table border=\"1\" class=\"dataframe\">\n",
       "  <thead>\n",
       "    <tr style=\"text-align: right;\">\n",
       "      <th></th>\n",
       "      <th>Observations</th>\n",
       "      <th>R2</th>\n",
       "      <th>AdjustedR2</th>\n",
       "      <th>m</th>\n",
       "    </tr>\n",
       "  </thead>\n",
       "  <tbody>\n",
       "    <tr>\n",
       "      <th>1</th>\n",
       "      <td>706.0</td>\n",
       "      <td>0.132</td>\n",
       "      <td>0.121</td>\n",
       "      <td>10</td>\n",
       "    </tr>\n",
       "    <tr>\n",
       "      <th>2</th>\n",
       "      <td>706.0</td>\n",
       "      <td>0.131</td>\n",
       "      <td>0.123</td>\n",
       "      <td>8</td>\n",
       "    </tr>\n",
       "    <tr>\n",
       "      <th>3</th>\n",
       "      <td>706.0</td>\n",
       "      <td>0.128</td>\n",
       "      <td>0.121</td>\n",
       "      <td>6</td>\n",
       "    </tr>\n",
       "    <tr>\n",
       "      <th>4</th>\n",
       "      <td>706.0</td>\n",
       "      <td>0.007</td>\n",
       "      <td>0.002</td>\n",
       "      <td>5</td>\n",
       "    </tr>\n",
       "  </tbody>\n",
       "</table>\n",
       "</div>"
      ],
      "text/plain": [
       "0  Observations     R2  AdjustedR2   m\n",
       "1         706.0  0.132       0.121  10\n",
       "2         706.0  0.131       0.123   8\n",
       "3         706.0  0.128       0.121   6\n",
       "4         706.0  0.007       0.002   5"
      ]
     },
     "execution_count": 5,
     "metadata": {},
     "output_type": "execute_result"
    }
   ],
   "source": [
    "# Заполним столбец значением m - кол-во регрессоров для каждой модели\n",
    "df['m'] = [10,8,6,5]\n",
    "df"
   ]
  },
  {
   "cell_type": "code",
   "execution_count": 6,
   "id": "33461fe0",
   "metadata": {},
   "outputs": [
    {
     "data": {
      "text/html": [
       "<div>\n",
       "<style scoped>\n",
       "    .dataframe tbody tr th:only-of-type {\n",
       "        vertical-align: middle;\n",
       "    }\n",
       "\n",
       "    .dataframe tbody tr th {\n",
       "        vertical-align: top;\n",
       "    }\n",
       "\n",
       "    .dataframe thead th {\n",
       "        text-align: right;\n",
       "    }\n",
       "</style>\n",
       "<table border=\"1\" class=\"dataframe\">\n",
       "  <thead>\n",
       "    <tr style=\"text-align: right;\">\n",
       "      <th></th>\n",
       "      <th>Observations</th>\n",
       "      <th>R2</th>\n",
       "      <th>AdjustedR2</th>\n",
       "      <th>m</th>\n",
       "      <th>F_nab</th>\n",
       "    </tr>\n",
       "  </thead>\n",
       "  <tbody>\n",
       "    <tr>\n",
       "      <th>1</th>\n",
       "      <td>706.0</td>\n",
       "      <td>0.132</td>\n",
       "      <td>0.121</td>\n",
       "      <td>10</td>\n",
       "      <td>11.760369</td>\n",
       "    </tr>\n",
       "    <tr>\n",
       "      <th>2</th>\n",
       "      <td>706.0</td>\n",
       "      <td>0.131</td>\n",
       "      <td>0.123</td>\n",
       "      <td>8</td>\n",
       "      <td>15.031728</td>\n",
       "    </tr>\n",
       "    <tr>\n",
       "      <th>3</th>\n",
       "      <td>706.0</td>\n",
       "      <td>0.128</td>\n",
       "      <td>0.121</td>\n",
       "      <td>6</td>\n",
       "      <td>20.550459</td>\n",
       "    </tr>\n",
       "    <tr>\n",
       "      <th>4</th>\n",
       "      <td>706.0</td>\n",
       "      <td>0.007</td>\n",
       "      <td>0.002</td>\n",
       "      <td>5</td>\n",
       "      <td>1.235398</td>\n",
       "    </tr>\n",
       "  </tbody>\n",
       "</table>\n",
       "</div>"
      ],
      "text/plain": [
       "0  Observations     R2  AdjustedR2   m      F_nab\n",
       "1         706.0  0.132       0.121  10  11.760369\n",
       "2         706.0  0.131       0.123   8  15.031728\n",
       "3         706.0  0.128       0.121   6  20.550459\n",
       "4         706.0  0.007       0.002   5   1.235398"
      ]
     },
     "execution_count": 6,
     "metadata": {},
     "output_type": "execute_result"
    }
   ],
   "source": [
    "#создаем столбец со значениями Fнабл\n",
    "df['F_nab'] = (df['R2']/(1-df['R2']))*((df['Observations']-df['m'])/(df['m']-1))\n",
    "df"
   ]
  },
  {
   "cell_type": "code",
   "execution_count": 7,
   "id": "8ac891f8",
   "metadata": {},
   "outputs": [
    {
     "data": {
      "text/html": [
       "<div>\n",
       "<style scoped>\n",
       "    .dataframe tbody tr th:only-of-type {\n",
       "        vertical-align: middle;\n",
       "    }\n",
       "\n",
       "    .dataframe tbody tr th {\n",
       "        vertical-align: top;\n",
       "    }\n",
       "\n",
       "    .dataframe thead th {\n",
       "        text-align: right;\n",
       "    }\n",
       "</style>\n",
       "<table border=\"1\" class=\"dataframe\">\n",
       "  <thead>\n",
       "    <tr style=\"text-align: right;\">\n",
       "      <th></th>\n",
       "      <th>Observations</th>\n",
       "      <th>R2</th>\n",
       "      <th>AdjustedR2</th>\n",
       "      <th>m</th>\n",
       "      <th>F_nab</th>\n",
       "      <th>F_cr</th>\n",
       "    </tr>\n",
       "  </thead>\n",
       "  <tbody>\n",
       "    <tr>\n",
       "      <th>1</th>\n",
       "      <td>706.0</td>\n",
       "      <td>0.132</td>\n",
       "      <td>0.121</td>\n",
       "      <td>10</td>\n",
       "      <td>11.760369</td>\n",
       "      <td>1.893317</td>\n",
       "    </tr>\n",
       "    <tr>\n",
       "      <th>2</th>\n",
       "      <td>706.0</td>\n",
       "      <td>0.131</td>\n",
       "      <td>0.123</td>\n",
       "      <td>8</td>\n",
       "      <td>15.031728</td>\n",
       "      <td>2.022681</td>\n",
       "    </tr>\n",
       "    <tr>\n",
       "      <th>3</th>\n",
       "      <td>706.0</td>\n",
       "      <td>0.128</td>\n",
       "      <td>0.121</td>\n",
       "      <td>6</td>\n",
       "      <td>20.550459</td>\n",
       "      <td>2.226901</td>\n",
       "    </tr>\n",
       "    <tr>\n",
       "      <th>4</th>\n",
       "      <td>706.0</td>\n",
       "      <td>0.007</td>\n",
       "      <td>0.002</td>\n",
       "      <td>5</td>\n",
       "      <td>1.235398</td>\n",
       "      <td>2.384638</td>\n",
       "    </tr>\n",
       "  </tbody>\n",
       "</table>\n",
       "</div>"
      ],
      "text/plain": [
       "0  Observations     R2  AdjustedR2   m      F_nab      F_cr\n",
       "1         706.0  0.132       0.121  10  11.760369  1.893317\n",
       "2         706.0  0.131       0.123   8  15.031728  2.022681\n",
       "3         706.0  0.128       0.121   6  20.550459  2.226901\n",
       "4         706.0  0.007       0.002   5   1.235398  2.384638"
      ]
     },
     "execution_count": 7,
     "metadata": {},
     "output_type": "execute_result"
    }
   ],
   "source": [
    "alpha = 0.05\n",
    "#F критическое: (df['m']-1) - кол-во регрессоров без константы, (df['Observations']-df['m']) - кол-во степеней свободы\n",
    "df['F_cr'] = stats.f.ppf(1-alpha,df['m']-1,df['Observations'] - df['m'])\n",
    "df"
   ]
  },
  {
   "cell_type": "code",
   "execution_count": 8,
   "id": "a0c79763",
   "metadata": {},
   "outputs": [
    {
     "data": {
      "text/html": [
       "<div>\n",
       "<style scoped>\n",
       "    .dataframe tbody tr th:only-of-type {\n",
       "        vertical-align: middle;\n",
       "    }\n",
       "\n",
       "    .dataframe tbody tr th {\n",
       "        vertical-align: top;\n",
       "    }\n",
       "\n",
       "    .dataframe thead th {\n",
       "        text-align: right;\n",
       "    }\n",
       "</style>\n",
       "<table border=\"1\" class=\"dataframe\">\n",
       "  <thead>\n",
       "    <tr style=\"text-align: right;\">\n",
       "      <th></th>\n",
       "      <th>Observations</th>\n",
       "      <th>R2</th>\n",
       "      <th>AdjustedR2</th>\n",
       "      <th>m</th>\n",
       "      <th>F_nab</th>\n",
       "      <th>F_cr</th>\n",
       "      <th>result</th>\n",
       "    </tr>\n",
       "  </thead>\n",
       "  <tbody>\n",
       "    <tr>\n",
       "      <th>1</th>\n",
       "      <td>706.0</td>\n",
       "      <td>0.132</td>\n",
       "      <td>0.121</td>\n",
       "      <td>10</td>\n",
       "      <td>11.760369</td>\n",
       "      <td>1.893317</td>\n",
       "      <td>регрессоры значимы</td>\n",
       "    </tr>\n",
       "    <tr>\n",
       "      <th>2</th>\n",
       "      <td>706.0</td>\n",
       "      <td>0.131</td>\n",
       "      <td>0.123</td>\n",
       "      <td>8</td>\n",
       "      <td>15.031728</td>\n",
       "      <td>2.022681</td>\n",
       "      <td>регрессоры значимы</td>\n",
       "    </tr>\n",
       "    <tr>\n",
       "      <th>3</th>\n",
       "      <td>706.0</td>\n",
       "      <td>0.128</td>\n",
       "      <td>0.121</td>\n",
       "      <td>6</td>\n",
       "      <td>20.550459</td>\n",
       "      <td>2.226901</td>\n",
       "      <td>регрессоры значимы</td>\n",
       "    </tr>\n",
       "    <tr>\n",
       "      <th>4</th>\n",
       "      <td>706.0</td>\n",
       "      <td>0.007</td>\n",
       "      <td>0.002</td>\n",
       "      <td>5</td>\n",
       "      <td>1.235398</td>\n",
       "      <td>2.384638</td>\n",
       "      <td>регрессоры не значимы</td>\n",
       "    </tr>\n",
       "  </tbody>\n",
       "</table>\n",
       "</div>"
      ],
      "text/plain": [
       "0  Observations     R2  AdjustedR2   m      F_nab      F_cr  \\\n",
       "1         706.0  0.132       0.121  10  11.760369  1.893317   \n",
       "2         706.0  0.131       0.123   8  15.031728  2.022681   \n",
       "3         706.0  0.128       0.121   6  20.550459  2.226901   \n",
       "4         706.0  0.007       0.002   5   1.235398  2.384638   \n",
       "\n",
       "0                 result  \n",
       "1     регрессоры значимы  \n",
       "2     регрессоры значимы  \n",
       "3     регрессоры значимы  \n",
       "4  регрессоры не значимы  "
      ]
     },
     "execution_count": 8,
     "metadata": {},
     "output_type": "execute_result"
    }
   ],
   "source": [
    "#Создаю столбец со значимостью коэффициентов\n",
    "df['result'] = df.apply(lambda x: 'регрессоры не значимы' if abs(x['F_nab'])<abs(x['F_cr']) else 'регрессоры значимы', axis=1)\n",
    "df"
   ]
  },
  {
   "cell_type": "markdown",
   "id": "1880c702",
   "metadata": {},
   "source": [
    "## Задача 1.4"
   ]
  },
  {
   "cell_type": "code",
   "execution_count": 9,
   "id": "f827fff4",
   "metadata": {},
   "outputs": [],
   "source": [
    "data = '''Observations            158         158         158        158      158  \n",
    "R2                     0.992       0.976       0.982      0.053    0.026'''"
   ]
  },
  {
   "cell_type": "code",
   "execution_count": 10,
   "id": "69d6b92b",
   "metadata": {},
   "outputs": [
    {
     "data": {
      "text/html": [
       "<div>\n",
       "<style scoped>\n",
       "    .dataframe tbody tr th:only-of-type {\n",
       "        vertical-align: middle;\n",
       "    }\n",
       "\n",
       "    .dataframe tbody tr th {\n",
       "        vertical-align: top;\n",
       "    }\n",
       "\n",
       "    .dataframe thead th {\n",
       "        text-align: right;\n",
       "    }\n",
       "</style>\n",
       "<table border=\"1\" class=\"dataframe\">\n",
       "  <thead>\n",
       "    <tr style=\"text-align: right;\">\n",
       "      <th></th>\n",
       "      <th>Observations</th>\n",
       "      <th>R2</th>\n",
       "    </tr>\n",
       "  </thead>\n",
       "  <tbody>\n",
       "    <tr>\n",
       "      <th>1</th>\n",
       "      <td>158.0</td>\n",
       "      <td>0.992</td>\n",
       "    </tr>\n",
       "    <tr>\n",
       "      <th>2</th>\n",
       "      <td>158.0</td>\n",
       "      <td>0.976</td>\n",
       "    </tr>\n",
       "    <tr>\n",
       "      <th>3</th>\n",
       "      <td>158.0</td>\n",
       "      <td>0.982</td>\n",
       "    </tr>\n",
       "    <tr>\n",
       "      <th>4</th>\n",
       "      <td>158.0</td>\n",
       "      <td>0.053</td>\n",
       "    </tr>\n",
       "    <tr>\n",
       "      <th>5</th>\n",
       "      <td>158.0</td>\n",
       "      <td>0.026</td>\n",
       "    </tr>\n",
       "  </tbody>\n",
       "</table>\n",
       "</div>"
      ],
      "text/plain": [
       "0  Observations     R2\n",
       "1         158.0  0.992\n",
       "2         158.0  0.976\n",
       "3         158.0  0.982\n",
       "4         158.0  0.053\n",
       "5         158.0  0.026"
      ]
     },
     "execution_count": 10,
     "metadata": {},
     "output_type": "execute_result"
    }
   ],
   "source": [
    "#header нужен для того, чтобы первая строка не обозначалась как наименования\n",
    "df = pd.read_csv(io.StringIO(data), \n",
    "    delimiter='\\s+', header=None, index_col=0)\n",
    "df=df.transpose() #транспонируем матрицу\n",
    "df"
   ]
  },
  {
   "cell_type": "code",
   "execution_count": 11,
   "id": "f2569515",
   "metadata": {},
   "outputs": [
    {
     "data": {
      "text/html": [
       "<div>\n",
       "<style scoped>\n",
       "    .dataframe tbody tr th:only-of-type {\n",
       "        vertical-align: middle;\n",
       "    }\n",
       "\n",
       "    .dataframe tbody tr th {\n",
       "        vertical-align: top;\n",
       "    }\n",
       "\n",
       "    .dataframe thead th {\n",
       "        text-align: right;\n",
       "    }\n",
       "</style>\n",
       "<table border=\"1\" class=\"dataframe\">\n",
       "  <thead>\n",
       "    <tr style=\"text-align: right;\">\n",
       "      <th></th>\n",
       "      <th>Observations</th>\n",
       "      <th>R2</th>\n",
       "      <th>m</th>\n",
       "    </tr>\n",
       "  </thead>\n",
       "  <tbody>\n",
       "    <tr>\n",
       "      <th>1</th>\n",
       "      <td>158.0</td>\n",
       "      <td>0.992</td>\n",
       "      <td>6</td>\n",
       "    </tr>\n",
       "    <tr>\n",
       "      <th>2</th>\n",
       "      <td>158.0</td>\n",
       "      <td>0.976</td>\n",
       "      <td>3</td>\n",
       "    </tr>\n",
       "    <tr>\n",
       "      <th>3</th>\n",
       "      <td>158.0</td>\n",
       "      <td>0.982</td>\n",
       "      <td>5</td>\n",
       "    </tr>\n",
       "    <tr>\n",
       "      <th>4</th>\n",
       "      <td>158.0</td>\n",
       "      <td>0.053</td>\n",
       "      <td>4</td>\n",
       "    </tr>\n",
       "    <tr>\n",
       "      <th>5</th>\n",
       "      <td>158.0</td>\n",
       "      <td>0.026</td>\n",
       "      <td>2</td>\n",
       "    </tr>\n",
       "  </tbody>\n",
       "</table>\n",
       "</div>"
      ],
      "text/plain": [
       "0  Observations     R2  m\n",
       "1         158.0  0.992  6\n",
       "2         158.0  0.976  3\n",
       "3         158.0  0.982  5\n",
       "4         158.0  0.053  4\n",
       "5         158.0  0.026  2"
      ]
     },
     "execution_count": 11,
     "metadata": {},
     "output_type": "execute_result"
    }
   ],
   "source": [
    "# Заполним столбец значением m - кол-во регрессоров для каждой модели\n",
    "df['m'] = [6,3,5,4,2]\n",
    "df"
   ]
  },
  {
   "cell_type": "code",
   "execution_count": 12,
   "id": "74d2ed05",
   "metadata": {},
   "outputs": [
    {
     "data": {
      "text/html": [
       "<div>\n",
       "<style scoped>\n",
       "    .dataframe tbody tr th:only-of-type {\n",
       "        vertical-align: middle;\n",
       "    }\n",
       "\n",
       "    .dataframe tbody tr th {\n",
       "        vertical-align: top;\n",
       "    }\n",
       "\n",
       "    .dataframe thead th {\n",
       "        text-align: right;\n",
       "    }\n",
       "</style>\n",
       "<table border=\"1\" class=\"dataframe\">\n",
       "  <thead>\n",
       "    <tr style=\"text-align: right;\">\n",
       "      <th></th>\n",
       "      <th>Observations</th>\n",
       "      <th>R2</th>\n",
       "      <th>m</th>\n",
       "      <th>F_nab</th>\n",
       "    </tr>\n",
       "  </thead>\n",
       "  <tbody>\n",
       "    <tr>\n",
       "      <th>1</th>\n",
       "      <td>158.0</td>\n",
       "      <td>0.992</td>\n",
       "      <td>6</td>\n",
       "      <td>3769.600000</td>\n",
       "    </tr>\n",
       "    <tr>\n",
       "      <th>2</th>\n",
       "      <td>158.0</td>\n",
       "      <td>0.976</td>\n",
       "      <td>3</td>\n",
       "      <td>3151.666667</td>\n",
       "    </tr>\n",
       "    <tr>\n",
       "      <th>3</th>\n",
       "      <td>158.0</td>\n",
       "      <td>0.982</td>\n",
       "      <td>5</td>\n",
       "      <td>2086.750000</td>\n",
       "    </tr>\n",
       "    <tr>\n",
       "      <th>4</th>\n",
       "      <td>158.0</td>\n",
       "      <td>0.053</td>\n",
       "      <td>4</td>\n",
       "      <td>2.872932</td>\n",
       "    </tr>\n",
       "    <tr>\n",
       "      <th>5</th>\n",
       "      <td>158.0</td>\n",
       "      <td>0.026</td>\n",
       "      <td>2</td>\n",
       "      <td>4.164271</td>\n",
       "    </tr>\n",
       "  </tbody>\n",
       "</table>\n",
       "</div>"
      ],
      "text/plain": [
       "0  Observations     R2  m        F_nab\n",
       "1         158.0  0.992  6  3769.600000\n",
       "2         158.0  0.976  3  3151.666667\n",
       "3         158.0  0.982  5  2086.750000\n",
       "4         158.0  0.053  4     2.872932\n",
       "5         158.0  0.026  2     4.164271"
      ]
     },
     "execution_count": 12,
     "metadata": {},
     "output_type": "execute_result"
    }
   ],
   "source": [
    "#создаем столбец со значениями Fнабл\n",
    "df['F_nab'] = (df['R2']/(1-df['R2']))*((df['Observations']-df['m'])/(df['m']-1))\n",
    "df"
   ]
  },
  {
   "cell_type": "code",
   "execution_count": 13,
   "id": "06ddd270",
   "metadata": {},
   "outputs": [
    {
     "data": {
      "text/html": [
       "<div>\n",
       "<style scoped>\n",
       "    .dataframe tbody tr th:only-of-type {\n",
       "        vertical-align: middle;\n",
       "    }\n",
       "\n",
       "    .dataframe tbody tr th {\n",
       "        vertical-align: top;\n",
       "    }\n",
       "\n",
       "    .dataframe thead th {\n",
       "        text-align: right;\n",
       "    }\n",
       "</style>\n",
       "<table border=\"1\" class=\"dataframe\">\n",
       "  <thead>\n",
       "    <tr style=\"text-align: right;\">\n",
       "      <th></th>\n",
       "      <th>Observations</th>\n",
       "      <th>R2</th>\n",
       "      <th>m</th>\n",
       "      <th>F_nab</th>\n",
       "      <th>F_cr</th>\n",
       "    </tr>\n",
       "  </thead>\n",
       "  <tbody>\n",
       "    <tr>\n",
       "      <th>1</th>\n",
       "      <td>158.0</td>\n",
       "      <td>0.992</td>\n",
       "      <td>6</td>\n",
       "      <td>3769.600000</td>\n",
       "      <td>3.139909</td>\n",
       "    </tr>\n",
       "    <tr>\n",
       "      <th>2</th>\n",
       "      <td>158.0</td>\n",
       "      <td>0.976</td>\n",
       "      <td>3</td>\n",
       "      <td>3151.666667</td>\n",
       "      <td>4.744744</td>\n",
       "    </tr>\n",
       "    <tr>\n",
       "      <th>3</th>\n",
       "      <td>158.0</td>\n",
       "      <td>0.982</td>\n",
       "      <td>5</td>\n",
       "      <td>2086.750000</td>\n",
       "      <td>3.444189</td>\n",
       "    </tr>\n",
       "    <tr>\n",
       "      <th>4</th>\n",
       "      <td>158.0</td>\n",
       "      <td>0.053</td>\n",
       "      <td>4</td>\n",
       "      <td>2.872932</td>\n",
       "      <td>3.911342</td>\n",
       "    </tr>\n",
       "    <tr>\n",
       "      <th>5</th>\n",
       "      <td>158.0</td>\n",
       "      <td>0.026</td>\n",
       "      <td>2</td>\n",
       "      <td>4.164271</td>\n",
       "      <td>6.800161</td>\n",
       "    </tr>\n",
       "  </tbody>\n",
       "</table>\n",
       "</div>"
      ],
      "text/plain": [
       "0  Observations     R2  m        F_nab      F_cr\n",
       "1         158.0  0.992  6  3769.600000  3.139909\n",
       "2         158.0  0.976  3  3151.666667  4.744744\n",
       "3         158.0  0.982  5  2086.750000  3.444189\n",
       "4         158.0  0.053  4     2.872932  3.911342\n",
       "5         158.0  0.026  2     4.164271  6.800161"
      ]
     },
     "execution_count": 13,
     "metadata": {},
     "output_type": "execute_result"
    }
   ],
   "source": [
    "#F критическое: (df['m']-1) - кол-во регрессоров без константы, (df['Observations']-df['m']) - кол-во степеней свободы\n",
    "alpha = 0.01\n",
    "df['F_cr'] = stats.f.ppf(1-alpha,df['m']-1,df['Observations'] - df['m'])\n",
    "df"
   ]
  },
  {
   "cell_type": "code",
   "execution_count": 14,
   "id": "19749883",
   "metadata": {},
   "outputs": [
    {
     "data": {
      "text/html": [
       "<div>\n",
       "<style scoped>\n",
       "    .dataframe tbody tr th:only-of-type {\n",
       "        vertical-align: middle;\n",
       "    }\n",
       "\n",
       "    .dataframe tbody tr th {\n",
       "        vertical-align: top;\n",
       "    }\n",
       "\n",
       "    .dataframe thead th {\n",
       "        text-align: right;\n",
       "    }\n",
       "</style>\n",
       "<table border=\"1\" class=\"dataframe\">\n",
       "  <thead>\n",
       "    <tr style=\"text-align: right;\">\n",
       "      <th></th>\n",
       "      <th>Observations</th>\n",
       "      <th>R2</th>\n",
       "      <th>m</th>\n",
       "      <th>F_nab</th>\n",
       "      <th>F_cr</th>\n",
       "      <th>result</th>\n",
       "    </tr>\n",
       "  </thead>\n",
       "  <tbody>\n",
       "    <tr>\n",
       "      <th>1</th>\n",
       "      <td>158.0</td>\n",
       "      <td>0.992</td>\n",
       "      <td>6</td>\n",
       "      <td>3769.600000</td>\n",
       "      <td>3.139909</td>\n",
       "      <td>коэффициенты не значимы</td>\n",
       "    </tr>\n",
       "    <tr>\n",
       "      <th>2</th>\n",
       "      <td>158.0</td>\n",
       "      <td>0.976</td>\n",
       "      <td>3</td>\n",
       "      <td>3151.666667</td>\n",
       "      <td>4.744744</td>\n",
       "      <td>коэффициенты не значимы</td>\n",
       "    </tr>\n",
       "    <tr>\n",
       "      <th>3</th>\n",
       "      <td>158.0</td>\n",
       "      <td>0.982</td>\n",
       "      <td>5</td>\n",
       "      <td>2086.750000</td>\n",
       "      <td>3.444189</td>\n",
       "      <td>коэффициенты не значимы</td>\n",
       "    </tr>\n",
       "    <tr>\n",
       "      <th>4</th>\n",
       "      <td>158.0</td>\n",
       "      <td>0.053</td>\n",
       "      <td>4</td>\n",
       "      <td>2.872932</td>\n",
       "      <td>3.911342</td>\n",
       "      <td>коэффициенты значимы</td>\n",
       "    </tr>\n",
       "    <tr>\n",
       "      <th>5</th>\n",
       "      <td>158.0</td>\n",
       "      <td>0.026</td>\n",
       "      <td>2</td>\n",
       "      <td>4.164271</td>\n",
       "      <td>6.800161</td>\n",
       "      <td>коэффициенты значимы</td>\n",
       "    </tr>\n",
       "  </tbody>\n",
       "</table>\n",
       "</div>"
      ],
      "text/plain": [
       "0  Observations     R2  m        F_nab      F_cr                   result\n",
       "1         158.0  0.992  6  3769.600000  3.139909  коэффициенты не значимы\n",
       "2         158.0  0.976  3  3151.666667  4.744744  коэффициенты не значимы\n",
       "3         158.0  0.982  5  2086.750000  3.444189  коэффициенты не значимы\n",
       "4         158.0  0.053  4     2.872932  3.911342     коэффициенты значимы\n",
       "5         158.0  0.026  2     4.164271  6.800161     коэффициенты значимы"
      ]
     },
     "execution_count": 14,
     "metadata": {},
     "output_type": "execute_result"
    }
   ],
   "source": [
    "#Создаю столбец со значимостью коэффициентов\n",
    "df['result'] = df.apply(lambda x: 'коэффициенты значимы' if abs(x['F_nab'])<abs(x['F_cr']) else 'коэффициенты не значимы', axis=1)\n",
    "df"
   ]
  },
  {
   "cell_type": "markdown",
   "id": "df7503c2",
   "metadata": {},
   "source": [
    "## Задача 2.1"
   ]
  },
  {
   "cell_type": "markdown",
   "id": "9931cc8e",
   "metadata": {},
   "source": [
    "$$\n",
    "H_0 : \\beta_{smsa} = \\beta_{ynkid} = \\beta_{ynkid} = \\beta_{marr} = 0\n",
    "$$\n",
    "$$\n",
    "H_1 : \\beta_{smsa}^2 = \\beta_{ynkid}^2 = \\beta_{ynkid}^2 = \\beta_{marr}^2 > 0\n",
    "$$"
   ]
  },
  {
   "cell_type": "code",
   "execution_count": 15,
   "id": "76b5b1c0",
   "metadata": {},
   "outputs": [
    {
     "name": "stdout",
     "output_type": "stream",
     "text": [
      "0.131 0.127\n"
     ]
    }
   ],
   "source": [
    "#регулярное выражение, позволяющее разбивать и находить из совокупности значений нужные цифры\n",
    "unrestricted, restricted = np.float_(re.findall(r'([-+]?\\d+.\\d+)','R2      0.131    0.127'))\n",
    "print(unrestricted,restricted)"
   ]
  },
  {
   "cell_type": "code",
   "execution_count": 16,
   "id": "0899132a",
   "metadata": {},
   "outputs": [
    {
     "data": {
      "text/plain": [
       "0.8020713463751445"
      ]
     },
     "execution_count": 16,
     "metadata": {},
     "output_type": "execute_result"
    }
   ],
   "source": [
    "F_obs = (unrestricted - restricted)/(1-unrestricted)*(706-9)/4\n",
    "F_obs"
   ]
  },
  {
   "cell_type": "code",
   "execution_count": 17,
   "id": "d209f2a5",
   "metadata": {},
   "outputs": [
    {
     "data": {
      "text/plain": [
       "3.346154627901364"
      ]
     },
     "execution_count": 17,
     "metadata": {},
     "output_type": "execute_result"
    }
   ],
   "source": [
    "F_cr = stats.f.ppf(1-alpha, 4, 706-9)\n",
    "F_cr"
   ]
  },
  {
   "cell_type": "markdown",
   "id": "a4e6c568",
   "metadata": {},
   "source": [
    "$F_{obs} < F_{cr}$ данные согласуются с гипотезой $H_0$"
   ]
  },
  {
   "cell_type": "markdown",
   "id": "659768a2",
   "metadata": {},
   "source": [
    "## Задача 2.4"
   ]
  },
  {
   "cell_type": "code",
   "execution_count": 18,
   "id": "c5d77063",
   "metadata": {},
   "outputs": [],
   "source": [
    "df = pd.read_csv('https://raw.githubusercontent.com/artamonoff/Econometrica/master/python-notebooks/data-csv/wage2.csv')"
   ]
  },
  {
   "cell_type": "code",
   "execution_count": 19,
   "id": "01c0e7ce",
   "metadata": {},
   "outputs": [
    {
     "data": {
      "text/plain": [
       "Intercept      2.937802\n",
       "age            0.144754\n",
       "I(age ** 2)   -0.001857\n",
       "IQ             0.008216\n",
       "south         -0.100273\n",
       "urban          0.173195\n",
       "married        0.201539\n",
       "dtype: float64"
      ]
     },
     "execution_count": 19,
     "metadata": {},
     "output_type": "execute_result"
    }
   ],
   "source": [
    "fitted = smf.ols(data=df, formula='np.log(wage)~age + I(age**2) + IQ + south + urban + married').fit()\n",
    "fitted.params"
   ]
  },
  {
   "cell_type": "code",
   "execution_count": 20,
   "id": "c88aad14",
   "metadata": {},
   "outputs": [
    {
     "data": {
      "text/html": [
       "<table class=\"simpletable\">\n",
       "<tr>\n",
       "       <td></td>          <th>coef</th>     <th>std err</th>      <th>t</th>      <th>P>|t|</th>  <th>[0.005</th>    <th>0.995]</th>  \n",
       "</tr>\n",
       "<tr>\n",
       "  <th>Intercept</th>   <td>    2.9378</td> <td>    1.656</td> <td>    1.774</td> <td> 0.076</td> <td>   -1.337</td> <td>    7.213</td>\n",
       "</tr>\n",
       "<tr>\n",
       "  <th>age</th>         <td>    0.1448</td> <td>    0.100</td> <td>    1.447</td> <td> 0.148</td> <td>   -0.113</td> <td>    0.403</td>\n",
       "</tr>\n",
       "<tr>\n",
       "  <th>I(age ** 2)</th> <td>   -0.0019</td> <td>    0.002</td> <td>   -1.236</td> <td> 0.217</td> <td>   -0.006</td> <td>    0.002</td>\n",
       "</tr>\n",
       "<tr>\n",
       "  <th>IQ</th>          <td>    0.0082</td> <td>    0.001</td> <td>    9.770</td> <td> 0.000</td> <td>    0.006</td> <td>    0.010</td>\n",
       "</tr>\n",
       "<tr>\n",
       "  <th>south</th>       <td>   -0.1003</td> <td>    0.027</td> <td>   -3.736</td> <td> 0.000</td> <td>   -0.170</td> <td>   -0.031</td>\n",
       "</tr>\n",
       "<tr>\n",
       "  <th>urban</th>       <td>    0.1732</td> <td>    0.028</td> <td>    6.260</td> <td> 0.000</td> <td>    0.102</td> <td>    0.245</td>\n",
       "</tr>\n",
       "<tr>\n",
       "  <th>married</th>     <td>    0.2015</td> <td>    0.040</td> <td>    5.008</td> <td> 0.000</td> <td>    0.098</td> <td>    0.305</td>\n",
       "</tr>\n",
       "</table>"
      ],
      "text/plain": [
       "<class 'statsmodels.iolib.table.SimpleTable'>"
      ]
     },
     "execution_count": 20,
     "metadata": {},
     "output_type": "execute_result"
    }
   ],
   "source": [
    "fitted.summary(alpha=0.01).tables[1]"
   ]
  },
  {
   "cell_type": "code",
   "execution_count": 21,
   "id": "68a05ae0",
   "metadata": {},
   "outputs": [
    {
     "data": {
      "text/plain": [
       "2.5811375814942803"
      ]
     },
     "execution_count": 21,
     "metadata": {},
     "output_type": "execute_result"
    }
   ],
   "source": [
    "#t критическое\n",
    "alpha = 0.01\n",
    "n=len(df)\n",
    "k=6\n",
    "#ppf - percent point function\n",
    "t_cr = stats.t.ppf(1-alpha/2, n-k-1)\n",
    "t_cr"
   ]
  },
  {
   "cell_type": "code",
   "execution_count": 22,
   "id": "4f990bb5",
   "metadata": {},
   "outputs": [],
   "source": [
    "data = '''coef\tstd.err\tt\tP>|t|\t[0.005\t0.995]\n",
    "Intercept\t2.9378\t1.656\t1.774\t0.076\t-1.337\t7.213\n",
    "age\t0.1448\t0.100\t1.447\t0.148\t-0.113\t0.403\n",
    "I(age**2)\t-0.0019\t0.002\t-1.236\t0.217\t-0.006\t0.002\n",
    "IQ\t0.0082\t0.001\t9.770\t0.000\t0.006\t0.010\n",
    "south\t-0.1003\t0.027\t-3.736\t0.000\t-0.170\t-0.031\n",
    "urban\t0.1732\t0.028\t6.260\t0.000\t0.102\t0.245\n",
    "married\t0.2015\t0.040\t5.008\t0.000\t0.098\t0.305'''"
   ]
  },
  {
   "cell_type": "code",
   "execution_count": 23,
   "id": "dc3c1cfb",
   "metadata": {},
   "outputs": [
    {
     "data": {
      "text/html": [
       "<div>\n",
       "<style scoped>\n",
       "    .dataframe tbody tr th:only-of-type {\n",
       "        vertical-align: middle;\n",
       "    }\n",
       "\n",
       "    .dataframe tbody tr th {\n",
       "        vertical-align: top;\n",
       "    }\n",
       "\n",
       "    .dataframe thead th {\n",
       "        text-align: right;\n",
       "    }\n",
       "</style>\n",
       "<table border=\"1\" class=\"dataframe\">\n",
       "  <thead>\n",
       "    <tr style=\"text-align: right;\">\n",
       "      <th></th>\n",
       "      <th>coef</th>\n",
       "      <th>std.err</th>\n",
       "      <th>t</th>\n",
       "      <th>P&gt;|t|</th>\n",
       "      <th>[0.005</th>\n",
       "      <th>0.995]</th>\n",
       "    </tr>\n",
       "  </thead>\n",
       "  <tbody>\n",
       "    <tr>\n",
       "      <th>Intercept</th>\n",
       "      <td>2.9378</td>\n",
       "      <td>1.656</td>\n",
       "      <td>1.774</td>\n",
       "      <td>0.076</td>\n",
       "      <td>-1.337</td>\n",
       "      <td>7.213</td>\n",
       "    </tr>\n",
       "    <tr>\n",
       "      <th>age</th>\n",
       "      <td>0.1448</td>\n",
       "      <td>0.100</td>\n",
       "      <td>1.447</td>\n",
       "      <td>0.148</td>\n",
       "      <td>-0.113</td>\n",
       "      <td>0.403</td>\n",
       "    </tr>\n",
       "    <tr>\n",
       "      <th>I(age**2)</th>\n",
       "      <td>-0.0019</td>\n",
       "      <td>0.002</td>\n",
       "      <td>-1.236</td>\n",
       "      <td>0.217</td>\n",
       "      <td>-0.006</td>\n",
       "      <td>0.002</td>\n",
       "    </tr>\n",
       "    <tr>\n",
       "      <th>IQ</th>\n",
       "      <td>0.0082</td>\n",
       "      <td>0.001</td>\n",
       "      <td>9.770</td>\n",
       "      <td>0.000</td>\n",
       "      <td>0.006</td>\n",
       "      <td>0.010</td>\n",
       "    </tr>\n",
       "    <tr>\n",
       "      <th>south</th>\n",
       "      <td>-0.1003</td>\n",
       "      <td>0.027</td>\n",
       "      <td>-3.736</td>\n",
       "      <td>0.000</td>\n",
       "      <td>-0.170</td>\n",
       "      <td>-0.031</td>\n",
       "    </tr>\n",
       "    <tr>\n",
       "      <th>urban</th>\n",
       "      <td>0.1732</td>\n",
       "      <td>0.028</td>\n",
       "      <td>6.260</td>\n",
       "      <td>0.000</td>\n",
       "      <td>0.102</td>\n",
       "      <td>0.245</td>\n",
       "    </tr>\n",
       "    <tr>\n",
       "      <th>married</th>\n",
       "      <td>0.2015</td>\n",
       "      <td>0.040</td>\n",
       "      <td>5.008</td>\n",
       "      <td>0.000</td>\n",
       "      <td>0.098</td>\n",
       "      <td>0.305</td>\n",
       "    </tr>\n",
       "  </tbody>\n",
       "</table>\n",
       "</div>"
      ],
      "text/plain": [
       "             coef  std.err      t  P>|t|  [0.005  0.995]\n",
       "Intercept  2.9378    1.656  1.774  0.076  -1.337   7.213\n",
       "age        0.1448    0.100  1.447  0.148  -0.113   0.403\n",
       "I(age**2) -0.0019    0.002 -1.236  0.217  -0.006   0.002\n",
       "IQ         0.0082    0.001  9.770  0.000   0.006   0.010\n",
       "south     -0.1003    0.027 -3.736  0.000  -0.170  -0.031\n",
       "urban      0.1732    0.028  6.260  0.000   0.102   0.245\n",
       "married    0.2015    0.040  5.008  0.000   0.098   0.305"
      ]
     },
     "execution_count": 23,
     "metadata": {},
     "output_type": "execute_result"
    }
   ],
   "source": [
    "df = pd.read_csv(io.StringIO(data), sep='\\s+')\n",
    "df"
   ]
  },
  {
   "cell_type": "code",
   "execution_count": 24,
   "id": "b609e8c2",
   "metadata": {},
   "outputs": [
    {
     "data": {
      "text/html": [
       "<div>\n",
       "<style scoped>\n",
       "    .dataframe tbody tr th:only-of-type {\n",
       "        vertical-align: middle;\n",
       "    }\n",
       "\n",
       "    .dataframe tbody tr th {\n",
       "        vertical-align: top;\n",
       "    }\n",
       "\n",
       "    .dataframe thead th {\n",
       "        text-align: right;\n",
       "    }\n",
       "</style>\n",
       "<table border=\"1\" class=\"dataframe\">\n",
       "  <thead>\n",
       "    <tr style=\"text-align: right;\">\n",
       "      <th></th>\n",
       "      <th>coef</th>\n",
       "      <th>std.err</th>\n",
       "      <th>t</th>\n",
       "      <th>P&gt;|t|</th>\n",
       "      <th>[0.005</th>\n",
       "      <th>0.995]</th>\n",
       "      <th>result</th>\n",
       "    </tr>\n",
       "  </thead>\n",
       "  <tbody>\n",
       "    <tr>\n",
       "      <th>Intercept</th>\n",
       "      <td>2.9378</td>\n",
       "      <td>1.656</td>\n",
       "      <td>1.774</td>\n",
       "      <td>0.076</td>\n",
       "      <td>-1.337</td>\n",
       "      <td>7.213</td>\n",
       "      <td>не значим</td>\n",
       "    </tr>\n",
       "    <tr>\n",
       "      <th>age</th>\n",
       "      <td>0.1448</td>\n",
       "      <td>0.100</td>\n",
       "      <td>1.447</td>\n",
       "      <td>0.148</td>\n",
       "      <td>-0.113</td>\n",
       "      <td>0.403</td>\n",
       "      <td>не значим</td>\n",
       "    </tr>\n",
       "    <tr>\n",
       "      <th>I(age**2)</th>\n",
       "      <td>-0.0019</td>\n",
       "      <td>0.002</td>\n",
       "      <td>-1.236</td>\n",
       "      <td>0.217</td>\n",
       "      <td>-0.006</td>\n",
       "      <td>0.002</td>\n",
       "      <td>не значим</td>\n",
       "    </tr>\n",
       "    <tr>\n",
       "      <th>IQ</th>\n",
       "      <td>0.0082</td>\n",
       "      <td>0.001</td>\n",
       "      <td>9.770</td>\n",
       "      <td>0.000</td>\n",
       "      <td>0.006</td>\n",
       "      <td>0.010</td>\n",
       "      <td>значим</td>\n",
       "    </tr>\n",
       "    <tr>\n",
       "      <th>south</th>\n",
       "      <td>-0.1003</td>\n",
       "      <td>0.027</td>\n",
       "      <td>-3.736</td>\n",
       "      <td>0.000</td>\n",
       "      <td>-0.170</td>\n",
       "      <td>-0.031</td>\n",
       "      <td>значим</td>\n",
       "    </tr>\n",
       "    <tr>\n",
       "      <th>urban</th>\n",
       "      <td>0.1732</td>\n",
       "      <td>0.028</td>\n",
       "      <td>6.260</td>\n",
       "      <td>0.000</td>\n",
       "      <td>0.102</td>\n",
       "      <td>0.245</td>\n",
       "      <td>значим</td>\n",
       "    </tr>\n",
       "    <tr>\n",
       "      <th>married</th>\n",
       "      <td>0.2015</td>\n",
       "      <td>0.040</td>\n",
       "      <td>5.008</td>\n",
       "      <td>0.000</td>\n",
       "      <td>0.098</td>\n",
       "      <td>0.305</td>\n",
       "      <td>значим</td>\n",
       "    </tr>\n",
       "  </tbody>\n",
       "</table>\n",
       "</div>"
      ],
      "text/plain": [
       "             coef  std.err      t  P>|t|  [0.005  0.995]     result\n",
       "Intercept  2.9378    1.656  1.774  0.076  -1.337   7.213  не значим\n",
       "age        0.1448    0.100  1.447  0.148  -0.113   0.403  не значим\n",
       "I(age**2) -0.0019    0.002 -1.236  0.217  -0.006   0.002  не значим\n",
       "IQ         0.0082    0.001  9.770  0.000   0.006   0.010     значим\n",
       "south     -0.1003    0.027 -3.736  0.000  -0.170  -0.031     значим\n",
       "urban      0.1732    0.028  6.260  0.000   0.102   0.245     значим\n",
       "married    0.2015    0.040  5.008  0.000   0.098   0.305     значим"
      ]
     },
     "execution_count": 24,
     "metadata": {},
     "output_type": "execute_result"
    }
   ],
   "source": [
    "df['result']=df.apply(lambda x: 'значим' if abs(x['t'])>t_cr else 'не значим', axis=1)\n",
    "df"
   ]
  },
  {
   "cell_type": "code",
   "execution_count": 25,
   "id": "47f9fb4e",
   "metadata": {},
   "outputs": [],
   "source": [
    "df = pd.read_csv('https://raw.githubusercontent.com/artamonoff/Econometrica/master/python-notebooks/data-csv/wage2.csv')"
   ]
  },
  {
   "cell_type": "code",
   "execution_count": 26,
   "id": "84882e55",
   "metadata": {},
   "outputs": [],
   "source": [
    "fitted_unrestricted = smf.ols(data=df, formula='np.log(wage)~age + I(age**2) + IQ + south + urban + married').fit()\n",
    "fitted_restricted = smf.ols(data=df, formula='np.log(wage)~ IQ + south + urban + married').fit()"
   ]
  },
  {
   "cell_type": "markdown",
   "id": "f35c96a0",
   "metadata": {},
   "source": [
    "$$\n",
    "H_0 : \\beta_{age} = \\beta_{age^2} = 0\n",
    "$$\n",
    "$$\n",
    "H_1 : \\beta_{age}^2 = \\beta_{age^2}^2 > 0\n",
    "$$"
   ]
  },
  {
   "cell_type": "code",
   "execution_count": 27,
   "id": "d3a09b99",
   "metadata": {},
   "outputs": [
    {
     "data": {
      "text/plain": [
       "0.20095663871585157"
      ]
     },
     "execution_count": 27,
     "metadata": {},
     "output_type": "execute_result"
    }
   ],
   "source": [
    "R2_ur = fitted_unrestricted.rsquared  # коэффициент детерминации \"длинной регрессии\" \n",
    "R2_ur"
   ]
  },
  {
   "cell_type": "code",
   "execution_count": 28,
   "id": "6cee175a",
   "metadata": {},
   "outputs": [
    {
     "data": {
      "text/plain": [
       "0.1754137020049945"
      ]
     },
     "execution_count": 28,
     "metadata": {},
     "output_type": "execute_result"
    }
   ],
   "source": [
    "R2_r = fitted_restricted.rsquared  # коэффициент детерминации \"длинной регрессии\" \n",
    "R2_r"
   ]
  },
  {
   "cell_type": "code",
   "execution_count": 29,
   "id": "5764ed88",
   "metadata": {},
   "outputs": [
    {
     "data": {
      "text/plain": [
       "5.570231776550696"
      ]
     },
     "execution_count": 29,
     "metadata": {},
     "output_type": "execute_result"
    }
   ],
   "source": [
    "F_obs = (R2_ur - R2_r)/(1-R2_ur)*(706-9)/4\n",
    "F_obs"
   ]
  },
  {
   "cell_type": "code",
   "execution_count": 30,
   "id": "0b50251e",
   "metadata": {},
   "outputs": [
    {
     "data": {
      "text/plain": [
       "2.821394800507497"
      ]
     },
     "execution_count": 30,
     "metadata": {},
     "output_type": "execute_result"
    }
   ],
   "source": [
    "F_cr = stats.f.ppf(1-0.01, 6, 935-7)\n",
    "F_cr"
   ]
  },
  {
   "cell_type": "markdown",
   "id": "cfc3407f",
   "metadata": {},
   "source": [
    "### Интерпретация результатов\n",
    "$F_{obs} > F_{cr}$ данные согласуются с гипотезой $H_1$\n",
    "$$\n",
    "Регрессоры \\ значимы. Следовательно, \\ возраст \\ влияет \\ на \\ уровень \\ заработной \\ платы \\ с \\ вероятностью \\ 99 \\ процентов\n",
    "$$"
   ]
  },
  {
   "cell_type": "markdown",
   "id": "5caa4232",
   "metadata": {},
   "source": [
    "# Задача 3.2"
   ]
  },
  {
   "cell_type": "code",
   "execution_count": 31,
   "id": "ce2dcc12",
   "metadata": {},
   "outputs": [],
   "source": [
    "df = pd.read_csv('https://raw.githubusercontent.com/artamonoff/Econometrica/master/python-notebooks/data-csv/Labour.csv')"
   ]
  },
  {
   "cell_type": "code",
   "execution_count": 32,
   "id": "b5242739",
   "metadata": {},
   "outputs": [
    {
     "data": {
      "text/plain": [
       "Intercept         -5.007316\n",
       "np.log(capital)    0.149343\n",
       "np.log(labour)     0.720410\n",
       "np.log(wage)       0.921390\n",
       "dtype: float64"
      ]
     },
     "execution_count": 32,
     "metadata": {},
     "output_type": "execute_result"
    }
   ],
   "source": [
    "fitted = smf.ols(data=df, formula='np.log(output)~np.log(capital)+np.log(labour)+np.log(wage)').fit()\n",
    "fitted.params"
   ]
  },
  {
   "cell_type": "code",
   "execution_count": 33,
   "id": "c3b58e5b",
   "metadata": {},
   "outputs": [
    {
     "data": {
      "text/html": [
       "<table class=\"simpletable\">\n",
       "<tr>\n",
       "         <td></td>            <th>coef</th>     <th>std err</th>      <th>t</th>      <th>P>|t|</th>  <th>[0.005</th>    <th>0.995]</th>  \n",
       "</tr>\n",
       "<tr>\n",
       "  <th>Intercept</th>       <td>   -5.0073</td> <td>    0.221</td> <td>  -22.649</td> <td> 0.000</td> <td>   -5.579</td> <td>   -4.436</td>\n",
       "</tr>\n",
       "<tr>\n",
       "  <th>np.log(capital)</th> <td>    0.1493</td> <td>    0.015</td> <td>   10.141</td> <td> 0.000</td> <td>    0.111</td> <td>    0.187</td>\n",
       "</tr>\n",
       "<tr>\n",
       "  <th>np.log(labour)</th>  <td>    0.7204</td> <td>    0.019</td> <td>   37.487</td> <td> 0.000</td> <td>    0.671</td> <td>    0.770</td>\n",
       "</tr>\n",
       "<tr>\n",
       "  <th>np.log(wage)</th>    <td>    0.9214</td> <td>    0.058</td> <td>   16.001</td> <td> 0.000</td> <td>    0.773</td> <td>    1.070</td>\n",
       "</tr>\n",
       "</table>"
      ],
      "text/plain": [
       "<class 'statsmodels.iolib.table.SimpleTable'>"
      ]
     },
     "execution_count": 33,
     "metadata": {},
     "output_type": "execute_result"
    }
   ],
   "source": [
    "fitted.summary(alpha=0.01).tables[1]"
   ]
  },
  {
   "cell_type": "code",
   "execution_count": 34,
   "id": "70e87d5a",
   "metadata": {},
   "outputs": [
    {
     "data": {
      "text/plain": [
       "1.9641715505901485"
      ]
     },
     "execution_count": 34,
     "metadata": {},
     "output_type": "execute_result"
    }
   ],
   "source": [
    "#t критическое\n",
    "alpha = 0.05\n",
    "n=len(df)\n",
    "k=3\n",
    "#ppf - percent point function\n",
    "t_cr = stats.t.ppf(1-alpha/2, n-k-1)\n",
    "t_cr"
   ]
  },
  {
   "cell_type": "code",
   "execution_count": 35,
   "id": "0a1767fd",
   "metadata": {},
   "outputs": [],
   "source": [
    "data = '''coef\tstd.err\tt\tP>|t|\t[0.005\t0.995]\n",
    "Intercept\t-5.0073\t0.221\t-22.649\t0.000\t-5.579\t-4.436\n",
    "np.log(capital)\t0.1493\t0.015\t10.141\t0.000\t0.111\t0.187\n",
    "np.log(labour)\t0.7204\t0.019\t37.487\t0.000\t0.671\t0.770\n",
    "np.log(wage)\t0.9214\t0.058\t16.001\t0.000\t0.773\t1.070'''"
   ]
  },
  {
   "cell_type": "code",
   "execution_count": 36,
   "id": "3dd500d7",
   "metadata": {},
   "outputs": [
    {
     "data": {
      "text/html": [
       "<div>\n",
       "<style scoped>\n",
       "    .dataframe tbody tr th:only-of-type {\n",
       "        vertical-align: middle;\n",
       "    }\n",
       "\n",
       "    .dataframe tbody tr th {\n",
       "        vertical-align: top;\n",
       "    }\n",
       "\n",
       "    .dataframe thead th {\n",
       "        text-align: right;\n",
       "    }\n",
       "</style>\n",
       "<table border=\"1\" class=\"dataframe\">\n",
       "  <thead>\n",
       "    <tr style=\"text-align: right;\">\n",
       "      <th></th>\n",
       "      <th>coef</th>\n",
       "      <th>std.err</th>\n",
       "      <th>t</th>\n",
       "      <th>P&gt;|t|</th>\n",
       "      <th>[0.005</th>\n",
       "      <th>0.995]</th>\n",
       "    </tr>\n",
       "  </thead>\n",
       "  <tbody>\n",
       "    <tr>\n",
       "      <th>Intercept</th>\n",
       "      <td>-5.0073</td>\n",
       "      <td>0.221</td>\n",
       "      <td>-22.649</td>\n",
       "      <td>0.0</td>\n",
       "      <td>-5.579</td>\n",
       "      <td>-4.436</td>\n",
       "    </tr>\n",
       "    <tr>\n",
       "      <th>np.log(capital)</th>\n",
       "      <td>0.1493</td>\n",
       "      <td>0.015</td>\n",
       "      <td>10.141</td>\n",
       "      <td>0.0</td>\n",
       "      <td>0.111</td>\n",
       "      <td>0.187</td>\n",
       "    </tr>\n",
       "    <tr>\n",
       "      <th>np.log(labour)</th>\n",
       "      <td>0.7204</td>\n",
       "      <td>0.019</td>\n",
       "      <td>37.487</td>\n",
       "      <td>0.0</td>\n",
       "      <td>0.671</td>\n",
       "      <td>0.770</td>\n",
       "    </tr>\n",
       "    <tr>\n",
       "      <th>np.log(wage)</th>\n",
       "      <td>0.9214</td>\n",
       "      <td>0.058</td>\n",
       "      <td>16.001</td>\n",
       "      <td>0.0</td>\n",
       "      <td>0.773</td>\n",
       "      <td>1.070</td>\n",
       "    </tr>\n",
       "  </tbody>\n",
       "</table>\n",
       "</div>"
      ],
      "text/plain": [
       "                   coef  std.err       t  P>|t|  [0.005  0.995]\n",
       "Intercept       -5.0073    0.221 -22.649    0.0  -5.579  -4.436\n",
       "np.log(capital)  0.1493    0.015  10.141    0.0   0.111   0.187\n",
       "np.log(labour)   0.7204    0.019  37.487    0.0   0.671   0.770\n",
       "np.log(wage)     0.9214    0.058  16.001    0.0   0.773   1.070"
      ]
     },
     "execution_count": 36,
     "metadata": {},
     "output_type": "execute_result"
    }
   ],
   "source": [
    "# создаём DataFrame\n",
    "df = pd.read_csv(io.StringIO(data), sep='\\s+')\n",
    "df"
   ]
  },
  {
   "cell_type": "code",
   "execution_count": 37,
   "id": "43ef09e8",
   "metadata": {},
   "outputs": [
    {
     "data": {
      "text/html": [
       "<div>\n",
       "<style scoped>\n",
       "    .dataframe tbody tr th:only-of-type {\n",
       "        vertical-align: middle;\n",
       "    }\n",
       "\n",
       "    .dataframe tbody tr th {\n",
       "        vertical-align: top;\n",
       "    }\n",
       "\n",
       "    .dataframe thead th {\n",
       "        text-align: right;\n",
       "    }\n",
       "</style>\n",
       "<table border=\"1\" class=\"dataframe\">\n",
       "  <thead>\n",
       "    <tr style=\"text-align: right;\">\n",
       "      <th></th>\n",
       "      <th>coef</th>\n",
       "      <th>std.err</th>\n",
       "      <th>t</th>\n",
       "      <th>P&gt;|t|</th>\n",
       "      <th>[0.005</th>\n",
       "      <th>0.995]</th>\n",
       "      <th>result</th>\n",
       "    </tr>\n",
       "  </thead>\n",
       "  <tbody>\n",
       "    <tr>\n",
       "      <th>Intercept</th>\n",
       "      <td>-5.0073</td>\n",
       "      <td>0.221</td>\n",
       "      <td>-22.649</td>\n",
       "      <td>0.0</td>\n",
       "      <td>-5.579</td>\n",
       "      <td>-4.436</td>\n",
       "      <td>значимо</td>\n",
       "    </tr>\n",
       "    <tr>\n",
       "      <th>np.log(capital)</th>\n",
       "      <td>0.1493</td>\n",
       "      <td>0.015</td>\n",
       "      <td>10.141</td>\n",
       "      <td>0.0</td>\n",
       "      <td>0.111</td>\n",
       "      <td>0.187</td>\n",
       "      <td>значимо</td>\n",
       "    </tr>\n",
       "    <tr>\n",
       "      <th>np.log(labour)</th>\n",
       "      <td>0.7204</td>\n",
       "      <td>0.019</td>\n",
       "      <td>37.487</td>\n",
       "      <td>0.0</td>\n",
       "      <td>0.671</td>\n",
       "      <td>0.770</td>\n",
       "      <td>значимо</td>\n",
       "    </tr>\n",
       "    <tr>\n",
       "      <th>np.log(wage)</th>\n",
       "      <td>0.9214</td>\n",
       "      <td>0.058</td>\n",
       "      <td>16.001</td>\n",
       "      <td>0.0</td>\n",
       "      <td>0.773</td>\n",
       "      <td>1.070</td>\n",
       "      <td>значимо</td>\n",
       "    </tr>\n",
       "  </tbody>\n",
       "</table>\n",
       "</div>"
      ],
      "text/plain": [
       "                   coef  std.err       t  P>|t|  [0.005  0.995]   result\n",
       "Intercept       -5.0073    0.221 -22.649    0.0  -5.579  -4.436  значимо\n",
       "np.log(capital)  0.1493    0.015  10.141    0.0   0.111   0.187  значимо\n",
       "np.log(labour)   0.7204    0.019  37.487    0.0   0.671   0.770  значимо\n",
       "np.log(wage)     0.9214    0.058  16.001    0.0   0.773   1.070  значимо"
      ]
     },
     "execution_count": 37,
     "metadata": {},
     "output_type": "execute_result"
    }
   ],
   "source": [
    "df['result']=df.apply(lambda x: 'значимо' if abs(x['t'])>t_cr else 'не значимо', axis =1)\n",
    "df"
   ]
  },
  {
   "cell_type": "markdown",
   "id": "c0133efe",
   "metadata": {},
   "source": [
    "### Задание 3.2.1"
   ]
  },
  {
   "cell_type": "markdown",
   "id": "b8310c07",
   "metadata": {},
   "source": [
    "$$\n",
    "H_0 : \\beta_{capital} + \\beta_{labour} + \\beta_{wage} = 1\n",
    "$$\n",
    "$$\n",
    "H_1 : \\beta_{capital} + \\beta_{labour} + \\beta_{wage} ≠ 1\n",
    "$$"
   ]
  },
  {
   "cell_type": "code",
   "execution_count": 38,
   "id": "28ff0b5a",
   "metadata": {},
   "outputs": [],
   "source": [
    "df = pd.read_csv('https://raw.githubusercontent.com/artamonoff/Econometrica/master/python-notebooks/data-csv/Labour.csv')"
   ]
  },
  {
   "cell_type": "code",
   "execution_count": 39,
   "id": "995ca017",
   "metadata": {},
   "outputs": [
    {
     "data": {
      "text/plain": [
       "Intercept        -5.973322\n",
       "np.log(labour)    0.848246\n",
       "np.log(wage)      1.065677\n",
       "dtype: float64"
      ]
     },
     "execution_count": 39,
     "metadata": {},
     "output_type": "execute_result"
    }
   ],
   "source": [
    "fitted_res = smf.ols(data=df, formula='np.log(output)~(1-np.log(labour)-np.log(wage))+np.log(labour)+np.log(wage)').fit()\n",
    "fitted_res.params"
   ]
  },
  {
   "cell_type": "code",
   "execution_count": 40,
   "id": "e952fcaa",
   "metadata": {},
   "outputs": [
    {
     "data": {
      "text/plain": [
       "Intercept         -5.007316\n",
       "np.log(capital)    0.149343\n",
       "np.log(labour)     0.720410\n",
       "np.log(wage)       0.921390\n",
       "dtype: float64"
      ]
     },
     "execution_count": 40,
     "metadata": {},
     "output_type": "execute_result"
    }
   ],
   "source": [
    "fitted = smf.ols(data=df, formula='np.log(output)~np.log(capital)+np.log(labour)+np.log(wage)').fit()\n",
    "fitted.params"
   ]
  },
  {
   "cell_type": "code",
   "execution_count": 41,
   "id": "974779a9",
   "metadata": {},
   "outputs": [
    {
     "data": {
      "text/plain": [
       "0.8680882235383158"
      ]
     },
     "execution_count": 41,
     "metadata": {},
     "output_type": "execute_result"
    }
   ],
   "source": [
    "R2_r = fitted_res.rsquared  # коэффициент детерминации \"короткой регрессии\" \n",
    "R2_r"
   ]
  },
  {
   "cell_type": "code",
   "execution_count": 42,
   "id": "be9a1c62",
   "metadata": {},
   "outputs": [
    {
     "data": {
      "text/plain": [
       "0.8883995592136718"
      ]
     },
     "execution_count": 42,
     "metadata": {},
     "output_type": "execute_result"
    }
   ],
   "source": [
    "R2_ur = fitted.rsquared  # коэффициент детерминации \"длинной регрессии\" \n",
    "R2_ur"
   ]
  },
  {
   "cell_type": "code",
   "execution_count": 43,
   "id": "700b3bc1",
   "metadata": {},
   "outputs": [
    {
     "data": {
      "text/plain": [
       "102.83028073829944"
      ]
     },
     "execution_count": 43,
     "metadata": {},
     "output_type": "execute_result"
    }
   ],
   "source": [
    "n = len(df) #количество наблюдений\n",
    "m = 4 #количество регрессоров\n",
    "F_obs = (R2_ur - R2_r)/(1-R2_ur)*(569-m)/1\n",
    "F_obs"
   ]
  },
  {
   "cell_type": "markdown",
   "id": "1cb2ffdf",
   "metadata": {},
   "source": [
    "#### Руслан Юрьевич, проверьте пожалуйста, правильное ли значение F_obs получается."
   ]
  },
  {
   "cell_type": "code",
   "execution_count": 44,
   "id": "6d1c82d5",
   "metadata": {},
   "outputs": [
    {
     "data": {
      "text/plain": [
       "3.8579698801476354"
      ]
     },
     "execution_count": 44,
     "metadata": {},
     "output_type": "execute_result"
    }
   ],
   "source": [
    "#F критическое: \n",
    "F_cr = stats.f.ppf(1-0.05, 1, 569-4)\n",
    "F_cr"
   ]
  },
  {
   "cell_type": "markdown",
   "id": "04543fcb",
   "metadata": {},
   "source": [
    "### Принимается гипотеза H1. "
   ]
  },
  {
   "cell_type": "markdown",
   "id": "18a10afb",
   "metadata": {},
   "source": [
    "## Задание 3.2.2"
   ]
  },
  {
   "cell_type": "markdown",
   "id": "f5a37d1a",
   "metadata": {},
   "source": [
    "$$\n",
    "H_0 : \\beta_{labour} = \\beta_{wage}\n",
    "$$\n",
    "$$\n",
    "H_1 : \\beta_{labour} ≠ \\beta_{wage}\n",
    "$$"
   ]
  },
  {
   "cell_type": "code",
   "execution_count": 71,
   "id": "f4829760",
   "metadata": {},
   "outputs": [
    {
     "data": {
      "text/plain": [
       "Intercept         -5.007316\n",
       "np.log(capital)    0.149343\n",
       "np.log(labour)     0.720410\n",
       "np.log(wage)       0.921390\n",
       "dtype: float64"
      ]
     },
     "execution_count": 71,
     "metadata": {},
     "output_type": "execute_result"
    }
   ],
   "source": [
    "fitted = smf.ols(data=df, formula='np.log(output)~np.log(capital)+np.log(labour)+np.log(wage)').fit()\n",
    "fitted.params"
   ]
  },
  {
   "cell_type": "code",
   "execution_count": 73,
   "id": "fda9406c",
   "metadata": {},
   "outputs": [
    {
     "data": {
      "text/plain": [
       "array([[11.081]])"
      ]
     },
     "execution_count": 73,
     "metadata": {},
     "output_type": "execute_result"
    }
   ],
   "source": [
    "#явно специфицируем тестируемую гипотезу\n",
    "f_test1 = fitted.f_test( 'np.log(labour)=np.log(wage)' ) \n",
    "f_test1.fvalue.round(3) #будет показано только Fнабл."
   ]
  },
  {
   "cell_type": "code",
   "execution_count": 50,
   "id": "51539926",
   "metadata": {},
   "outputs": [
    {
     "data": {
      "text/plain": [
       "3.8579698801476354"
      ]
     },
     "execution_count": 50,
     "metadata": {},
     "output_type": "execute_result"
    }
   ],
   "source": [
    "F_cr = stats.f.ppf(1-0.05,1,569-4)\n",
    "F_cr"
   ]
  },
  {
   "cell_type": "markdown",
   "id": "a2741f05",
   "metadata": {},
   "source": [
    "$$\n",
    "Принимается \\ гипотеза \\ H1\n",
    "$$"
   ]
  },
  {
   "cell_type": "markdown",
   "id": "9ef8c6c2",
   "metadata": {},
   "source": [
    "## Задание 3.2.3"
   ]
  },
  {
   "cell_type": "markdown",
   "id": "ace65b7e",
   "metadata": {},
   "source": [
    "$$\n",
    "H_0 : \\beta_{labour} = \\beta_{wage} = \\beta_{capital}\n",
    "$$\n",
    "$$\n",
    "H_1 : \\beta_{labour} ≠ \\beta_{wage} ≠ \\beta_{capital}\n",
    "$$"
   ]
  },
  {
   "cell_type": "code",
   "execution_count": 51,
   "id": "80e06026",
   "metadata": {},
   "outputs": [
    {
     "data": {
      "text/plain": [
       "Intercept         -5.007316\n",
       "np.log(capital)    0.149343\n",
       "np.log(labour)     0.720410\n",
       "np.log(wage)       0.921390\n",
       "dtype: float64"
      ]
     },
     "execution_count": 51,
     "metadata": {},
     "output_type": "execute_result"
    }
   ],
   "source": [
    "fitted = smf.ols(data=df, formula='np.log(output)~np.log(capital)+np.log(labour)+np.log(wage)').fit()\n",
    "fitted.params"
   ]
  },
  {
   "cell_type": "code",
   "execution_count": 70,
   "id": "e2efd53c",
   "metadata": {},
   "outputs": [
    {
     "data": {
      "text/plain": [
       "array([[192.36687127]])"
      ]
     },
     "execution_count": 70,
     "metadata": {},
     "output_type": "execute_result"
    }
   ],
   "source": [
    "f_test = fitted.f_test('np.log(capital)=np.log(labour)=np.log(wage)')\n",
    "f_test.fvalue"
   ]
  },
  {
   "cell_type": "code",
   "execution_count": 56,
   "id": "b19d31ae",
   "metadata": {},
   "outputs": [
    {
     "data": {
      "text/plain": [
       "3.011672483767199"
      ]
     },
     "execution_count": 56,
     "metadata": {},
     "output_type": "execute_result"
    }
   ],
   "source": [
    "F_cr = stats.f.ppf(1-0.05,2,569-4)\n",
    "F_cr"
   ]
  },
  {
   "cell_type": "markdown",
   "id": "3f58e368",
   "metadata": {},
   "source": [
    "$$\n",
    "Принимается \\ гипотеза \\ H1\n",
    "$$"
   ]
  },
  {
   "cell_type": "code",
   "execution_count": null,
   "id": "f703bda4",
   "metadata": {},
   "outputs": [],
   "source": []
  }
 ],
 "metadata": {
  "kernelspec": {
   "display_name": "Python 3 (ipykernel)",
   "language": "python",
   "name": "python3"
  },
  "language_info": {
   "codemirror_mode": {
    "name": "ipython",
    "version": 3
   },
   "file_extension": ".py",
   "mimetype": "text/x-python",
   "name": "python",
   "nbconvert_exporter": "python",
   "pygments_lexer": "ipython3",
   "version": "3.9.7"
  }
 },
 "nbformat": 4,
 "nbformat_minor": 5
}
