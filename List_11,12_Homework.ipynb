{
 "cells": [
  {
   "cell_type": "code",
   "execution_count": 1,
   "id": "138f4205",
   "metadata": {},
   "outputs": [],
   "source": [
    "import pandas as pd\n",
    "import numpy as np\n",
    "import statsmodels.formula.api as smf\n",
    "import seaborn as sns\n",
    "import matplotlib.pyplot as plt\n",
    "import scipy.stats as stats"
   ]
  },
  {
   "cell_type": "markdown",
   "id": "6e751767",
   "metadata": {},
   "source": [
    "## List 11 - Гетероскедастичность"
   ]
  },
  {
   "cell_type": "markdown",
   "id": "88a752a7",
   "metadata": {},
   "source": [
    "## Задача 1.2"
   ]
  },
  {
   "cell_type": "code",
   "execution_count": 2,
   "id": "92d47c44",
   "metadata": {},
   "outputs": [],
   "source": [
    "df = pd.read_csv('https://raw.githubusercontent.com/artamonoff/Econometrica/master/python-notebooks/data-csv/wage1.csv')"
   ]
  },
  {
   "cell_type": "code",
   "execution_count": 3,
   "id": "ea640505",
   "metadata": {},
   "outputs": [
    {
     "data": {
      "text/plain": [
       "Intercept        1.250423\n",
       "exper            0.036880\n",
       "I(exper ** 2)   -0.000772\n",
       "female          -0.362740\n",
       "married          0.143784\n",
       "smsa             0.272562\n",
       "dtype: float64"
      ]
     },
     "execution_count": 3,
     "metadata": {},
     "output_type": "execute_result"
    }
   ],
   "source": [
    "model = smf.ols(data = df, formula = 'np.log(wage)~exper+I(exper**2)+female+married+smsa').fit()\n",
    "model.params"
   ]
  },
  {
   "cell_type": "markdown",
   "id": "8135d985",
   "metadata": {},
   "source": [
    "$$\n",
    "Тест \\ Уайта\n",
    "$$\n",
    "\\\n",
    "$$\n",
    "e_i = y_i - \\hat{y_i}\n",
    "$$\n",
    "\\\n",
    "$$\n",
    "e_i^2 = \\gamma_0 + \\gamma_1*totwrk+age+\\gamma_2*I(age**2)+\\gamma_3*male+\\gamma_3*smsa+\\gamma_4*south\n",
    "$$"
   ]
  },
  {
   "cell_type": "code",
   "execution_count": 4,
   "id": "7fd09dfc",
   "metadata": {},
   "outputs": [],
   "source": [
    "# квадраты остатков добавим в датафрейм, воспользовавшись методом '.resid', возвращающий значения остатков\n",
    "df['res2']=model.resid**2\n",
    "df['res']=model.resid"
   ]
  },
  {
   "cell_type": "code",
   "execution_count": 5,
   "id": "d57791ab",
   "metadata": {},
   "outputs": [
    {
     "data": {
      "text/plain": [
       "Intercept        0.158840\n",
       "exper            0.011373\n",
       "I(exper ** 2)   -0.000238\n",
       "female          -0.029665\n",
       "married         -0.063965\n",
       "smsa             0.017782\n",
       "dtype: float64"
      ]
     },
     "execution_count": 5,
     "metadata": {},
     "output_type": "execute_result"
    }
   ],
   "source": [
    "BP_model = smf.ols(data=df, formula='res2~exper+I(exper**2)+female+married+smsa').fit()\n",
    "BP_model.params"
   ]
  },
  {
   "cell_type": "markdown",
   "id": "bd992bd5",
   "metadata": {},
   "source": [
    "$$\n",
    "H_0: \\gamma_1 = \\gamma_2 = \\gamma_3 = \\gamma_4 = \\gamma_5 = 0\n",
    "    $$\\\n",
    "    $$\n",
    "    H_1: \\gamma_1^2 + \\gamma_2^2 + \\gamma_3^2 + \\gamma_4^2 + \\gamma_5^2 > 0\n",
    "    $$"
   ]
  },
  {
   "cell_type": "code",
   "execution_count": 6,
   "id": "914ba428",
   "metadata": {},
   "outputs": [
    {
     "data": {
      "text/plain": [
       "8.939857776687509"
      ]
     },
     "execution_count": 6,
     "metadata": {},
     "output_type": "execute_result"
    }
   ],
   "source": [
    "# Zнабл=n*R^2 и для проверки гипотезы на справедливость имеет распределение хи-квадрат\n",
    "Z_nabl = len(df)*BP_model.rsquared\n",
    "Z_nabl"
   ]
  },
  {
   "cell_type": "code",
   "execution_count": 7,
   "id": "611d041c",
   "metadata": {},
   "outputs": [
    {
     "data": {
      "text/plain": [
       "11.070497693516351"
      ]
     },
     "execution_count": 7,
     "metadata": {},
     "output_type": "execute_result"
    }
   ],
   "source": [
    "Hi2 = stats.chi2.ppf(1-0.05,5)\n",
    "Hi2"
   ]
  },
  {
   "cell_type": "markdown",
   "id": "fdd24032",
   "metadata": {},
   "source": [
    "## Тест указыавет на гомоскедастичность, т.к. $Znabl<Zcrit$"
   ]
  },
  {
   "cell_type": "markdown",
   "id": "20c45277",
   "metadata": {},
   "source": [
    "## Задача 1.3"
   ]
  },
  {
   "cell_type": "code",
   "execution_count": 8,
   "id": "e1296c8a",
   "metadata": {},
   "outputs": [],
   "source": [
    "df = pd.read_csv('https://raw.githubusercontent.com/artamonoff/Econometrica/master/python-notebooks/data-csv/Labour.csv')"
   ]
  },
  {
   "cell_type": "code",
   "execution_count": 9,
   "id": "00ad0770",
   "metadata": {},
   "outputs": [
    {
     "data": {
      "text/plain": [
       "Intercept                 -1.303943\n",
       "np.log(capital)            0.183108\n",
       "np.log(labour)             0.515297\n",
       "I(np.log(capital) ** 2)    0.022748\n",
       "I(np.log(labour) ** 2)     0.020263\n",
       "dtype: float64"
      ]
     },
     "execution_count": 9,
     "metadata": {},
     "output_type": "execute_result"
    }
   ],
   "source": [
    "model = smf.ols(data = df, formula = 'np.log(output)~np.log(capital)+np.log(labour)+I(np.log(capital)**2)+I(np.log(labour)**2)').fit()\n",
    "model.params"
   ]
  },
  {
   "cell_type": "code",
   "execution_count": 10,
   "id": "7a39a4d9",
   "metadata": {},
   "outputs": [],
   "source": [
    "# квадраты остатков добавим в датафрейм, воспользовавшись методом '.resid', возвращающий значения остатков\n",
    "df['res2']=model.resid**2\n",
    "df['res']=model.resid"
   ]
  },
  {
   "cell_type": "code",
   "execution_count": 11,
   "id": "ee737629",
   "metadata": {},
   "outputs": [
    {
     "data": {
      "text/plain": [
       "Intercept                  1.455218\n",
       "np.log(capital)           -0.031399\n",
       "np.log(labour)            -0.497592\n",
       "I(np.log(capital) ** 2)    0.011211\n",
       "I(np.log(labour) ** 2)     0.045165\n",
       "dtype: float64"
      ]
     },
     "execution_count": 11,
     "metadata": {},
     "output_type": "execute_result"
    }
   ],
   "source": [
    "BP_model = smf.ols(data=df, formula='res2~np.log(capital)+np.log(labour)+I(np.log(capital)**2)+I(np.log(labour)**2)').fit()\n",
    "BP_model.params"
   ]
  },
  {
   "cell_type": "code",
   "execution_count": 12,
   "id": "80aaa64e",
   "metadata": {},
   "outputs": [
    {
     "data": {
      "text/plain": [
       "44.53371850842645"
      ]
     },
     "execution_count": 12,
     "metadata": {},
     "output_type": "execute_result"
    }
   ],
   "source": [
    "# Zнабл=n*R^2 и для проверки гипотезы на справедливость имеет распределение хи-квадрат\n",
    "Z_nabl = len(df)*BP_model.rsquared\n",
    "Z_nabl"
   ]
  },
  {
   "cell_type": "code",
   "execution_count": 13,
   "id": "501a2a51",
   "metadata": {},
   "outputs": [
    {
     "data": {
      "text/plain": [
       "9.487729036781154"
      ]
     },
     "execution_count": 13,
     "metadata": {},
     "output_type": "execute_result"
    }
   ],
   "source": [
    "Hi2 = stats.chi2.ppf(1-0.05,4)\n",
    "Hi2"
   ]
  },
  {
   "cell_type": "code",
   "execution_count": 14,
   "id": "4cc98265",
   "metadata": {},
   "outputs": [],
   "source": [
    "df = pd.read_csv('https://raw.githubusercontent.com/artamonoff/Econometrica/master/python-notebooks/data-csv/icecream.csv')"
   ]
  },
  {
   "cell_type": "markdown",
   "id": "149d7f5f",
   "metadata": {},
   "source": [
    "## Тест указывает на гетероскедастичность, принимается гипотеза $H_1$"
   ]
  },
  {
   "cell_type": "markdown",
   "id": "2b50d213",
   "metadata": {},
   "source": [
    "## Задача 1.4"
   ]
  },
  {
   "cell_type": "code",
   "execution_count": 15,
   "id": "0dcea178",
   "metadata": {},
   "outputs": [],
   "source": [
    "df = pd.read_csv('https://raw.githubusercontent.com/artamonoff/Econometrica/master/python-notebooks/data-csv/Electricity.csv')"
   ]
  },
  {
   "cell_type": "code",
   "execution_count": 16,
   "id": "cc89194d",
   "metadata": {},
   "outputs": [
    {
     "data": {
      "text/plain": [
       "Intercept           -6.738661\n",
       "np.log(q)            0.402981\n",
       "np.log(pl)           0.146085\n",
       "I(np.log(q) ** 2)    0.030440\n",
       "np.log(pk)           0.157079\n",
       "np.log(pf)           0.684705\n",
       "dtype: float64"
      ]
     },
     "execution_count": 16,
     "metadata": {},
     "output_type": "execute_result"
    }
   ],
   "source": [
    "model = smf.ols(data = df, formula = 'np.log(cost)~np.log(q)+np.log(pl)+I(np.log(q)**2)+np.log(pk)+np.log(pf)').fit()\n",
    "model.params"
   ]
  },
  {
   "cell_type": "code",
   "execution_count": 17,
   "id": "78d1b95d",
   "metadata": {},
   "outputs": [],
   "source": [
    "# квадраты остатков добавим в датафрейм, воспользовавшись методом '.resid', возвращающий значения остатков\n",
    "df['res2']=model.resid**2\n",
    "df['res']=model.resid"
   ]
  },
  {
   "cell_type": "code",
   "execution_count": 18,
   "id": "a6f5a6b7",
   "metadata": {},
   "outputs": [
    {
     "data": {
      "text/plain": [
       "Intercept           -0.162405\n",
       "np.log(q)           -0.020364\n",
       "np.log(pl)           0.024967\n",
       "I(np.log(q) ** 2)    0.000863\n",
       "np.log(pk)           0.029111\n",
       "np.log(pf)          -0.017827\n",
       "dtype: float64"
      ]
     },
     "execution_count": 18,
     "metadata": {},
     "output_type": "execute_result"
    }
   ],
   "source": [
    "BP_model = smf.ols(data=df, formula='res2~np.log(q)+np.log(pl)+I(np.log(q)**2)+np.log(pk)+np.log(pf)').fit()\n",
    "BP_model.params"
   ]
  },
  {
   "cell_type": "code",
   "execution_count": 19,
   "id": "b48de007",
   "metadata": {},
   "outputs": [
    {
     "data": {
      "text/plain": [
       "45.076181088303315"
      ]
     },
     "execution_count": 19,
     "metadata": {},
     "output_type": "execute_result"
    }
   ],
   "source": [
    "# Zнабл=n*R^2 и для проверки гипотезы на справедливость имеет распределение хи-квадрат\n",
    "Z_nabl = len(df)*BP_model.rsquared\n",
    "Z_nabl"
   ]
  },
  {
   "cell_type": "code",
   "execution_count": 20,
   "id": "e2748827",
   "metadata": {},
   "outputs": [
    {
     "data": {
      "text/plain": [
       "11.070497693516351"
      ]
     },
     "execution_count": 20,
     "metadata": {},
     "output_type": "execute_result"
    }
   ],
   "source": [
    "Hi2 = stats.chi2.ppf(1-0.05,5)\n",
    "Hi2"
   ]
  },
  {
   "cell_type": "markdown",
   "id": "97614ff3",
   "metadata": {},
   "source": [
    "## Тест указывает на гетероскедастичность, принимается гипотеза $H_1$"
   ]
  },
  {
   "cell_type": "markdown",
   "id": "d37a21a2",
   "metadata": {},
   "source": [
    "## Задача 2.2"
   ]
  },
  {
   "cell_type": "code",
   "execution_count": 21,
   "id": "00a32e34",
   "metadata": {},
   "outputs": [
    {
     "data": {
      "text/html": [
       "<table class=\"simpletable\">\n",
       "<tr>\n",
       "          <td></td>             <th>coef</th>     <th>std err</th>      <th>z</th>      <th>P>|z|</th>  <th>[0.005</th>    <th>0.995]</th>  \n",
       "</tr>\n",
       "<tr>\n",
       "  <th>Intercept</th>         <td>   -6.7387</td> <td>    0.847</td> <td>   -7.954</td> <td> 0.000</td> <td>   -8.921</td> <td>   -4.556</td>\n",
       "</tr>\n",
       "<tr>\n",
       "  <th>np.log(q)</th>         <td>    0.4030</td> <td>    0.066</td> <td>    6.086</td> <td> 0.000</td> <td>    0.232</td> <td>    0.574</td>\n",
       "</tr>\n",
       "<tr>\n",
       "  <th>np.log(pl)</th>        <td>    0.1461</td> <td>    0.085</td> <td>    1.711</td> <td> 0.087</td> <td>   -0.074</td> <td>    0.366</td>\n",
       "</tr>\n",
       "<tr>\n",
       "  <th>I(np.log(q) ** 2)</th> <td>    0.0304</td> <td>    0.004</td> <td>    7.419</td> <td> 0.000</td> <td>    0.020</td> <td>    0.041</td>\n",
       "</tr>\n",
       "<tr>\n",
       "  <th>np.log(pk)</th>        <td>    0.1571</td> <td>    0.062</td> <td>    2.522</td> <td> 0.012</td> <td>   -0.003</td> <td>    0.318</td>\n",
       "</tr>\n",
       "<tr>\n",
       "  <th>np.log(pf)</th>        <td>    0.6847</td> <td>    0.052</td> <td>   13.188</td> <td> 0.000</td> <td>    0.551</td> <td>    0.818</td>\n",
       "</tr>\n",
       "</table>"
      ],
      "text/plain": [
       "<class 'statsmodels.iolib.table.SimpleTable'>"
      ]
     },
     "execution_count": 21,
     "metadata": {},
     "output_type": "execute_result"
    }
   ],
   "source": [
    "# состоятельные std err в условиях гетероскедастичности\n",
    "BP_model = smf.ols(data=df, formula='np.log(cost)~np.log(q)+np.log(pl)+I(np.log(q)**2)+np.log(pk)+np.log(pf)').fit(cov_type='HC3')\n",
    "BP_model.summary(alpha=0.01).tables[1]"
   ]
  },
  {
   "cell_type": "code",
   "execution_count": 22,
   "id": "cfea082e",
   "metadata": {},
   "outputs": [
    {
     "data": {
      "text/plain": [
       "2.608560883167519"
      ]
     },
     "execution_count": 22,
     "metadata": {},
     "output_type": "execute_result"
    }
   ],
   "source": [
    "t_cr = stats.t.ppf(1-0.01/2,len(df)-6)\n",
    "t_cr"
   ]
  },
  {
   "cell_type": "markdown",
   "id": "6e626bf0",
   "metadata": {},
   "source": [
    "## Значимы все регрессоры, кроме log(pk) и log(pl)"
   ]
  },
  {
   "cell_type": "markdown",
   "id": "78b1ccb1",
   "metadata": {},
   "source": [
    "## Задача 3.2.1"
   ]
  },
  {
   "cell_type": "code",
   "execution_count": 23,
   "id": "940c6e1f",
   "metadata": {},
   "outputs": [],
   "source": [
    "df['log_pl2']=np.log(df['pl'])**2\n",
    "df['log_pf2']=np.log(df['pf'])**2"
   ]
  },
  {
   "cell_type": "code",
   "execution_count": 24,
   "id": "2e6083fe",
   "metadata": {
    "scrolled": true
   },
   "outputs": [
    {
     "data": {
      "text/html": [
       "<table class=\"simpletable\">\n",
       "<tr>\n",
       "           <td></td>             <th>coef</th>     <th>std err</th>      <th>z</th>      <th>P>|z|</th>  <th>[0.005</th>    <th>0.995]</th>  \n",
       "</tr>\n",
       "<tr>\n",
       "  <th>Intercept</th>          <td>  -44.4035</td> <td>   32.782</td> <td>   -1.354</td> <td> 0.176</td> <td> -128.845</td> <td>   40.038</td>\n",
       "</tr>\n",
       "<tr>\n",
       "  <th>np.log(q)</th>          <td>    0.3963</td> <td>    0.066</td> <td>    5.967</td> <td> 0.000</td> <td>    0.225</td> <td>    0.567</td>\n",
       "</tr>\n",
       "<tr>\n",
       "  <th>I(np.log(q) ** 2)</th>  <td>    0.0309</td> <td>    0.004</td> <td>    7.507</td> <td> 0.000</td> <td>    0.020</td> <td>    0.041</td>\n",
       "</tr>\n",
       "<tr>\n",
       "  <th>np.log(pl)</th>         <td>    8.3334</td> <td>    7.507</td> <td>    1.110</td> <td> 0.267</td> <td>  -11.003</td> <td>   27.670</td>\n",
       "</tr>\n",
       "<tr>\n",
       "  <th>log_pl2</th>            <td>   -0.4554</td> <td>    0.417</td> <td>   -1.091</td> <td> 0.275</td> <td>   -1.530</td> <td>    0.619</td>\n",
       "</tr>\n",
       "<tr>\n",
       "  <th>log_pf2</th>            <td>   -0.0305</td> <td>    0.269</td> <td>   -0.113</td> <td> 0.910</td> <td>   -0.725</td> <td>    0.664</td>\n",
       "</tr>\n",
       "<tr>\n",
       "  <th>I(np.log(pk) ** 2)</th> <td>   -0.0360</td> <td>    0.200</td> <td>   -0.180</td> <td> 0.857</td> <td>   -0.552</td> <td>    0.480</td>\n",
       "</tr>\n",
       "<tr>\n",
       "  <th>np.log(pk)</th>         <td>    0.4362</td> <td>    1.622</td> <td>    0.269</td> <td> 0.788</td> <td>   -3.741</td> <td>    4.614</td>\n",
       "</tr>\n",
       "<tr>\n",
       "  <th>np.log(pf)</th>         <td>    0.8988</td> <td>    1.843</td> <td>    0.488</td> <td> 0.626</td> <td>   -3.847</td> <td>    5.645</td>\n",
       "</tr>\n",
       "</table>"
      ],
      "text/plain": [
       "<class 'statsmodels.iolib.table.SimpleTable'>"
      ]
     },
     "execution_count": 24,
     "metadata": {},
     "output_type": "execute_result"
    }
   ],
   "source": [
    "# состоятельные std err в условиях гетероскедастичности\n",
    "BP_model = smf.ols(data=df, formula='np.log(cost)~np.log(q)+I(np.log(q)**2)+np.log(pl)+log_pl2+log_pf2+I(np.log(pk)**2)+np.log(pk)+np.log(pf)').fit(cov_type='HC3')\n",
    "BP_model.summary(alpha=0.01).tables[1]"
   ]
  },
  {
   "cell_type": "code",
   "execution_count": 25,
   "id": "c2826b55",
   "metadata": {
    "scrolled": false
   },
   "outputs": [
    {
     "data": {
      "text/html": [
       "<table class=\"simpletable\">\n",
       "<tr>\n",
       "           <td></td>             <th>coef</th>     <th>std err</th>      <th>t</th>      <th>P>|t|</th>  <th>[0.005</th>    <th>0.995]</th>  \n",
       "</tr>\n",
       "<tr>\n",
       "  <th>Intercept</th>          <td>  -44.4035</td> <td>   23.432</td> <td>   -1.895</td> <td> 0.060</td> <td> -105.542</td> <td>   16.735</td>\n",
       "</tr>\n",
       "<tr>\n",
       "  <th>np.log(q)</th>          <td>    0.3963</td> <td>    0.032</td> <td>   12.333</td> <td> 0.000</td> <td>    0.312</td> <td>    0.480</td>\n",
       "</tr>\n",
       "<tr>\n",
       "  <th>I(np.log(q) ** 2)</th>  <td>    0.0309</td> <td>    0.002</td> <td>   14.020</td> <td> 0.000</td> <td>    0.025</td> <td>    0.037</td>\n",
       "</tr>\n",
       "<tr>\n",
       "  <th>np.log(pl)</th>         <td>    8.3334</td> <td>    5.330</td> <td>    1.564</td> <td> 0.120</td> <td>   -5.573</td> <td>   22.240</td>\n",
       "</tr>\n",
       "<tr>\n",
       "  <th>log_pl2</th>            <td>   -0.4554</td> <td>    0.297</td> <td>   -1.535</td> <td> 0.127</td> <td>   -1.230</td> <td>    0.319</td>\n",
       "</tr>\n",
       "<tr>\n",
       "  <th>log_pf2</th>            <td>   -0.0305</td> <td>    0.093</td> <td>   -0.329</td> <td> 0.743</td> <td>   -0.272</td> <td>    0.211</td>\n",
       "</tr>\n",
       "<tr>\n",
       "  <th>I(np.log(pk) ** 2)</th> <td>   -0.0360</td> <td>    0.187</td> <td>   -0.192</td> <td> 0.848</td> <td>   -0.525</td> <td>    0.453</td>\n",
       "</tr>\n",
       "<tr>\n",
       "  <th>np.log(pk)</th>         <td>    0.4362</td> <td>    1.522</td> <td>    0.287</td> <td> 0.775</td> <td>   -3.536</td> <td>    4.408</td>\n",
       "</tr>\n",
       "<tr>\n",
       "  <th>np.log(pf)</th>         <td>    0.8988</td> <td>    0.616</td> <td>    1.459</td> <td> 0.147</td> <td>   -0.709</td> <td>    2.507</td>\n",
       "</tr>\n",
       "</table>"
      ],
      "text/plain": [
       "<class 'statsmodels.iolib.table.SimpleTable'>"
      ]
     },
     "execution_count": 25,
     "metadata": {},
     "output_type": "execute_result"
    }
   ],
   "source": [
    "# состоятельные std err в условиях гетероскедастичности\n",
    "model = smf.ols(data=df, formula='np.log(cost)~np.log(q)+I(np.log(q)**2)+np.log(pl)+log_pl2+log_pf2+I(np.log(pk)**2)+np.log(pk)+np.log(pf)').fit()\n",
    "model.summary(alpha=0.01).tables[1]"
   ]
  },
  {
   "cell_type": "code",
   "execution_count": 26,
   "id": "687ee197",
   "metadata": {},
   "outputs": [
    {
     "data": {
      "text/plain": [
       "array([[3.47970133]])"
      ]
     },
     "execution_count": 26,
     "metadata": {},
     "output_type": "execute_result"
    }
   ],
   "source": [
    "f_test1 = model.f_test( 'np.log(pl)=log_pl2=0' ) \n",
    "f_test1.fvalue #будет показано только Fнабл"
   ]
  },
  {
   "cell_type": "code",
   "execution_count": 27,
   "id": "6f392538",
   "metadata": {},
   "outputs": [
    {
     "data": {
      "text/plain": [
       "array([[1.97801397]])"
      ]
     },
     "execution_count": 27,
     "metadata": {},
     "output_type": "execute_result"
    }
   ],
   "source": [
    "f_test = BP_model.f_test( 'np.log(pl)=log_pl2=0' ) \n",
    "f_test.fvalue #будет показано только Fнабл."
   ]
  },
  {
   "cell_type": "code",
   "execution_count": 28,
   "id": "e88a2d87",
   "metadata": {},
   "outputs": [
    {
     "data": {
      "text/plain": [
       "3.05677872616665"
      ]
     },
     "execution_count": 28,
     "metadata": {},
     "output_type": "execute_result"
    }
   ],
   "source": [
    "F_cr = stats.f.ppf(1-0.05, 2, len(df)-9)\n",
    "F_cr"
   ]
  },
  {
   "cell_type": "markdown",
   "id": "05b1935c",
   "metadata": {},
   "source": [
    "## Влияние коэффициентов незначимо. А ведь неробастный тест показывал обратное! Значит, эти коэффициенты влияют лишь на разброс, но не предсказывают значение $log(cost)$."
   ]
  },
  {
   "cell_type": "markdown",
   "id": "d8b6137b",
   "metadata": {},
   "source": [
    "## Задача 3.2.3"
   ]
  },
  {
   "cell_type": "code",
   "execution_count": 29,
   "id": "d8c9ba7e",
   "metadata": {},
   "outputs": [
    {
     "data": {
      "text/plain": [
       "array([[129.37367052]])"
      ]
     },
     "execution_count": 29,
     "metadata": {},
     "output_type": "execute_result"
    }
   ],
   "source": [
    "f_test1 = model.f_test( 'np.log(pf)=log_pf2=0' ) \n",
    "f_test1.fvalue #будет показано только Fнабл"
   ]
  },
  {
   "cell_type": "code",
   "execution_count": 30,
   "id": "464b66ad",
   "metadata": {
    "scrolled": true
   },
   "outputs": [
    {
     "data": {
      "text/plain": [
       "array([[79.13102107]])"
      ]
     },
     "execution_count": 30,
     "metadata": {},
     "output_type": "execute_result"
    }
   ],
   "source": [
    "f_test = BP_model.f_test( 'np.log(pf)=log_pf2=0' ) \n",
    "f_test.fvalue #будет показано только Fнабл."
   ]
  },
  {
   "cell_type": "markdown",
   "id": "3b636e12",
   "metadata": {},
   "source": [
    "## Влияние коэффициентов значимо."
   ]
  },
  {
   "cell_type": "markdown",
   "id": "10411b90",
   "metadata": {},
   "source": [
    "$$\n",
    "------------------------------------------------------\n",
    "$$"
   ]
  },
  {
   "cell_type": "markdown",
   "id": "d31e1dc5",
   "metadata": {},
   "source": [
    "# List 12 - Автокорреляция"
   ]
  },
  {
   "cell_type": "markdown",
   "id": "36046a19",
   "metadata": {},
   "source": [
    "## Задача 1.1"
   ]
  },
  {
   "cell_type": "code",
   "execution_count": 41,
   "id": "1573d928",
   "metadata": {},
   "outputs": [],
   "source": [
    "df = pd.read_csv('https://raw.githubusercontent.com/artamonoff/Econometrica/master/python-notebooks/data-csv/icecream.csv')"
   ]
  },
  {
   "cell_type": "code",
   "execution_count": 47,
   "id": "30b74104",
   "metadata": {},
   "outputs": [
    {
     "data": {
      "text/plain": [
       "Intercept    0.197315\n",
       "income       0.003308\n",
       "price       -1.044413\n",
       "temp         0.003458\n",
       "dtype: float64"
      ]
     },
     "execution_count": 47,
     "metadata": {},
     "output_type": "execute_result"
    }
   ],
   "source": [
    "model = smf.ols(data=df, formula = 'cons~income+price+temp').fit()\n",
    "model.params"
   ]
  },
  {
   "cell_type": "markdown",
   "id": "62ea545e",
   "metadata": {},
   "source": [
    "$$\n",
    "cons_t = \\beta_0 + \\beta_1*price + \\beta_2*temp + \\beta_3*income\n",
    "$$"
   ]
  },
  {
   "cell_type": "markdown",
   "id": "c4f3a372",
   "metadata": {},
   "source": [
    "$Предположим, что \\ зависимость \\ ошибок \\ имеет \\ вид:$\n",
    "$$ u_t = u_0 + \\rho*u_{t-1} $$"
   ]
  },
  {
   "cell_type": "markdown",
   "id": "e9e563b1",
   "metadata": {},
   "source": [
    "$$\n",
    "H_0: \\rho=0\n",
    "    $$\n",
    "    $$\n",
    "H_1: \\rho\\neq 0\n",
    "    $$"
   ]
  },
  {
   "cell_type": "code",
   "execution_count": 48,
   "id": "59ecfa43",
   "metadata": {},
   "outputs": [],
   "source": [
    "res_sum = sum(model.resid**2)"
   ]
  },
  {
   "cell_type": "code",
   "execution_count": 49,
   "id": "71fdc223",
   "metadata": {},
   "outputs": [],
   "source": [
    "# Вычислим числитель\n",
    "sum_resid = 0\n",
    "#запускаем цикл\n",
    "for i in range(len(model.resid)-1):\n",
    "    sum_resid+=(model.resid[i+1]-model.resid[i])**2"
   ]
  },
  {
   "cell_type": "code",
   "execution_count": 50,
   "id": "6f5cddff",
   "metadata": {
    "scrolled": true
   },
   "outputs": [
    {
     "data": {
      "text/plain": [
       "1.0211693122833825"
      ]
     },
     "execution_count": 50,
     "metadata": {},
     "output_type": "execute_result"
    }
   ],
   "source": [
    "sum_resid/res_sum"
   ]
  },
  {
   "cell_type": "markdown",
   "id": "150d88ab",
   "metadata": {},
   "source": [
    "## $DW<d1$, следовательно, гипотеза $H_0$ отвергается, наблюдается положительная корреляция"
   ]
  },
  {
   "cell_type": "markdown",
   "id": "12f4ebed",
   "metadata": {},
   "source": [
    "## Задача 3.1"
   ]
  },
  {
   "cell_type": "code",
   "execution_count": 55,
   "id": "2d7304b0",
   "metadata": {},
   "outputs": [
    {
     "data": {
      "text/html": [
       "<table class=\"simpletable\">\n",
       "<tr>\n",
       "      <td></td>         <th>coef</th>     <th>std err</th>      <th>z</th>      <th>P>|z|</th>  <th>[0.005</th>    <th>0.995]</th>  \n",
       "</tr>\n",
       "<tr>\n",
       "  <th>Intercept</th> <td>    0.1973</td> <td>    0.318</td> <td>    0.620</td> <td> 0.535</td> <td>   -0.622</td> <td>    1.017</td>\n",
       "</tr>\n",
       "<tr>\n",
       "  <th>income</th>    <td>    0.0033</td> <td>    0.001</td> <td>    2.573</td> <td> 0.010</td> <td>-3.02e-06</td> <td>    0.007</td>\n",
       "</tr>\n",
       "<tr>\n",
       "  <th>price</th>     <td>   -1.0444</td> <td>    1.010</td> <td>   -1.034</td> <td> 0.301</td> <td>   -3.646</td> <td>    1.557</td>\n",
       "</tr>\n",
       "<tr>\n",
       "  <th>temp</th>      <td>    0.0035</td> <td>    0.001</td> <td>    6.866</td> <td> 0.000</td> <td>    0.002</td> <td>    0.005</td>\n",
       "</tr>\n",
       "</table>"
      ],
      "text/plain": [
       "<class 'statsmodels.iolib.table.SimpleTable'>"
      ]
     },
     "execution_count": 55,
     "metadata": {},
     "output_type": "execute_result"
    }
   ],
   "source": [
    "# состоятельные HAC-s.e. в условиях гетероскедастичности\n",
    "model = smf.ols(data=df, formula = 'cons~income+price+temp').fit(cov_type='HC3')\n",
    "model.summary(alpha=0.01).tables[1]"
   ]
  },
  {
   "cell_type": "code",
   "execution_count": 56,
   "id": "34aef56a",
   "metadata": {},
   "outputs": [
    {
     "data": {
      "text/plain": [
       "2.7787145333289134"
      ]
     },
     "execution_count": 56,
     "metadata": {},
     "output_type": "execute_result"
    }
   ],
   "source": [
    "t_cr = stats.t.ppf(1-0.01/2, len(df)-4)\n",
    "t_cr"
   ]
  },
  {
   "cell_type": "markdown",
   "id": "8fb9059a",
   "metadata": {},
   "source": [
    "## Значим лишь коеффициент при $temp$"
   ]
  },
  {
   "cell_type": "code",
   "execution_count": null,
   "id": "4be8d7a9",
   "metadata": {},
   "outputs": [],
   "source": []
  },
  {
   "cell_type": "markdown",
   "id": "beb34314",
   "metadata": {},
   "source": [
    "## Задача 1.2"
   ]
  },
  {
   "cell_type": "code",
   "execution_count": 36,
   "id": "41370971",
   "metadata": {},
   "outputs": [],
   "source": [
    "df = pd.read_csv('https://raw.githubusercontent.com/artamonoff/Econometrica/master/python-notebooks/data-csv/Consumption.csv')"
   ]
  },
  {
   "cell_type": "code",
   "execution_count": 37,
   "id": "a9fca050",
   "metadata": {},
   "outputs": [
    {
     "data": {
      "text/plain": [
       "Intercept    -0.392351\n",
       "np.log(ce)    1.041314\n",
       "dtype: float64"
      ]
     },
     "execution_count": 37,
     "metadata": {},
     "output_type": "execute_result"
    }
   ],
   "source": [
    "model = smf.ols(data=df, formula = 'np.log(yd)~np.log(ce)').fit()\n",
    "model.params"
   ]
  },
  {
   "cell_type": "markdown",
   "id": "2e50dbb4",
   "metadata": {},
   "source": [
    "#### Не понял, как в модель добавить \"дельту\", чтобы учесть изменения предыдущих периодов. "
   ]
  },
  {
   "cell_type": "code",
   "execution_count": 38,
   "id": "4761ed6c",
   "metadata": {},
   "outputs": [],
   "source": [
    "res_sum = sum(model.resid**2)"
   ]
  },
  {
   "cell_type": "code",
   "execution_count": 39,
   "id": "6712bab3",
   "metadata": {},
   "outputs": [],
   "source": [
    "# Вычислим числитель\n",
    "sum_resid = 0\n",
    "#запускаем цикл\n",
    "for i in range(len(model.resid)-1):\n",
    "    sum_resid+=(model.resid[i+1]-model.resid[i])**2"
   ]
  },
  {
   "cell_type": "code",
   "execution_count": 40,
   "id": "b152d6b7",
   "metadata": {},
   "outputs": [
    {
     "data": {
      "text/plain": [
       "0.1871700336977041"
      ]
     },
     "execution_count": 40,
     "metadata": {},
     "output_type": "execute_result"
    }
   ],
   "source": [
    "sum_resid/res_sum"
   ]
  },
  {
   "cell_type": "code",
   "execution_count": null,
   "id": "fb7e63bb",
   "metadata": {},
   "outputs": [],
   "source": []
  }
 ],
 "metadata": {
  "kernelspec": {
   "display_name": "Python 3 (ipykernel)",
   "language": "python",
   "name": "python3"
  },
  "language_info": {
   "codemirror_mode": {
    "name": "ipython",
    "version": 3
   },
   "file_extension": ".py",
   "mimetype": "text/x-python",
   "name": "python",
   "nbconvert_exporter": "python",
   "pygments_lexer": "ipython3",
   "version": "3.9.7"
  }
 },
 "nbformat": 4,
 "nbformat_minor": 5
}
